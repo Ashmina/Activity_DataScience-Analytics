{
 "cells": [
  {
   "cell_type": "markdown",
   "id": "b944e07c",
   "metadata": {},
   "source": [
    "# <u>Python code for generating random passwords</u>"
   ]
  },
  {
   "cell_type": "markdown",
   "id": "3e6183da",
   "metadata": {},
   "source": [
    "**1.Importing modules**"
   ]
  },
  {
   "cell_type": "code",
   "execution_count": 1,
   "id": "53955b1b",
   "metadata": {},
   "outputs": [],
   "source": [
    "import random"
   ]
  },
  {
   "cell_type": "markdown",
   "id": "813eaa90",
   "metadata": {},
   "source": [
    "**2.Initialising variables**"
   ]
  },
  {
   "cell_type": "code",
   "execution_count": 2,
   "id": "80853178",
   "metadata": {},
   "outputs": [],
   "source": [
    "collocation_dict = {\"Good\":[\"Person\",\"Friend\",\"Food\",\"Rain\",\"Habit\",\"Mood\"],\"Nice\":[\"Job\",\"Time\"],\"Heavy\":[\"Rain\",\"Sleeper\",\"Traffic\",\"Snow\",\"Workload\"],\"Bad\":[\"Habit\",\"Friend\",\"Mood\",\"Words\",\"Temper\"],\"Balanced\":[\"Diet\",\"Team\",\"Budget\",\"Force\"],\"Brave\":[\"Soldier\",\"Lady\",\"Boy\",\"Girl\",\"Smile\",\"Fight\",\"Attempt\"],\"Dangerous\":[\"Criminal\",\"Cliff\"],\"Natural\":[\"Disaster\",\"Calamity\",\"Events\"],\"Cute\":[\"Baby\",\"Puppy\",\"Flowers\",\"Panda\",\"Giraffe\",\"Squirrel\"]}\n",
    "symbols = [\"?\",\"!\"]"
   ]
  },
  {
   "cell_type": "markdown",
   "id": "823d3b8f",
   "metadata": {},
   "source": [
    "**3.Function for generating Password**"
   ]
  },
  {
   "cell_type": "code",
   "execution_count": 3,
   "id": "c82f1876",
   "metadata": {},
   "outputs": [],
   "source": [
    "def pswd_generator(dictionary,symbols):\n",
    "    adjective = random.choice(list(dictionary))\n",
    "    noun = random.choice(dictionary[adjective])\n",
    "    symbol = random.choice(symbols)\n",
    "    number = random.randint(0,99)\n",
    "    pswd = adjective + noun + str(number) + symbol\n",
    "    return pswd"
   ]
  },
  {
   "cell_type": "markdown",
   "id": "907f015f",
   "metadata": {},
   "source": [
    "**4.Calling Function**"
   ]
  },
  {
   "cell_type": "code",
   "execution_count": 4,
   "id": "732cf684",
   "metadata": {},
   "outputs": [
    {
     "name": "stdout",
     "output_type": "stream",
     "text": [
      "Password is BraveFight58?\n"
     ]
    }
   ],
   "source": [
    "password = pswd_generator(collocation_dict,symbols)\n",
    "print(\"Password is\",password)"
   ]
  },
  {
   "cell_type": "code",
   "execution_count": null,
   "id": "b760c742",
   "metadata": {},
   "outputs": [],
   "source": []
  }
 ],
 "metadata": {
  "kernelspec": {
   "display_name": "Python 3",
   "language": "python",
   "name": "python3"
  },
  "language_info": {
   "codemirror_mode": {
    "name": "ipython",
    "version": 3
   },
   "file_extension": ".py",
   "mimetype": "text/x-python",
   "name": "python",
   "nbconvert_exporter": "python",
   "pygments_lexer": "ipython3",
   "version": "3.8.8"
  }
 },
 "nbformat": 4,
 "nbformat_minor": 5
}
