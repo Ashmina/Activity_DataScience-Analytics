{
 "cells": [
  {
   "cell_type": "markdown",
   "id": "065d6b7a",
   "metadata": {},
   "source": [
    "## Python code for Animal Quiz Game"
   ]
  },
  {
   "cell_type": "markdown",
   "id": "26c82360",
   "metadata": {},
   "source": [
    "**1.Importing modules**"
   ]
  },
  {
   "cell_type": "code",
   "execution_count": 1,
   "id": "860b73fe",
   "metadata": {},
   "outputs": [],
   "source": [
    "import random"
   ]
  },
  {
   "cell_type": "markdown",
   "id": "89e8075a",
   "metadata": {},
   "source": [
    "**2.Initialising global variables**"
   ]
  },
  {
   "cell_type": "code",
   "execution_count": 2,
   "id": "9fd25b31",
   "metadata": {},
   "outputs": [],
   "source": [
    "score = 0\n",
    "questions_dict = {\"Which is the largest animal?\":\"Blue whale\",\"Which is the smallest bird?\":\"Hummingbird\",\"Which is the fastest land animal?\":\"Cheetah\",\"Which is the largest land animal?\":\"Elephant\",\"Which is the tallest living animal?\":\"Giraffe\",\"Which was the first animal to go into space?\":\"Dog\",\"Which is the largest bird alive?\":\"Ostrich\",\"Which bird can fly backwards?\":\"Hummingbird\",\"Which is the only flying mammal in earth?\":\"Bat\"} \n",
    "asked_qstns = []#to keep track of asked questions\n",
    "quit = False #to determine when to end the code execution"
   ]
  },
  {
   "cell_type": "markdown",
   "id": "8880a91a",
   "metadata": {},
   "source": [
    "**3.Function to print questions randomly**"
   ]
  },
  {
   "cell_type": "code",
   "execution_count": 3,
   "id": "53a74133",
   "metadata": {},
   "outputs": [],
   "source": [
    "def ask_question():\n",
    "    qstn = \" \".join(random.sample(list(questions_dict),1))#a random question is selected\n",
    "    global asked_qstns\n",
    "    if qstn not in asked_qstns:#Makes sure that no question is repeated\n",
    "        ans = input(qstn).upper()#asks a new question and reads the input\n",
    "        asked_qstns.append(qstn)#adds the newly asked qstn into the asked questions' list\n",
    "        ans_count = 0 #to keep track of the wrong attempts\n",
    "        return check_answer(qstn,ans,ans_count)\n",
    "    elif (len(asked_qstns)<len(questions_dict)):#asks questions till all the questions in questions_dict is asked\n",
    "        ask_question()\n",
    "    else: #ends the program execution if all the questions are asked\n",
    "        global quit\n",
    "        quit = True\n",
    "    "
   ]
  },
  {
   "cell_type": "markdown",
   "id": "6e08875e",
   "metadata": {},
   "source": [
    "**4.Function that checks answer** "
   ]
  },
  {
   "cell_type": "code",
   "execution_count": 4,
   "id": "effdbe2b",
   "metadata": {},
   "outputs": [],
   "source": [
    "def check_answer(q,a,ans_count):\n",
    "    if (a == \"QUIT\"):#ends program execution if user inputs \"Quit\"\n",
    "        global quit\n",
    "        quit = True\n",
    "    else:\n",
    "        ans_count += 1 #increments every time when user answers irrespective of wrong/right answer \n",
    "        if(questions_dict[q].upper() == a):#checks whether the user's input matches with the corresponding question's answer in questions_dict\n",
    "            print(\"Correct Answer\")\n",
    "            global score\n",
    "            score += 1 #user's score is incremented\n",
    "        elif(ans_count<3):#makes sure that user guesses only 3 times per question\n",
    "            a = input(\"Sorry, wrong answer. Try again. \").upper()\n",
    "            check_answer(q,a,ans_count)\n",
    "        else:#if the 3 guesses for an answer are wrong,correct answer is displayed\n",
    "            print(\"The correct answer is\",questions_dict[q])"
   ]
  },
  {
   "cell_type": "markdown",
   "id": "c935b148",
   "metadata": {},
   "source": [
    "**5.Main code**"
   ]
  },
  {
   "cell_type": "code",
   "execution_count": 5,
   "id": "e4388baa",
   "metadata": {},
   "outputs": [
    {
     "name": "stdout",
     "output_type": "stream",
     "text": [
      "Guess the Animal! (Type Quit to end the game)\n",
      "Which is the only flying mammal in earth?bat\n",
      "Correct Answer\n",
      "Which was the first animal to go into space?cat\n",
      "Sorry, wrong answer. Try again. rat\n",
      "Sorry, wrong answer. Try again. lion\n",
      "The correct answer is Dog\n",
      "Which is the tallest living animal?horse\n",
      "Sorry, wrong answer. Try again. giraffe\n",
      "Correct Answer\n",
      "Which is the largest animal?blue whale\n",
      "Correct Answer\n",
      "Which is the smallest bird?sparrow\n",
      "Sorry, wrong answer. Try again. quit\n",
      "Your score is 3 out of 4\n"
     ]
    }
   ],
   "source": [
    "print(\"Guess the Animal! (Type Quit to end the game)\")\n",
    "for i in range(len(questions_dict)):\n",
    "    if quit == True:\n",
    "        break\n",
    "    ask_question()\n",
    "else:#all the questions in the questions_dict are asked\n",
    "    print(\"sorry!! No more questions are left.\")\n",
    "print(\"Your score is\",score,\"out of\",len(asked_qstns)-1)   "
   ]
  },
  {
   "cell_type": "code",
   "execution_count": null,
   "id": "9ea78889",
   "metadata": {},
   "outputs": [],
   "source": []
  }
 ],
 "metadata": {
  "kernelspec": {
   "display_name": "Python 3",
   "language": "python",
   "name": "python3"
  },
  "language_info": {
   "codemirror_mode": {
    "name": "ipython",
    "version": 3
   },
   "file_extension": ".py",
   "mimetype": "text/x-python",
   "name": "python",
   "nbconvert_exporter": "python",
   "pygments_lexer": "ipython3",
   "version": "3.8.8"
  }
 },
 "nbformat": 4,
 "nbformat_minor": 5
}
