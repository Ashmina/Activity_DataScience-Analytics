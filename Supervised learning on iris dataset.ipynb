{
 "cells": [
  {
   "cell_type": "markdown",
   "id": "f0c026e6",
   "metadata": {},
   "source": [
    "# Classification of iris flower data using Supervised learning models"
   ]
  },
  {
   "cell_type": "markdown",
   "id": "9c91447a",
   "metadata": {},
   "source": [
    "## Submitted by *Ashmina T.*"
   ]
  },
  {
   "cell_type": "markdown",
   "id": "4aecaca7",
   "metadata": {},
   "source": [
    "**Objective:** To do the following on the iris dataset.\n",
    "1. Read the dataset to the python environment.\n",
    "2. Do necessary pre-processing steps.\n",
    "3. Find out which classification model gives the best result to predict iris\n",
    "species.(also do random forest algorithm)"
   ]
  },
  {
   "cell_type": "code",
   "execution_count": 1,
   "id": "f0beb86a",
   "metadata": {},
   "outputs": [],
   "source": [
    "#importing libraries\n",
    "import numpy as np\n",
    "import pandas as pd\n",
    "import matplotlib.pyplot as plt\n",
    "import seaborn as sns\n",
    "from sklearn import preprocessing"
   ]
  },
  {
   "cell_type": "markdown",
   "id": "26f8bbce",
   "metadata": {},
   "source": [
    "### 1. Read the dataset to the python environment."
   ]
  },
  {
   "cell_type": "code",
   "execution_count": 2,
   "id": "6a786725",
   "metadata": {},
   "outputs": [],
   "source": [
    "#loading the dataset\n",
    "iris_data = pd.read_excel('iris.xls')"
   ]
  },
  {
   "cell_type": "code",
   "execution_count": 3,
   "id": "19f46a4d",
   "metadata": {},
   "outputs": [
    {
     "data": {
      "text/html": [
       "<div>\n",
       "<style scoped>\n",
       "    .dataframe tbody tr th:only-of-type {\n",
       "        vertical-align: middle;\n",
       "    }\n",
       "\n",
       "    .dataframe tbody tr th {\n",
       "        vertical-align: top;\n",
       "    }\n",
       "\n",
       "    .dataframe thead th {\n",
       "        text-align: right;\n",
       "    }\n",
       "</style>\n",
       "<table border=\"1\" class=\"dataframe\">\n",
       "  <thead>\n",
       "    <tr style=\"text-align: right;\">\n",
       "      <th></th>\n",
       "      <th>SL</th>\n",
       "      <th>SW</th>\n",
       "      <th>PL</th>\n",
       "      <th>PW</th>\n",
       "      <th>Classification</th>\n",
       "    </tr>\n",
       "  </thead>\n",
       "  <tbody>\n",
       "    <tr>\n",
       "      <th>0</th>\n",
       "      <td>5.1</td>\n",
       "      <td>3.5</td>\n",
       "      <td>1.4</td>\n",
       "      <td>0.2</td>\n",
       "      <td>Iris-setosa</td>\n",
       "    </tr>\n",
       "    <tr>\n",
       "      <th>1</th>\n",
       "      <td>4.9</td>\n",
       "      <td>3.0</td>\n",
       "      <td>1.4</td>\n",
       "      <td>0.2</td>\n",
       "      <td>Iris-setosa</td>\n",
       "    </tr>\n",
       "    <tr>\n",
       "      <th>2</th>\n",
       "      <td>NaN</td>\n",
       "      <td>3.2</td>\n",
       "      <td>1.3</td>\n",
       "      <td>0.2</td>\n",
       "      <td>Iris-setosa</td>\n",
       "    </tr>\n",
       "    <tr>\n",
       "      <th>3</th>\n",
       "      <td>4.6</td>\n",
       "      <td>3.1</td>\n",
       "      <td>1.5</td>\n",
       "      <td>0.2</td>\n",
       "      <td>Iris-setosa</td>\n",
       "    </tr>\n",
       "    <tr>\n",
       "      <th>4</th>\n",
       "      <td>5.0</td>\n",
       "      <td>3.6</td>\n",
       "      <td>1.4</td>\n",
       "      <td>0.2</td>\n",
       "      <td>Iris-setosa</td>\n",
       "    </tr>\n",
       "  </tbody>\n",
       "</table>\n",
       "</div>"
      ],
      "text/plain": [
       "    SL   SW   PL   PW Classification\n",
       "0  5.1  3.5  1.4  0.2    Iris-setosa\n",
       "1  4.9  3.0  1.4  0.2    Iris-setosa\n",
       "2  NaN  3.2  1.3  0.2    Iris-setosa\n",
       "3  4.6  3.1  1.5  0.2    Iris-setosa\n",
       "4  5.0  3.6  1.4  0.2    Iris-setosa"
      ]
     },
     "execution_count": 3,
     "metadata": {},
     "output_type": "execute_result"
    }
   ],
   "source": [
    "#displaying first 5 rows\n",
    "iris_data.head()"
   ]
  },
  {
   "cell_type": "code",
   "execution_count": 4,
   "id": "94e56900",
   "metadata": {},
   "outputs": [
    {
     "data": {
      "text/plain": [
       "(150, 5)"
      ]
     },
     "execution_count": 4,
     "metadata": {},
     "output_type": "execute_result"
    }
   ],
   "source": [
    "#shape of the dataset\n",
    "iris_data.shape"
   ]
  },
  {
   "cell_type": "markdown",
   "id": "4930c496",
   "metadata": {},
   "source": [
    "There are 150 rows and 5 columns in the dataset."
   ]
  },
  {
   "cell_type": "code",
   "execution_count": 5,
   "id": "a0a5d944",
   "metadata": {},
   "outputs": [
    {
     "name": "stdout",
     "output_type": "stream",
     "text": [
      "<class 'pandas.core.frame.DataFrame'>\n",
      "RangeIndex: 150 entries, 0 to 149\n",
      "Data columns (total 5 columns):\n",
      " #   Column          Non-Null Count  Dtype  \n",
      "---  ------          --------------  -----  \n",
      " 0   SL              143 non-null    float64\n",
      " 1   SW              144 non-null    float64\n",
      " 2   PL              144 non-null    float64\n",
      " 3   PW              150 non-null    float64\n",
      " 4   Classification  150 non-null    object \n",
      "dtypes: float64(4), object(1)\n",
      "memory usage: 6.0+ KB\n"
     ]
    }
   ],
   "source": [
    "#getting concise summary of the datset\n",
    "iris_data.info()"
   ]
  },
  {
   "cell_type": "markdown",
   "id": "21f71e15",
   "metadata": {},
   "source": [
    ">The 5 columns in the iris datset are 'SL'(Sepal Length), 'SW'(Sepal Width), 'PL'(Petal Length), 'PW'(Petal Width), and 'Classification'.  \n",
    "All the columns are of type float except the column 'Classification' which is of type object.  \n",
    "Only two columns are having 150 non-null values. Other columns contains some null values."
   ]
  },
  {
   "cell_type": "code",
   "execution_count": 6,
   "id": "aed14ae3",
   "metadata": {},
   "outputs": [
    {
     "data": {
      "text/plain": [
       "Iris-versicolor    50\n",
       "Iris-setosa        50\n",
       "Iris-virginica     50\n",
       "Name: Classification, dtype: int64"
      ]
     },
     "execution_count": 6,
     "metadata": {},
     "output_type": "execute_result"
    }
   ],
   "source": [
    "#checking class distribution\n",
    "iris_data['Classification'].value_counts()"
   ]
  },
  {
   "cell_type": "markdown",
   "id": "1d243937",
   "metadata": {},
   "source": [
    "The dataset contains features of three species of Iris flower (Iris-setosa, Iris-versicolor, Iris-virginica). The total records is 150 and each class is having 50 records."
   ]
  },
  {
   "cell_type": "markdown",
   "id": "4967542d",
   "metadata": {},
   "source": [
    "### 2. Do necessary pre-processing steps."
   ]
  },
  {
   "cell_type": "code",
   "execution_count": 7,
   "id": "e1101663",
   "metadata": {},
   "outputs": [
    {
     "data": {
      "text/plain": [
       "SL                7\n",
       "SW                6\n",
       "PL                6\n",
       "PW                0\n",
       "Classification    0\n",
       "dtype: int64"
      ]
     },
     "execution_count": 7,
     "metadata": {},
     "output_type": "execute_result"
    }
   ],
   "source": [
    "#checking for null values\n",
    "iris_data.isna().sum()"
   ]
  },
  {
   "cell_type": "markdown",
   "id": "1afdb5ea",
   "metadata": {},
   "source": [
    "There are 19 missing values in the iris dataset. 7 in 'SL' column and 6 each in 'SW' and 'PL' columns."
   ]
  },
  {
   "cell_type": "markdown",
   "id": "a4a95f63",
   "metadata": {},
   "source": [
    "#### Handling Missing Data"
   ]
  },
  {
   "cell_type": "markdown",
   "id": "7d3da66c",
   "metadata": {},
   "source": [
    "Missing data can be handled in two ways:  \n",
    "1. Removing rows/columns with missing data.  \n",
    "2. Replacing missing values with some non-null values.  \n",
    "\n",
    "As our dataset is so small, we can't delete the records with missing values. So we have to substitute the missing values with some values.  \n",
    "We can impute missing values using sci-kit learn's iterative imputer class."
   ]
  },
  {
   "cell_type": "code",
   "execution_count": 8,
   "id": "b2836c56",
   "metadata": {},
   "outputs": [
    {
     "data": {
      "text/plain": [
       "array([0, 1, 2])"
      ]
     },
     "execution_count": 8,
     "metadata": {},
     "output_type": "execute_result"
    }
   ],
   "source": [
    "#label encoding on Classification column\n",
    "label_encoder = preprocessing.LabelEncoder()\n",
    "iris_data['Classification'] = label_encoder.fit_transform(iris_data['Classification'])\n",
    "#checking if the label encoding worked or not\n",
    "iris_data['Classification'].unique()"
   ]
  },
  {
   "cell_type": "markdown",
   "id": "f1194630",
   "metadata": {},
   "source": [
    "Label encoding is done perfectly. 0 indicates the species 'Iris-setosa', 1 indicates the species 'Iris-virginica', and 2 indicates the species 'Iris-versicolor'."
   ]
  },
  {
   "cell_type": "code",
   "execution_count": 9,
   "id": "f98718dc",
   "metadata": {},
   "outputs": [],
   "source": [
    "#iterative imputation\n",
    "from sklearn.experimental import enable_iterative_imputer\n",
    "from sklearn.impute import IterativeImputer\n",
    "\n",
    "\n",
    "imputer = IterativeImputer(imputation_order='descending')\n",
    "#fitting the data\n",
    "imputer.fit(iris_data)\n",
    "#transforming the data\n",
    "iris_data = pd.DataFrame(imputer.transform(iris_data).round(1),columns=iris_data.columns)"
   ]
  },
  {
   "cell_type": "code",
   "execution_count": 10,
   "id": "6362ce34",
   "metadata": {},
   "outputs": [
    {
     "data": {
      "text/plain": [
       "SL                0\n",
       "SW                0\n",
       "PL                0\n",
       "PW                0\n",
       "Classification    0\n",
       "dtype: int64"
      ]
     },
     "execution_count": 10,
     "metadata": {},
     "output_type": "execute_result"
    }
   ],
   "source": [
    "#checking for null values\n",
    "iris_data.isna().sum()"
   ]
  },
  {
   "cell_type": "markdown",
   "id": "40c5aa4a",
   "metadata": {},
   "source": [
    "There are no more missing values in the dataset.  \n",
    "  \n",
    "Now, we have to check whether there is any outliers in the dataset. We can use box plots for this purpose."
   ]
  },
  {
   "cell_type": "code",
   "execution_count": 11,
   "id": "23f48735",
   "metadata": {},
   "outputs": [
    {
     "data": {
      "image/png": "[encoded data removed]",
      "text/plain": [
       "<Figure size 1080x360 with 4 Axes>"
      ]
     },
     "metadata": {
      "needs_background": "light"
     },
     "output_type": "display_data"
    }
   ],
   "source": [
    "#boxplot\n",
    "plt.figure(figsize = (15,5))\n",
    "\n",
    "#boxplot for SL column\n",
    "plt.subplot(2,2,1)\n",
    "plt.boxplot(iris_data['SL'])\n",
    "plt.title('Box plot of Sepal Length')\n",
    "\n",
    "#boxplot for SW column\n",
    "plt.subplot(2,2,2)\n",
    "plt.boxplot(iris_data['SW'])\n",
    "plt.title('Box plot of Sepal Width')\n",
    "\n",
    "#boxplot for PL column\n",
    "plt.subplot(2,2,3)\n",
    "plt.boxplot(iris_data['PL'])\n",
    "plt.title('Box plot of Petal Length')\n",
    "\n",
    "#boxplot for PL column\n",
    "plt.subplot(2,2,4)\n",
    "plt.boxplot(iris_data['PW'])\n",
    "plt.title('Box plot of Petal Width')\n",
    "\n",
    "plt.tight_layout()\n",
    "plt.show()"
   ]
  },
  {
   "cell_type": "markdown",
   "id": "94d94f5c",
   "metadata": {},
   "source": [
    "The column 'SW' is containing outliers."
   ]
  },
  {
   "cell_type": "markdown",
   "id": "c9cd6e81",
   "metadata": {},
   "source": [
    "#### Handling outliers"
   ]
  },
  {
   "cell_type": "markdown",
   "id": "15514462",
   "metadata": {},
   "source": [
    "We are going to detect outliers using IQR(Inter Quartile Range) method."
   ]
  },
  {
   "cell_type": "code",
   "execution_count": 12,
   "id": "f2e6dc6d",
   "metadata": {},
   "outputs": [
    {
     "name": "stdout",
     "output_type": "stream",
     "text": [
      "Outliers: [4.4, 4.1, 4.2, 2.0]\n",
      "Index of outliers: Int64Index([15, 32, 33, 60], dtype='int64')\n"
     ]
    }
   ],
   "source": [
    "sepalWidth = iris_data['SW']\n",
    "\n",
    "#finding quartiles\n",
    "q1 = np.percentile(sepalWidth,25)\n",
    "q3 = np.percentile(sepalWidth,75)\n",
    "\n",
    "#calculating inter quartile range\n",
    "IQR = q3-q1\n",
    "\n",
    "#calculating lower and upper limits\n",
    "lower = q1-1.5*IQR\n",
    "upper = q3+1.5*IQR\n",
    "\n",
    "#removing values outside the limits(outliers)\n",
    "#identifying the outlier\n",
    "outlier = []\n",
    "for x in sepalWidth:\n",
    "    if ((x>upper) or (x<lower)):\n",
    "        outlier.append(x)\n",
    "print(\"Outliers:\",outlier)\n",
    "outlier_indx = iris_data.loc[(iris_data['SW']>upper) | (iris_data['SW']<lower)].index\n",
    "print(\"Index of outliers:\",outlier_indx)"
   ]
  },
  {
   "cell_type": "code",
   "execution_count": 13,
   "id": "246b8176",
   "metadata": {},
   "outputs": [
    {
     "data": {
      "text/html": [
       "<div>\n",
       "<style scoped>\n",
       "    .dataframe tbody tr th:only-of-type {\n",
       "        vertical-align: middle;\n",
       "    }\n",
       "\n",
       "    .dataframe tbody tr th {\n",
       "        vertical-align: top;\n",
       "    }\n",
       "\n",
       "    .dataframe thead th {\n",
       "        text-align: right;\n",
       "    }\n",
       "</style>\n",
       "<table border=\"1\" class=\"dataframe\">\n",
       "  <thead>\n",
       "    <tr style=\"text-align: right;\">\n",
       "      <th></th>\n",
       "      <th>SL</th>\n",
       "      <th>SW</th>\n",
       "      <th>PL</th>\n",
       "      <th>PW</th>\n",
       "      <th>Classification</th>\n",
       "    </tr>\n",
       "  </thead>\n",
       "  <tbody>\n",
       "    <tr>\n",
       "      <th>15</th>\n",
       "      <td>5.7</td>\n",
       "      <td>4.4</td>\n",
       "      <td>1.5</td>\n",
       "      <td>0.4</td>\n",
       "      <td>0.0</td>\n",
       "    </tr>\n",
       "    <tr>\n",
       "      <th>32</th>\n",
       "      <td>5.2</td>\n",
       "      <td>4.1</td>\n",
       "      <td>1.5</td>\n",
       "      <td>0.1</td>\n",
       "      <td>0.0</td>\n",
       "    </tr>\n",
       "    <tr>\n",
       "      <th>33</th>\n",
       "      <td>5.5</td>\n",
       "      <td>4.2</td>\n",
       "      <td>1.4</td>\n",
       "      <td>0.2</td>\n",
       "      <td>0.0</td>\n",
       "    </tr>\n",
       "    <tr>\n",
       "      <th>60</th>\n",
       "      <td>5.0</td>\n",
       "      <td>2.0</td>\n",
       "      <td>3.5</td>\n",
       "      <td>1.0</td>\n",
       "      <td>1.0</td>\n",
       "    </tr>\n",
       "  </tbody>\n",
       "</table>\n",
       "</div>"
      ],
      "text/plain": [
       "     SL   SW   PL   PW  Classification\n",
       "15  5.7  4.4  1.5  0.4             0.0\n",
       "32  5.2  4.1  1.5  0.1             0.0\n",
       "33  5.5  4.2  1.4  0.2             0.0\n",
       "60  5.0  2.0  3.5  1.0             1.0"
      ]
     },
     "execution_count": 13,
     "metadata": {},
     "output_type": "execute_result"
    }
   ],
   "source": [
    "#displaying the records containing outliers\n",
    "iris_data.loc[[15,32,33,60]]"
   ]
  },
  {
   "cell_type": "markdown",
   "id": "ea8934de",
   "metadata": {},
   "source": [
    "There are four outliers in the feature 'SW'.  \n",
    "Some of the methods for treating the outliers are:  \n",
    "1. Trimming/removing the outlier.  \n",
    "2. Quantile based flooring and capping.  \n",
    "3. Imputation.  \n",
    "\n",
    "As our dataset is small, deleting the records with outliers is not ideal. We can do quantile based flooring and capping. In thi technique, the data points that are lesser than lower limit(q1-1.5\\*IQR) are replaced with the lower limit value and the data points that are greater than upper limit(q3+1.5\\*IQR) are replaced with the upper limit value."
   ]
  },
  {
   "cell_type": "code",
   "execution_count": 14,
   "id": "ca890e68",
   "metadata": {},
   "outputs": [
    {
     "data": {
      "text/plain": [
       "Text(0.5, 1.0, 'Box plot of Sepal Width')"
      ]
     },
     "execution_count": 14,
     "metadata": {},
     "output_type": "execute_result"
    },
    {
     "data": {
      "image/png": "[encoded data removed]",
      "text/plain": [
       "<Figure size 432x288 with 1 Axes>"
      ]
     },
     "metadata": {
      "needs_background": "light"
     },
     "output_type": "display_data"
    }
   ],
   "source": [
    "#quantile based flooring and capping\n",
    "#capping/flooring the outlier at the upper and lower limits\n",
    "iris_data['SW'] = np.where(iris_data['SW']>upper,np.round(upper,1),\n",
    "                                     np.where(iris_data['SW']<lower,np.round(lower,2),iris_data['SW']))\n",
    "#checking if the outliers are handled successfully or not\n",
    "plt.boxplot(iris_data['SW'])\n",
    "plt.title('Box plot of Sepal Width')\n"
   ]
  },
  {
   "cell_type": "markdown",
   "id": "3a0d1fc2",
   "metadata": {},
   "source": [
    "### 3. Find out which classification model gives the best result to predict iris species.(also do random forest algorithm)"
   ]
  },
  {
   "cell_type": "markdown",
   "id": "682673c8",
   "metadata": {},
   "source": [
    "To create a model, first we have to split the columns into feature matrix and target vector."
   ]
  },
  {
   "cell_type": "code",
   "execution_count": 15,
   "id": "2756e378",
   "metadata": {},
   "outputs": [],
   "source": [
    "#target vector\n",
    "y = iris_data['Classification']\n",
    "\n",
    "#feature matrix\n",
    "X = iris_data.drop('Classification',axis=1)"
   ]
  },
  {
   "cell_type": "code",
   "execution_count": 16,
   "id": "af547a4a",
   "metadata": {},
   "outputs": [
    {
     "data": {
      "text/html": [
       "<div>\n",
       "<style scoped>\n",
       "    .dataframe tbody tr th:only-of-type {\n",
       "        vertical-align: middle;\n",
       "    }\n",
       "\n",
       "    .dataframe tbody tr th {\n",
       "        vertical-align: top;\n",
       "    }\n",
       "\n",
       "    .dataframe thead th {\n",
       "        text-align: right;\n",
       "    }\n",
       "</style>\n",
       "<table border=\"1\" class=\"dataframe\">\n",
       "  <thead>\n",
       "    <tr style=\"text-align: right;\">\n",
       "      <th></th>\n",
       "      <th>SL</th>\n",
       "      <th>SW</th>\n",
       "      <th>PL</th>\n",
       "      <th>PW</th>\n",
       "    </tr>\n",
       "  </thead>\n",
       "  <tbody>\n",
       "    <tr>\n",
       "      <th>count</th>\n",
       "      <td>150.000000</td>\n",
       "      <td>150.000000</td>\n",
       "      <td>150.000000</td>\n",
       "      <td>150.000000</td>\n",
       "    </tr>\n",
       "    <tr>\n",
       "      <th>mean</th>\n",
       "      <td>5.845333</td>\n",
       "      <td>3.051000</td>\n",
       "      <td>3.758000</td>\n",
       "      <td>1.198667</td>\n",
       "    </tr>\n",
       "    <tr>\n",
       "      <th>std</th>\n",
       "      <td>0.822469</td>\n",
       "      <td>0.413305</td>\n",
       "      <td>1.765146</td>\n",
       "      <td>0.763161</td>\n",
       "    </tr>\n",
       "    <tr>\n",
       "      <th>min</th>\n",
       "      <td>4.300000</td>\n",
       "      <td>2.050000</td>\n",
       "      <td>1.000000</td>\n",
       "      <td>0.100000</td>\n",
       "    </tr>\n",
       "    <tr>\n",
       "      <th>25%</th>\n",
       "      <td>5.100000</td>\n",
       "      <td>2.800000</td>\n",
       "      <td>1.600000</td>\n",
       "      <td>0.300000</td>\n",
       "    </tr>\n",
       "    <tr>\n",
       "      <th>50%</th>\n",
       "      <td>5.800000</td>\n",
       "      <td>3.000000</td>\n",
       "      <td>4.350000</td>\n",
       "      <td>1.300000</td>\n",
       "    </tr>\n",
       "    <tr>\n",
       "      <th>75%</th>\n",
       "      <td>6.400000</td>\n",
       "      <td>3.300000</td>\n",
       "      <td>5.100000</td>\n",
       "      <td>1.800000</td>\n",
       "    </tr>\n",
       "    <tr>\n",
       "      <th>max</th>\n",
       "      <td>7.900000</td>\n",
       "      <td>4.000000</td>\n",
       "      <td>6.900000</td>\n",
       "      <td>2.500000</td>\n",
       "    </tr>\n",
       "  </tbody>\n",
       "</table>\n",
       "</div>"
      ],
      "text/plain": [
       "               SL          SW          PL          PW\n",
       "count  150.000000  150.000000  150.000000  150.000000\n",
       "mean     5.845333    3.051000    3.758000    1.198667\n",
       "std      0.822469    0.413305    1.765146    0.763161\n",
       "min      4.300000    2.050000    1.000000    0.100000\n",
       "25%      5.100000    2.800000    1.600000    0.300000\n",
       "50%      5.800000    3.000000    4.350000    1.300000\n",
       "75%      6.400000    3.300000    5.100000    1.800000\n",
       "max      7.900000    4.000000    6.900000    2.500000"
      ]
     },
     "execution_count": 16,
     "metadata": {},
     "output_type": "execute_result"
    }
   ],
   "source": [
    "#statisical summary of the feature matrix\n",
    "X.describe()"
   ]
  },
  {
   "cell_type": "markdown",
   "id": "19cf6096",
   "metadata": {},
   "source": [
    "Here the minimum, maximum,mean, and standard deviation values are different for all the four features. So to make a better model we should do feature scaling.  \n",
    "Feature scaling can be done in two ways:  \n",
    "1. Min max scaler  \n",
    "2. Standard scaler  \n",
    "\n",
    "Here we can do standard scaling, so that all the feature has distribution with zero mean value and variance 1."
   ]
  },
  {
   "cell_type": "code",
   "execution_count": 17,
   "id": "c1b59c1d",
   "metadata": {},
   "outputs": [
    {
     "data": {
      "text/html": [
       "<div>\n",
       "<style scoped>\n",
       "    .dataframe tbody tr th:only-of-type {\n",
       "        vertical-align: middle;\n",
       "    }\n",
       "\n",
       "    .dataframe tbody tr th {\n",
       "        vertical-align: top;\n",
       "    }\n",
       "\n",
       "    .dataframe thead th {\n",
       "        text-align: right;\n",
       "    }\n",
       "</style>\n",
       "<table border=\"1\" class=\"dataframe\">\n",
       "  <thead>\n",
       "    <tr style=\"text-align: right;\">\n",
       "      <th></th>\n",
       "      <th>SL</th>\n",
       "      <th>SW</th>\n",
       "      <th>PL</th>\n",
       "      <th>PW</th>\n",
       "    </tr>\n",
       "  </thead>\n",
       "  <tbody>\n",
       "    <tr>\n",
       "      <th>count</th>\n",
       "      <td>1.500000e+02</td>\n",
       "      <td>1.500000e+02</td>\n",
       "      <td>1.500000e+02</td>\n",
       "      <td>1.500000e+02</td>\n",
       "    </tr>\n",
       "    <tr>\n",
       "      <th>mean</th>\n",
       "      <td>7.372806e-16</td>\n",
       "      <td>5.634382e-16</td>\n",
       "      <td>1.250851e-16</td>\n",
       "      <td>9.251859e-16</td>\n",
       "    </tr>\n",
       "    <tr>\n",
       "      <th>std</th>\n",
       "      <td>1.003350e+00</td>\n",
       "      <td>1.003350e+00</td>\n",
       "      <td>1.003350e+00</td>\n",
       "      <td>1.003350e+00</td>\n",
       "    </tr>\n",
       "    <tr>\n",
       "      <th>min</th>\n",
       "      <td>-1.885191e+00</td>\n",
       "      <td>-2.430053e+00</td>\n",
       "      <td>-1.567711e+00</td>\n",
       "      <td>-1.444450e+00</td>\n",
       "    </tr>\n",
       "    <tr>\n",
       "      <th>25%</th>\n",
       "      <td>-9.092509e-01</td>\n",
       "      <td>-6.093340e-01</td>\n",
       "      <td>-1.226657e+00</td>\n",
       "      <td>-1.181504e+00</td>\n",
       "    </tr>\n",
       "    <tr>\n",
       "      <th>50%</th>\n",
       "      <td>-5.530327e-02</td>\n",
       "      <td>-1.238089e-01</td>\n",
       "      <td>3.365066e-01</td>\n",
       "      <td>1.332259e-01</td>\n",
       "    </tr>\n",
       "    <tr>\n",
       "      <th>75%</th>\n",
       "      <td>6.766518e-01</td>\n",
       "      <td>6.044787e-01</td>\n",
       "      <td>7.628240e-01</td>\n",
       "      <td>7.905908e-01</td>\n",
       "    </tr>\n",
       "    <tr>\n",
       "      <th>max</th>\n",
       "      <td>2.506539e+00</td>\n",
       "      <td>2.303817e+00</td>\n",
       "      <td>1.785986e+00</td>\n",
       "      <td>1.710902e+00</td>\n",
       "    </tr>\n",
       "  </tbody>\n",
       "</table>\n",
       "</div>"
      ],
      "text/plain": [
       "                 SL            SW            PL            PW\n",
       "count  1.500000e+02  1.500000e+02  1.500000e+02  1.500000e+02\n",
       "mean   7.372806e-16  5.634382e-16  1.250851e-16  9.251859e-16\n",
       "std    1.003350e+00  1.003350e+00  1.003350e+00  1.003350e+00\n",
       "min   -1.885191e+00 -2.430053e+00 -1.567711e+00 -1.444450e+00\n",
       "25%   -9.092509e-01 -6.093340e-01 -1.226657e+00 -1.181504e+00\n",
       "50%   -5.530327e-02 -1.238089e-01  3.365066e-01  1.332259e-01\n",
       "75%    6.766518e-01  6.044787e-01  7.628240e-01  7.905908e-01\n",
       "max    2.506539e+00  2.303817e+00  1.785986e+00  1.710902e+00"
      ]
     },
     "execution_count": 17,
     "metadata": {},
     "output_type": "execute_result"
    }
   ],
   "source": [
    "#standard scaling\n",
    "#creating an instance of standard scaler\n",
    "standardisation = preprocessing.StandardScaler()\n",
    "#applying standard scaling on X\n",
    "standardised_X = standardisation.fit_transform(X)\n",
    "#converting into dataframe\n",
    "X = pd.DataFrame(standardised_X, columns = X.columns)\n",
    "\n",
    "#checking statistical summary again\n",
    "X.describe()"
   ]
  },
  {
   "cell_type": "markdown",
   "id": "3eb89e9b",
   "metadata": {},
   "source": [
    "Now we have to split the entire dataset into training set and testing set. We are going to take 20% of the dataset as testing set."
   ]
  },
  {
   "cell_type": "code",
   "execution_count": 18,
   "id": "2e06c97a",
   "metadata": {},
   "outputs": [],
   "source": [
    "#splitting the dataset\n",
    "from sklearn.model_selection import train_test_split\n",
    "X_train,X_test,y_train,y_test = train_test_split(X,y,random_state=42, test_size=0.2)"
   ]
  },
  {
   "cell_type": "code",
   "execution_count": 19,
   "id": "2dbaea76",
   "metadata": {},
   "outputs": [
    {
     "data": {
      "text/plain": [
       "(120, 4)"
      ]
     },
     "execution_count": 19,
     "metadata": {},
     "output_type": "execute_result"
    }
   ],
   "source": [
    "X_train.shape"
   ]
  },
  {
   "cell_type": "markdown",
   "id": "e70fac98",
   "metadata": {},
   "source": [
    "120 records are taken as training set and remaining 30 records as testing set."
   ]
  },
  {
   "cell_type": "markdown",
   "id": "e87356bb",
   "metadata": {},
   "source": [
    "There are many supervised learning models. We are going to implement logistic regression, KNN, SVM, Decision Tree classifier, and Random forest classifier."
   ]
  },
  {
   "cell_type": "markdown",
   "id": "f0bb041d",
   "metadata": {},
   "source": [
    "#### Logistic Regression"
   ]
  },
  {
   "cell_type": "markdown",
   "id": "a9f1121c",
   "metadata": {},
   "source": [
    "By default, logistic regression cannot be used for classification tasks that have more than two class labels, so-called multi-class classification. The LogisticRegression class can be configured for multinomial logistic regression by setting the “multi_class” argument to \"multinomial\" and the \"solver\" argument to a solver that supports multinomial logistic regression, such as \"lbfgs\""
   ]
  },
  {
   "cell_type": "code",
   "execution_count": 20,
   "id": "a4c7d0cb",
   "metadata": {},
   "outputs": [],
   "source": [
    "#logistic regression\n",
    "from sklearn.linear_model import LogisticRegression\n",
    "#creating an instance of the logistic regression model\n",
    "logistic_model = LogisticRegression(multi_class='multinomial', solver='lbfgs')\n",
    "#training the model\n",
    "logistic_model.fit(X_train,y_train)\n",
    "#testing the model\n",
    "y_pred = logistic_model.predict(X_test)"
   ]
  },
  {
   "cell_type": "code",
   "execution_count": 21,
   "id": "3e95e69a",
   "metadata": {},
   "outputs": [
    {
     "name": "stdout",
     "output_type": "stream",
     "text": [
      "Accuracy is: 0.9666666666666667\n"
     ]
    }
   ],
   "source": [
    "#measuring performance\n",
    "from sklearn.metrics import confusion_matrix,accuracy_score,precision_score,recall_score,f1_score\n",
    "\n",
    "print(\"Accuracy is:\",accuracy_score(y_test,y_pred))\n"
   ]
  },
  {
   "cell_type": "code",
   "execution_count": 22,
   "id": "e068b66f",
   "metadata": {},
   "outputs": [
    {
     "data": {
      "text/plain": [
       "array([[10,  0,  0],\n",
       "       [ 0,  8,  1],\n",
       "       [ 0,  0, 11]], dtype=int64)"
      ]
     },
     "execution_count": 22,
     "metadata": {},
     "output_type": "execute_result"
    }
   ],
   "source": [
    "confusion_matrix(y_test,y_pred)"
   ]
  },
  {
   "cell_type": "markdown",
   "id": "d48d4c1d",
   "metadata": {},
   "source": [
    "There is 1 mis-classification."
   ]
  },
  {
   "cell_type": "markdown",
   "id": "057ad1b8",
   "metadata": {},
   "source": [
    "#### KNN(K-Nearest Neighbours)"
   ]
  },
  {
   "cell_type": "code",
   "execution_count": 23,
   "id": "b1f29b0e",
   "metadata": {},
   "outputs": [
    {
     "data": {
      "image/png": "[encoded data removed]",
      "text/plain": [
       "<Figure size 432x288 with 1 Axes>"
      ]
     },
     "metadata": {
      "needs_background": "light"
     },
     "output_type": "display_data"
    }
   ],
   "source": [
    "#KNN\n",
    "from sklearn.neighbors import KNeighborsClassifier\n",
    "acc_scores = []\n",
    "#to find optimum k value, we have to use varied k values\n",
    "neighbors = np.arange(3,15)\n",
    "#creating a loop for each KNN values\n",
    "for k in neighbors:\n",
    "    classifier = KNeighborsClassifier(n_neighbors=k,metric='minkowski')\n",
    "    classifier.fit(X_train,y_train)\n",
    "    y_pred = classifier.predict(X_test)\n",
    "    acc = accuracy_score(y_test,y_pred)\n",
    "    acc_scores.append(acc)\n",
    "\n",
    "#checking for which k value we got highest accuracy\n",
    "plt.plot(neighbors,acc_scores,'o-')\n",
    "plt.xlabel('k value')\n",
    "plt.ylabel('accuracy')\n",
    "plt.show()"
   ]
  },
  {
   "cell_type": "markdown",
   "id": "2906214c",
   "metadata": {},
   "source": [
    "Highest accuracy is 1."
   ]
  },
  {
   "cell_type": "code",
   "execution_count": 24,
   "id": "085bebe1",
   "metadata": {},
   "outputs": [
    {
     "data": {
      "text/plain": [
       "array([[10,  0,  0],\n",
       "       [ 0,  9,  0],\n",
       "       [ 0,  0, 11]], dtype=int64)"
      ]
     },
     "execution_count": 24,
     "metadata": {},
     "output_type": "execute_result"
    }
   ],
   "source": [
    "confusion_matrix(y_test,y_pred)"
   ]
  },
  {
   "cell_type": "markdown",
   "id": "87587744",
   "metadata": {},
   "source": [
    "There are no mis-classifications. KNN classified the test data perfectly."
   ]
  },
  {
   "cell_type": "markdown",
   "id": "d098152e",
   "metadata": {},
   "source": [
    "#### Decision Tree Classifier"
   ]
  },
  {
   "cell_type": "code",
   "execution_count": 25,
   "id": "aa158542",
   "metadata": {},
   "outputs": [],
   "source": [
    "from sklearn.tree import DecisionTreeClassifier\n",
    "dt_model = DecisionTreeClassifier()\n",
    "#training the model\n",
    "dt_model.fit(X_train,y_train)\n",
    "#testing the model\n",
    "y_pred = dt_model.predict(X_test)"
   ]
  },
  {
   "cell_type": "code",
   "execution_count": 26,
   "id": "cbb11a34",
   "metadata": {},
   "outputs": [
    {
     "name": "stdout",
     "output_type": "stream",
     "text": [
      "Accuracy is: 1.0\n"
     ]
    }
   ],
   "source": [
    "#measuring performance\n",
    "print(\"Accuracy is:\",accuracy_score(y_test,y_pred))"
   ]
  },
  {
   "cell_type": "code",
   "execution_count": 27,
   "id": "16345c4c",
   "metadata": {},
   "outputs": [
    {
     "data": {
      "text/plain": [
       "array([[10,  0,  0],\n",
       "       [ 0,  9,  0],\n",
       "       [ 0,  0, 11]], dtype=int64)"
      ]
     },
     "execution_count": 27,
     "metadata": {},
     "output_type": "execute_result"
    }
   ],
   "source": [
    "confusion_matrix(y_test,y_pred)"
   ]
  },
  {
   "cell_type": "markdown",
   "id": "6a2a89ea",
   "metadata": {},
   "source": [
    "There is no mis-classification. Decision tree classifier also classified the test data perfectly."
   ]
  },
  {
   "cell_type": "markdown",
   "id": "d6a17e2b",
   "metadata": {},
   "source": [
    "### Linear SVM"
   ]
  },
  {
   "cell_type": "code",
   "execution_count": 28,
   "id": "091609b6",
   "metadata": {},
   "outputs": [],
   "source": [
    "from sklearn.svm import SVC\n",
    "svm_linear = SVC(kernel='linear')\n",
    "#training the model\n",
    "svm_linear.fit(X_train, y_train)\n",
    "#testing the model\n",
    "y_pred = svm_linear.predict(X_test)"
   ]
  },
  {
   "cell_type": "code",
   "execution_count": 29,
   "id": "67df05a2",
   "metadata": {},
   "outputs": [
    {
     "name": "stdout",
     "output_type": "stream",
     "text": [
      "Accuracy is: 0.9666666666666667\n"
     ]
    }
   ],
   "source": [
    "#measuring performance\n",
    "print('Accuracy is:', accuracy_score(y_test, y_pred))"
   ]
  },
  {
   "cell_type": "code",
   "execution_count": 30,
   "id": "d0692fb6",
   "metadata": {},
   "outputs": [
    {
     "data": {
      "text/plain": [
       "array([[10,  0,  0],\n",
       "       [ 0,  8,  1],\n",
       "       [ 0,  0, 11]], dtype=int64)"
      ]
     },
     "execution_count": 30,
     "metadata": {},
     "output_type": "execute_result"
    }
   ],
   "source": [
    "confusion_matrix(y_test, y_pred)"
   ]
  },
  {
   "cell_type": "markdown",
   "id": "4fe038e2",
   "metadata": {},
   "source": [
    "There is 1 mis-classification."
   ]
  },
  {
   "cell_type": "markdown",
   "id": "a85b7bc7",
   "metadata": {},
   "source": [
    "#### Polynomial SVM"
   ]
  },
  {
   "cell_type": "code",
   "execution_count": 31,
   "id": "0aee7e6d",
   "metadata": {},
   "outputs": [],
   "source": [
    "svm_poly = SVC(kernel='poly', degree=3)\n",
    "#training the model\n",
    "svm_poly.fit(X_train,y_train)\n",
    "#testing the model\n",
    "y_pred_p = svm_poly.predict(X_test)"
   ]
  },
  {
   "cell_type": "code",
   "execution_count": 32,
   "id": "895c35aa",
   "metadata": {},
   "outputs": [
    {
     "name": "stdout",
     "output_type": "stream",
     "text": [
      "Accuracy is: 0.9666666666666667\n"
     ]
    }
   ],
   "source": [
    "#measuring performance\n",
    "print('Accuracy is:', accuracy_score(y_test, y_pred))"
   ]
  },
  {
   "cell_type": "code",
   "execution_count": 33,
   "id": "5aded2a8",
   "metadata": {},
   "outputs": [
    {
     "data": {
      "text/plain": [
       "array([[10,  0,  0],\n",
       "       [ 0,  8,  1],\n",
       "       [ 0,  0, 11]], dtype=int64)"
      ]
     },
     "execution_count": 33,
     "metadata": {},
     "output_type": "execute_result"
    }
   ],
   "source": [
    "confusion_matrix(y_test, y_pred)"
   ]
  },
  {
   "cell_type": "markdown",
   "id": "7d0f6603",
   "metadata": {},
   "source": [
    "There is 1 mis-classification."
   ]
  },
  {
   "cell_type": "markdown",
   "id": "32947fa8",
   "metadata": {},
   "source": [
    "#### SVM with Radial Basis Function"
   ]
  },
  {
   "cell_type": "code",
   "execution_count": 34,
   "id": "934623af",
   "metadata": {},
   "outputs": [],
   "source": [
    "svm_rbf = SVC(kernel='rbf')\n",
    "#training the model\n",
    "svm_rbf.fit(X_train, y_train)\n",
    "#testing the model\n",
    "y_pred = svm_rbf.predict(X_test)"
   ]
  },
  {
   "cell_type": "code",
   "execution_count": 35,
   "id": "f089648d",
   "metadata": {},
   "outputs": [
    {
     "name": "stdout",
     "output_type": "stream",
     "text": [
      "Accuracy is 1.0\n"
     ]
    }
   ],
   "source": [
    "#measuring performance\n",
    "print('Accuracy is', accuracy_score(y_test, y_pred))"
   ]
  },
  {
   "cell_type": "code",
   "execution_count": 36,
   "id": "f5f9cd1d",
   "metadata": {},
   "outputs": [
    {
     "data": {
      "text/plain": [
       "array([[10,  0,  0],\n",
       "       [ 0,  9,  0],\n",
       "       [ 0,  0, 11]], dtype=int64)"
      ]
     },
     "execution_count": 36,
     "metadata": {},
     "output_type": "execute_result"
    }
   ],
   "source": [
    "confusion_matrix(y_test, y_pred)"
   ]
  },
  {
   "cell_type": "markdown",
   "id": "e4b4db28",
   "metadata": {},
   "source": [
    "There is no mis-classification. Radial SVM also classified the test data perfectly"
   ]
  },
  {
   "cell_type": "markdown",
   "id": "5d9acf5c",
   "metadata": {},
   "source": [
    "#### Random Forest classifier"
   ]
  },
  {
   "cell_type": "code",
   "execution_count": 37,
   "id": "824a443e",
   "metadata": {},
   "outputs": [],
   "source": [
    "from sklearn.ensemble import RandomForestClassifier\n",
    "rf_model = RandomForestClassifier()\n",
    "#training the model \n",
    "rf_model.fit(X_train,y_train)\n",
    "#testing the model\n",
    "y_pred = rf_model.predict(X_test)"
   ]
  },
  {
   "cell_type": "code",
   "execution_count": 38,
   "id": "cbecbcdb",
   "metadata": {},
   "outputs": [
    {
     "name": "stdout",
     "output_type": "stream",
     "text": [
      "Accuracy is 1.0\n"
     ]
    }
   ],
   "source": [
    "#measuring performance\n",
    "print('Accuracy is', accuracy_score(y_test, y_pred))"
   ]
  },
  {
   "cell_type": "code",
   "execution_count": 39,
   "id": "3050b6e4",
   "metadata": {},
   "outputs": [
    {
     "data": {
      "text/plain": [
       "array([[10,  0,  0],\n",
       "       [ 0,  9,  0],\n",
       "       [ 0,  0, 11]], dtype=int64)"
      ]
     },
     "execution_count": 39,
     "metadata": {},
     "output_type": "execute_result"
    }
   ],
   "source": [
    "confusion_matrix(y_test, y_pred)"
   ]
  },
  {
   "cell_type": "markdown",
   "id": "d951d7bf",
   "metadata": {},
   "source": [
    "There is no mis-classification. so, random forest classifier also classified the data perfectly."
   ]
  },
  {
   "cell_type": "markdown",
   "id": "69dd1213",
   "metadata": {},
   "source": [
    "**Conclusion**: Out of all the models implemented, Random Forest, KNN, Radial SVM and Decision Tree classifier gave the best results. They all predicted the data with 100% accuracy"
   ]
  }
 ],
 "metadata": {
  "kernelspec": {
   "display_name": "Python 3",
   "language": "python",
   "name": "python3"
  },
  "language_info": {
   "codemirror_mode": {
    "name": "ipython",
    "version": 3
   },
   "file_extension": ".py",
   "mimetype": "text/x-python",
   "name": "python",
   "nbconvert_exporter": "python",
   "pygments_lexer": "ipython3",
   "version": "3.8.8"
  }
 },
 "nbformat": 4,
 "nbformat_minor": 5
}
