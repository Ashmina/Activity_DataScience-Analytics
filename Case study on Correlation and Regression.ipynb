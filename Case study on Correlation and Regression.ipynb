{
 "cells": [
  {
   "cell_type": "markdown",
   "id": "c14acb48",
   "metadata": {},
   "source": [
    "# Linear Regression on Advertising Data"
   ]
  },
  {
   "cell_type": "markdown",
   "id": "5d6e9ec4",
   "metadata": {},
   "source": [
    "## Submitted by: *Ashmina T.*"
   ]
  },
  {
   "attachments": {
    "tb.jpg": {
     "image/jpeg": "[encoded data removed]"
    }
   },
   "cell_type": "markdown",
   "id": "9e6f8fde",
   "metadata": {},
   "source": [
    "**Objective:** A textile company regularly spent money on five advertising companies for their ads. Analyze the dataset and answer the following questions:  \n",
    "1. First of all, check whether there is any relationship between the amount spent for advertising through five different companies and profit generated.\n",
    "2. Build a regression model to predict the profit from the given data and comment your findings on it.\n",
    "3. Predict the profit generated by the company, if they wish to spend the following amount for advertisement.\n",
    "![tb.jpg](attachment:tb.jpg)"
   ]
  },
  {
   "cell_type": "code",
   "execution_count": 1,
   "id": "da7a0beb",
   "metadata": {},
   "outputs": [],
   "source": [
    "#importing libraries\n",
    "import numpy as np\n",
    "import pandas as pd\n",
    "import matplotlib.pyplot as plt\n",
    "import seaborn as sns\n",
    "from sklearn.model_selection import train_test_split\n",
    "from sklearn import linear_model\n",
    "from sklearn.metrics import mean_squared_error,r2_score"
   ]
  },
  {
   "cell_type": "code",
   "execution_count": 2,
   "id": "d0607d06",
   "metadata": {},
   "outputs": [],
   "source": [
    "#loading the dataset\n",
    "textile_data = pd.read_csv('sales_data.csv')"
   ]
  },
  {
   "cell_type": "code",
   "execution_count": 3,
   "id": "9a0a7e11",
   "metadata": {},
   "outputs": [
    {
     "data": {
      "text/html": [
       "<div>\n",
       "<style scoped>\n",
       "    .dataframe tbody tr th:only-of-type {\n",
       "        vertical-align: middle;\n",
       "    }\n",
       "\n",
       "    .dataframe tbody tr th {\n",
       "        vertical-align: top;\n",
       "    }\n",
       "\n",
       "    .dataframe thead th {\n",
       "        text-align: right;\n",
       "    }\n",
       "</style>\n",
       "<table border=\"1\" class=\"dataframe\">\n",
       "  <thead>\n",
       "    <tr style=\"text-align: right;\">\n",
       "      <th></th>\n",
       "      <th>Date</th>\n",
       "      <th>Add1(in Thousands)</th>\n",
       "      <th>Add2(in Thousands)</th>\n",
       "      <th>Add3(in Thousands)</th>\n",
       "      <th>Add4(in Thousands)</th>\n",
       "      <th>Add5(in Thousands)</th>\n",
       "      <th>Profit(in Thousands)</th>\n",
       "    </tr>\n",
       "  </thead>\n",
       "  <tbody>\n",
       "    <tr>\n",
       "      <th>0</th>\n",
       "      <td>2018-10-08</td>\n",
       "      <td>208.00</td>\n",
       "      <td>222.25</td>\n",
       "      <td>206.85</td>\n",
       "      <td>216.00</td>\n",
       "      <td>215.15</td>\n",
       "      <td>4093.065</td>\n",
       "    </tr>\n",
       "    <tr>\n",
       "      <th>1</th>\n",
       "      <td>2018-10-05</td>\n",
       "      <td>217.00</td>\n",
       "      <td>218.60</td>\n",
       "      <td>205.90</td>\n",
       "      <td>210.25</td>\n",
       "      <td>209.20</td>\n",
       "      <td>4042.448</td>\n",
       "    </tr>\n",
       "    <tr>\n",
       "      <th>2</th>\n",
       "      <td>2018-10-04</td>\n",
       "      <td>223.50</td>\n",
       "      <td>227.80</td>\n",
       "      <td>216.15</td>\n",
       "      <td>217.25</td>\n",
       "      <td>218.20</td>\n",
       "      <td>4213.819</td>\n",
       "    </tr>\n",
       "    <tr>\n",
       "      <th>3</th>\n",
       "      <td>2018-10-03</td>\n",
       "      <td>230.00</td>\n",
       "      <td>237.50</td>\n",
       "      <td>225.75</td>\n",
       "      <td>226.45</td>\n",
       "      <td>227.60</td>\n",
       "      <td>4391.665</td>\n",
       "    </tr>\n",
       "    <tr>\n",
       "      <th>4</th>\n",
       "      <td>2018-10-01</td>\n",
       "      <td>234.55</td>\n",
       "      <td>234.60</td>\n",
       "      <td>221.05</td>\n",
       "      <td>230.30</td>\n",
       "      <td>230.90</td>\n",
       "      <td>4350.683</td>\n",
       "    </tr>\n",
       "  </tbody>\n",
       "</table>\n",
       "</div>"
      ],
      "text/plain": [
       "         Date  Add1(in Thousands)  Add2(in Thousands)  Add3(in Thousands)  \\\n",
       "0  2018-10-08              208.00              222.25              206.85   \n",
       "1  2018-10-05              217.00              218.60              205.90   \n",
       "2  2018-10-04              223.50              227.80              216.15   \n",
       "3  2018-10-03              230.00              237.50              225.75   \n",
       "4  2018-10-01              234.55              234.60              221.05   \n",
       "\n",
       "   Add4(in Thousands)  Add5(in Thousands)  Profit(in Thousands)  \n",
       "0              216.00              215.15              4093.065  \n",
       "1              210.25              209.20              4042.448  \n",
       "2              217.25              218.20              4213.819  \n",
       "3              226.45              227.60              4391.665  \n",
       "4              230.30              230.90              4350.683  "
      ]
     },
     "execution_count": 3,
     "metadata": {},
     "output_type": "execute_result"
    }
   ],
   "source": [
    "#retrieving the first 5 rows in the dataset\n",
    "textile_data.head()"
   ]
  },
  {
   "cell_type": "code",
   "execution_count": 4,
   "id": "26bc9b51",
   "metadata": {},
   "outputs": [],
   "source": [
    "#renaming the columns for easy access\n",
    "textile_data.columns = ['Date','Ad1','Ad2','Ad3','Ad4','Ad5','profit']"
   ]
  },
  {
   "cell_type": "code",
   "execution_count": 5,
   "id": "ee3cb4cc",
   "metadata": {},
   "outputs": [
    {
     "data": {
      "text/plain": [
       "Index(['Date', 'Ad1', 'Ad2', 'Ad3', 'Ad4', 'Ad5', 'profit'], dtype='object')"
      ]
     },
     "execution_count": 5,
     "metadata": {},
     "output_type": "execute_result"
    }
   ],
   "source": [
    "#displaying the column names\n",
    "textile_data.columns"
   ]
  },
  {
   "cell_type": "code",
   "execution_count": 6,
   "id": "d42e323c",
   "metadata": {},
   "outputs": [
    {
     "name": "stdout",
     "output_type": "stream",
     "text": [
      "<class 'pandas.core.frame.DataFrame'>\n",
      "RangeIndex: 205 entries, 0 to 204\n",
      "Data columns (total 7 columns):\n",
      " #   Column  Non-Null Count  Dtype  \n",
      "---  ------  --------------  -----  \n",
      " 0   Date    205 non-null    object \n",
      " 1   Ad1     205 non-null    float64\n",
      " 2   Ad2     205 non-null    float64\n",
      " 3   Ad3     205 non-null    float64\n",
      " 4   Ad4     205 non-null    float64\n",
      " 5   Ad5     205 non-null    float64\n",
      " 6   profit  205 non-null    float64\n",
      "dtypes: float64(6), object(1)\n",
      "memory usage: 11.3+ KB\n"
     ]
    }
   ],
   "source": [
    "#getting concise summary of the dataset\n",
    "textile_data.info()"
   ]
  },
  {
   "cell_type": "code",
   "execution_count": 7,
   "id": "515476d0",
   "metadata": {},
   "outputs": [
    {
     "data": {
      "text/html": [
       "<div>\n",
       "<style scoped>\n",
       "    .dataframe tbody tr th:only-of-type {\n",
       "        vertical-align: middle;\n",
       "    }\n",
       "\n",
       "    .dataframe tbody tr th {\n",
       "        vertical-align: top;\n",
       "    }\n",
       "\n",
       "    .dataframe thead th {\n",
       "        text-align: right;\n",
       "    }\n",
       "</style>\n",
       "<table border=\"1\" class=\"dataframe\">\n",
       "  <thead>\n",
       "    <tr style=\"text-align: right;\">\n",
       "      <th></th>\n",
       "      <th>Ad1</th>\n",
       "      <th>Ad2</th>\n",
       "      <th>Ad3</th>\n",
       "      <th>Ad4</th>\n",
       "      <th>Ad5</th>\n",
       "      <th>profit</th>\n",
       "    </tr>\n",
       "  </thead>\n",
       "  <tbody>\n",
       "    <tr>\n",
       "      <th>count</th>\n",
       "      <td>205.000000</td>\n",
       "      <td>205.000000</td>\n",
       "      <td>205.000000</td>\n",
       "      <td>205.000000</td>\n",
       "      <td>205.000000</td>\n",
       "      <td>205.000000</td>\n",
       "    </tr>\n",
       "    <tr>\n",
       "      <th>mean</th>\n",
       "      <td>267.577561</td>\n",
       "      <td>271.722439</td>\n",
       "      <td>262.990732</td>\n",
       "      <td>267.223902</td>\n",
       "      <td>267.152683</td>\n",
       "      <td>5059.630234</td>\n",
       "    </tr>\n",
       "    <tr>\n",
       "      <th>std</th>\n",
       "      <td>26.219588</td>\n",
       "      <td>25.914939</td>\n",
       "      <td>26.126704</td>\n",
       "      <td>26.238832</td>\n",
       "      <td>26.215360</td>\n",
       "      <td>486.910414</td>\n",
       "    </tr>\n",
       "    <tr>\n",
       "      <th>min</th>\n",
       "      <td>208.000000</td>\n",
       "      <td>218.600000</td>\n",
       "      <td>205.900000</td>\n",
       "      <td>210.250000</td>\n",
       "      <td>209.200000</td>\n",
       "      <td>4042.448000</td>\n",
       "    </tr>\n",
       "    <tr>\n",
       "      <th>25%</th>\n",
       "      <td>244.000000</td>\n",
       "      <td>248.500000</td>\n",
       "      <td>240.300000</td>\n",
       "      <td>243.050000</td>\n",
       "      <td>243.000000</td>\n",
       "      <td>4617.695000</td>\n",
       "    </tr>\n",
       "    <tr>\n",
       "      <th>50%</th>\n",
       "      <td>269.700000</td>\n",
       "      <td>274.200000</td>\n",
       "      <td>263.250000</td>\n",
       "      <td>268.900000</td>\n",
       "      <td>268.350000</td>\n",
       "      <td>5088.455000</td>\n",
       "    </tr>\n",
       "    <tr>\n",
       "      <th>75%</th>\n",
       "      <td>284.400000</td>\n",
       "      <td>288.800000</td>\n",
       "      <td>280.900000</td>\n",
       "      <td>284.500000</td>\n",
       "      <td>284.450000</td>\n",
       "      <td>5387.438000</td>\n",
       "    </tr>\n",
       "    <tr>\n",
       "      <th>max</th>\n",
       "      <td>327.700000</td>\n",
       "      <td>328.750000</td>\n",
       "      <td>321.650000</td>\n",
       "      <td>325.950000</td>\n",
       "      <td>325.750000</td>\n",
       "      <td>6137.800000</td>\n",
       "    </tr>\n",
       "  </tbody>\n",
       "</table>\n",
       "</div>"
      ],
      "text/plain": [
       "              Ad1         Ad2         Ad3         Ad4         Ad5       profit\n",
       "count  205.000000  205.000000  205.000000  205.000000  205.000000   205.000000\n",
       "mean   267.577561  271.722439  262.990732  267.223902  267.152683  5059.630234\n",
       "std     26.219588   25.914939   26.126704   26.238832   26.215360   486.910414\n",
       "min    208.000000  218.600000  205.900000  210.250000  209.200000  4042.448000\n",
       "25%    244.000000  248.500000  240.300000  243.050000  243.000000  4617.695000\n",
       "50%    269.700000  274.200000  263.250000  268.900000  268.350000  5088.455000\n",
       "75%    284.400000  288.800000  280.900000  284.500000  284.450000  5387.438000\n",
       "max    327.700000  328.750000  321.650000  325.950000  325.750000  6137.800000"
      ]
     },
     "execution_count": 7,
     "metadata": {},
     "output_type": "execute_result"
    }
   ],
   "source": [
    "#statistical summary of the dataset\n",
    "textile_data.describe()"
   ]
  },
  {
   "cell_type": "code",
   "execution_count": 8,
   "id": "713378ff",
   "metadata": {},
   "outputs": [
    {
     "data": {
      "text/plain": [
       "Date      0\n",
       "Ad1       0\n",
       "Ad2       0\n",
       "Ad3       0\n",
       "Ad4       0\n",
       "Ad5       0\n",
       "profit    0\n",
       "dtype: int64"
      ]
     },
     "execution_count": 8,
     "metadata": {},
     "output_type": "execute_result"
    }
   ],
   "source": [
    "#checking for null values\n",
    "textile_data.isna().sum()"
   ]
  },
  {
   "cell_type": "markdown",
   "id": "39fc624a",
   "metadata": {},
   "source": [
    "## 1. First of all, check whether there is any relationship between the amount spent for advertising through five different companies and profit generated."
   ]
  },
  {
   "cell_type": "code",
   "execution_count": 9,
   "id": "30e9f2d9",
   "metadata": {},
   "outputs": [
    {
     "name": "stdout",
     "output_type": "stream",
     "text": [
      "Correlation between amount spent for advertising through five different companies and profit is as given below:\n",
      "Ad1    0.991975\n",
      "Ad2    0.999145\n",
      "Ad3    0.993389\n",
      "Ad4    0.993346\n",
      "Ad5    0.993710\n",
      "dtype: float64\n"
     ]
    }
   ],
   "source": [
    "#getting the correlation coefficient of 5 ads with the profit\n",
    "rel_data = textile_data.drop('profit',axis=1).corrwith(textile_data['profit'])\n",
    "print(\"Correlation between amount spent for advertising through five different companies and profit is as given below:\\n{}\"\n",
    "      .format(rel_data))"
   ]
  },
  {
   "cell_type": "markdown",
   "id": "82feed9d",
   "metadata": {},
   "source": [
    "Amount spent on all the five ads are having high correlation with the profit"
   ]
  },
  {
   "cell_type": "markdown",
   "id": "5cca3417",
   "metadata": {},
   "source": [
    "## 2. Build a regression model to predict the profit from the given data and comment your findings on it."
   ]
  },
  {
   "cell_type": "markdown",
   "id": "28d767c7",
   "metadata": {},
   "source": [
    "#### Feature reduction"
   ]
  },
  {
   "cell_type": "markdown",
   "id": "899a88b9",
   "metadata": {},
   "source": [
    "In order to decide which features to be included in the features matrix(predictor variables) we have to find pairwise correlation of all columns in the dataset. "
   ]
  },
  {
   "cell_type": "code",
   "execution_count": 10,
   "id": "3f803a98",
   "metadata": {},
   "outputs": [
    {
     "data": {
      "image/png": "[encoded data removed]",
      "text/plain": [
       "<Figure size 720x576 with 2 Axes>"
      ]
     },
     "metadata": {
      "needs_background": "light"
     },
     "output_type": "display_data"
    }
   ],
   "source": [
    "#heatmap showing correlation between numerical columns\n",
    "plt.figure(figsize = (10,8) )\n",
    "plt.title('Heatmap on Correlation of features in the data',fontsize=18,pad=20)\n",
    "sns.heatmap(textile_data.corr(),annot = True,vmin=0.976,vmax=1,linewidth=0.2,fmt='.3f',cmap='Blues')\n",
    "plt.xticks(fontsize=14)\n",
    "plt.yticks(fontsize=14,rotation=0)\n",
    "plt.show()"
   ]
  },
  {
   "cell_type": "markdown",
   "id": "8d65670d",
   "metadata": {},
   "source": [
    "Since all the five features are highly correlated with each other and with the target feature(profit), we don't have to exclude any of them."
   ]
  },
  {
   "cell_type": "markdown",
   "id": "f9fae167",
   "metadata": {},
   "source": [
    "#### Arrange Data into Feature Matrix and Target vector"
   ]
  },
  {
   "cell_type": "code",
   "execution_count": 11,
   "id": "d832098b",
   "metadata": {},
   "outputs": [],
   "source": [
    "#deleting Date column as it is not a numerical column \n",
    "data1 = textile_data.drop(['Date'],axis=1)"
   ]
  },
  {
   "cell_type": "code",
   "execution_count": 12,
   "id": "b3269917",
   "metadata": {},
   "outputs": [],
   "source": [
    "#creating feature matrix\n",
    "X = data1.drop(['profit'],axis=1)"
   ]
  },
  {
   "cell_type": "code",
   "execution_count": 13,
   "id": "0989e2ed",
   "metadata": {},
   "outputs": [
    {
     "data": {
      "text/plain": [
       "(205, 5)"
      ]
     },
     "execution_count": 13,
     "metadata": {},
     "output_type": "execute_result"
    }
   ],
   "source": [
    "X.shape"
   ]
  },
  {
   "cell_type": "code",
   "execution_count": 14,
   "id": "3aa1770d",
   "metadata": {},
   "outputs": [],
   "source": [
    "#Creating Target vector\n",
    "y = data1.profit"
   ]
  },
  {
   "cell_type": "code",
   "execution_count": 15,
   "id": "8bc5c967",
   "metadata": {},
   "outputs": [
    {
     "data": {
      "text/plain": [
       "(205,)"
      ]
     },
     "execution_count": 15,
     "metadata": {},
     "output_type": "execute_result"
    }
   ],
   "source": [
    "y.shape"
   ]
  },
  {
   "cell_type": "markdown",
   "id": "138d6367",
   "metadata": {},
   "source": [
    "#### Split Data into Training and Testing sets"
   ]
  },
  {
   "cell_type": "code",
   "execution_count": 16,
   "id": "ca622fc0",
   "metadata": {},
   "outputs": [],
   "source": [
    "#Taking 80% of the data as Training data and 20% of the data as Testing data\n",
    "X_train,X_test,y_train,y_test = train_test_split(X,y,test_size=0.2,random_state=25)"
   ]
  },
  {
   "cell_type": "markdown",
   "id": "274a9494",
   "metadata": {},
   "source": [
    "#### Creating an instance of the model"
   ]
  },
  {
   "cell_type": "code",
   "execution_count": 17,
   "id": "8c355c60",
   "metadata": {},
   "outputs": [],
   "source": [
    "#creating an instance of the Linear Regression model\n",
    "lr=linear_model.LinearRegression(fit_intercept=True)"
   ]
  },
  {
   "cell_type": "markdown",
   "id": "59598565",
   "metadata": {},
   "source": [
    "#### Training the model"
   ]
  },
  {
   "cell_type": "code",
   "execution_count": 18,
   "id": "5592b07c",
   "metadata": {},
   "outputs": [],
   "source": [
    "#training the model with the training data\n",
    "model = lr.fit(X_train,y_train)"
   ]
  },
  {
   "cell_type": "markdown",
   "id": "fe369c59",
   "metadata": {},
   "source": [
    "#### Testing the model"
   ]
  },
  {
   "cell_type": "code",
   "execution_count": 19,
   "id": "6b4a15f6",
   "metadata": {},
   "outputs": [],
   "source": [
    "#testing the model with the test data\n",
    "predictions = model.predict(X_test)"
   ]
  },
  {
   "cell_type": "code",
   "execution_count": 20,
   "id": "bfaa68dc",
   "metadata": {},
   "outputs": [
    {
     "name": "stdout",
     "output_type": "stream",
     "text": [
      "[4451.999 5167.878 5917.925 4672.391 5030.451 5373.275 5133.766 5175.051\n",
      " 5177.61  5153.977 5190.814 5858.34  5027.633 4648.834 4486.996 5057.155\n",
      " 5425.19  5185.639 5182.368 5580.775 5065.652 5212.949 5728.804 5263.935\n",
      " 4411.775 5163.693 6101.648 5421.94  4418.709 4705.198 4643.716 5498.553\n",
      " 5107.437 4453.205 4836.837 4647.356 5004.282 5378.379 4419.421 5676.934\n",
      " 5511.42 ]\n"
     ]
    }
   ],
   "source": [
    "#displaying the predicted values\n",
    "print(predictions)"
   ]
  },
  {
   "cell_type": "markdown",
   "id": "9e45e6fd",
   "metadata": {},
   "source": [
    "Now we have to compare the predicted values and the actual output values."
   ]
  },
  {
   "cell_type": "code",
   "execution_count": 21,
   "id": "e52e5f78",
   "metadata": {},
   "outputs": [
    {
     "name": "stdout",
     "output_type": "stream",
     "text": [
      "[4451.999 5167.878 5917.925 4672.391 5030.451]\n"
     ]
    }
   ],
   "source": [
    "#displaying the first 5 predicted values\n",
    "print(predictions[:5])"
   ]
  },
  {
   "cell_type": "code",
   "execution_count": 22,
   "id": "6e58f596",
   "metadata": {},
   "outputs": [
    {
     "name": "stdout",
     "output_type": "stream",
     "text": [
      "26     4451.999\n",
      "122    5167.878\n",
      "190    5917.925\n",
      "43     4672.391\n",
      "69     5030.451\n",
      "Name: profit, dtype: float64\n"
     ]
    }
   ],
   "source": [
    "#displaying the first 5 actual output values\n",
    "print(y_test.head())"
   ]
  },
  {
   "cell_type": "markdown",
   "id": "c2671baf",
   "metadata": {},
   "source": [
    "The predicted and the actual output values seems to be equal."
   ]
  },
  {
   "cell_type": "markdown",
   "id": "d7879c58",
   "metadata": {},
   "source": [
    "#### Measuring Model Performance"
   ]
  },
  {
   "cell_type": "code",
   "execution_count": 23,
   "id": "6c132859",
   "metadata": {},
   "outputs": [
    {
     "name": "stdout",
     "output_type": "stream",
     "text": [
      "MSE : 4.64028148505357e-25\n"
     ]
    }
   ],
   "source": [
    "#calculating the mean squared error\n",
    "print(\"MSE :\",mean_squared_error(y_test,predictions))"
   ]
  },
  {
   "cell_type": "markdown",
   "id": "96e6501e",
   "metadata": {},
   "source": [
    "As the MSE(Mean squared error) is very close to zero, the predicted values strongly resembles the actual output values."
   ]
  },
  {
   "cell_type": "code",
   "execution_count": 24,
   "id": "ea45f4d3",
   "metadata": {},
   "outputs": [
    {
     "name": "stdout",
     "output_type": "stream",
     "text": [
      "Coefficient of determination(R²): 1.00\n"
     ]
    }
   ],
   "source": [
    "#calculating the coefficient of determination\n",
    "print(\"Coefficient of determination(R\\u00b2): %.2f\"%r2_score(y_test,predictions))"
   ]
  },
  {
   "cell_type": "markdown",
   "id": "265eba3d",
   "metadata": {},
   "source": [
    "Since the Coefficient of determination (R<sup>2</sup>) is 1, 100% of the variation in the output variable is explained by the input variables.  \n",
    "Overall the model seems to be perfect."
   ]
  },
  {
   "cell_type": "markdown",
   "id": "0eac1236",
   "metadata": {},
   "source": [
    "## 3. Predict the profit generated by the company, if they wish to spend the given amount for advertisements"
   ]
  },
  {
   "cell_type": "code",
   "execution_count": 25,
   "id": "80d9e5f9",
   "metadata": {},
   "outputs": [],
   "source": [
    "#data for which the output is to be predicted\n",
    "sample = [[290,312,309,298,320]]"
   ]
  },
  {
   "cell_type": "code",
   "execution_count": 26,
   "id": "b4080b9e",
   "metadata": {},
   "outputs": [
    {
     "name": "stdout",
     "output_type": "stream",
     "text": [
      "The profit for the given data predicted by the model is 5820.06 thousands.\n"
     ]
    }
   ],
   "source": [
    "#predicting the output value\n",
    "predicted_profit = model.predict(sample)\n",
    "print(\"The profit for the given data predicted by the model is {} thousands.\".format(predicted_profit[0]))"
   ]
  }
 ],
 "metadata": {
  "kernelspec": {
   "display_name": "Python 3",
   "language": "python",
   "name": "python3"
  },
  "language_info": {
   "codemirror_mode": {
    "name": "ipython",
    "version": 3
   },
   "file_extension": ".py",
   "mimetype": "text/x-python",
   "name": "python",
   "nbconvert_exporter": "python",
   "pygments_lexer": "ipython3",
   "version": "3.8.8"
  }
 },
 "nbformat": 4,
 "nbformat_minor": 5
}
