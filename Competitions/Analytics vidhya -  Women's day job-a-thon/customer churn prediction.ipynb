{
 "cells": [
  {
   "cell_type": "markdown",
   "id": "92a02a4e",
   "metadata": {},
   "source": [
    "# Customer Churn Prediction"
   ]
  },
  {
   "cell_type": "markdown",
   "id": "69c8f385",
   "metadata": {},
   "source": [
    "### Submitted by: *Ashmina T.*"
   ]
  },
  {
   "cell_type": "markdown",
   "id": "2478ef5c",
   "metadata": {},
   "source": [
    "**Objective:** To build a machine learning model to predict whether the customer will churn or not in the next six months."
   ]
  },
  {
   "cell_type": "code",
   "execution_count": 1,
   "id": "4596510a",
   "metadata": {},
   "outputs": [],
   "source": [
    "#importing libraries\n",
    "import pandas as pd\n",
    "import numpy as np\n",
    "import matplotlib.pyplot as plt\n",
    "from sklearn.preprocessing import OneHotEncoder\n",
    "from sklearn.preprocessing import StandardScaler\n",
    "from sklearn.model_selection import train_test_split\n",
    "from sklearn.naive_bayes import GaussianNB\n",
    "from sklearn.metrics import confusion_matrix,accuracy_score"
   ]
  },
  {
   "cell_type": "code",
   "execution_count": 2,
   "id": "a63c1abe",
   "metadata": {},
   "outputs": [],
   "source": [
    "#loading the train dataset\n",
    "train_data = pd.read_csv('train.csv')"
   ]
  },
  {
   "cell_type": "code",
   "execution_count": 3,
   "id": "ec60a769",
   "metadata": {},
   "outputs": [
    {
     "data": {
      "text/html": [
       "<div>\n",
       "<style scoped>\n",
       "    .dataframe tbody tr th:only-of-type {\n",
       "        vertical-align: middle;\n",
       "    }\n",
       "\n",
       "    .dataframe tbody tr th {\n",
       "        vertical-align: top;\n",
       "    }\n",
       "\n",
       "    .dataframe thead th {\n",
       "        text-align: right;\n",
       "    }\n",
       "</style>\n",
       "<table border=\"1\" class=\"dataframe\">\n",
       "  <thead>\n",
       "    <tr style=\"text-align: right;\">\n",
       "      <th></th>\n",
       "      <th>ID</th>\n",
       "      <th>Age</th>\n",
       "      <th>Gender</th>\n",
       "      <th>Income</th>\n",
       "      <th>Balance</th>\n",
       "      <th>Vintage</th>\n",
       "      <th>Transaction_Status</th>\n",
       "      <th>Product_Holdings</th>\n",
       "      <th>Credit_Card</th>\n",
       "      <th>Credit_Category</th>\n",
       "      <th>Is_Churn</th>\n",
       "    </tr>\n",
       "  </thead>\n",
       "  <tbody>\n",
       "    <tr>\n",
       "      <th>0</th>\n",
       "      <td>84e2fcc9</td>\n",
       "      <td>36</td>\n",
       "      <td>Female</td>\n",
       "      <td>5L - 10L</td>\n",
       "      <td>563266.44</td>\n",
       "      <td>4</td>\n",
       "      <td>0</td>\n",
       "      <td>1</td>\n",
       "      <td>0</td>\n",
       "      <td>Average</td>\n",
       "      <td>1</td>\n",
       "    </tr>\n",
       "    <tr>\n",
       "      <th>1</th>\n",
       "      <td>57fea15e</td>\n",
       "      <td>53</td>\n",
       "      <td>Female</td>\n",
       "      <td>Less than 5L</td>\n",
       "      <td>875572.11</td>\n",
       "      <td>2</td>\n",
       "      <td>1</td>\n",
       "      <td>1</td>\n",
       "      <td>1</td>\n",
       "      <td>Poor</td>\n",
       "      <td>0</td>\n",
       "    </tr>\n",
       "    <tr>\n",
       "      <th>2</th>\n",
       "      <td>8df34ef3</td>\n",
       "      <td>35</td>\n",
       "      <td>Female</td>\n",
       "      <td>More than 15L</td>\n",
       "      <td>701607.06</td>\n",
       "      <td>2</td>\n",
       "      <td>1</td>\n",
       "      <td>2</td>\n",
       "      <td>0</td>\n",
       "      <td>Poor</td>\n",
       "      <td>0</td>\n",
       "    </tr>\n",
       "    <tr>\n",
       "      <th>3</th>\n",
       "      <td>c5c0788b</td>\n",
       "      <td>43</td>\n",
       "      <td>Female</td>\n",
       "      <td>More than 15L</td>\n",
       "      <td>1393922.16</td>\n",
       "      <td>0</td>\n",
       "      <td>1</td>\n",
       "      <td>2</td>\n",
       "      <td>1</td>\n",
       "      <td>Poor</td>\n",
       "      <td>1</td>\n",
       "    </tr>\n",
       "    <tr>\n",
       "      <th>4</th>\n",
       "      <td>951d69c4</td>\n",
       "      <td>39</td>\n",
       "      <td>Female</td>\n",
       "      <td>More than 15L</td>\n",
       "      <td>893146.23</td>\n",
       "      <td>1</td>\n",
       "      <td>1</td>\n",
       "      <td>1</td>\n",
       "      <td>1</td>\n",
       "      <td>Good</td>\n",
       "      <td>1</td>\n",
       "    </tr>\n",
       "  </tbody>\n",
       "</table>\n",
       "</div>"
      ],
      "text/plain": [
       "         ID  Age  Gender         Income     Balance  Vintage  \\\n",
       "0  84e2fcc9   36  Female       5L - 10L   563266.44        4   \n",
       "1  57fea15e   53  Female   Less than 5L   875572.11        2   \n",
       "2  8df34ef3   35  Female  More than 15L   701607.06        2   \n",
       "3  c5c0788b   43  Female  More than 15L  1393922.16        0   \n",
       "4  951d69c4   39  Female  More than 15L   893146.23        1   \n",
       "\n",
       "   Transaction_Status Product_Holdings  Credit_Card Credit_Category  Is_Churn  \n",
       "0                   0                1            0         Average         1  \n",
       "1                   1                1            1            Poor         0  \n",
       "2                   1                2            0            Poor         0  \n",
       "3                   1                2            1            Poor         1  \n",
       "4                   1                1            1            Good         1  "
      ]
     },
     "execution_count": 3,
     "metadata": {},
     "output_type": "execute_result"
    }
   ],
   "source": [
    "#displaying first 5 rows of training set\n",
    "train_data.head()"
   ]
  },
  {
   "cell_type": "code",
   "execution_count": 4,
   "id": "4b459281",
   "metadata": {},
   "outputs": [
    {
     "data": {
      "text/plain": [
       "(6650, 11)"
      ]
     },
     "execution_count": 4,
     "metadata": {},
     "output_type": "execute_result"
    }
   ],
   "source": [
    "#shape of training set\n",
    "train_data.shape"
   ]
  },
  {
   "cell_type": "markdown",
   "id": "c881c187",
   "metadata": {},
   "source": [
    "There are 6650 rows and 11 columns in the training set."
   ]
  },
  {
   "cell_type": "code",
   "execution_count": 5,
   "id": "cf763509",
   "metadata": {},
   "outputs": [],
   "source": [
    "#loading the test set\n",
    "test = pd.read_csv('test.csv')"
   ]
  },
  {
   "cell_type": "code",
   "execution_count": 6,
   "id": "d68d054c",
   "metadata": {},
   "outputs": [
    {
     "data": {
      "text/html": [
       "<div>\n",
       "<style scoped>\n",
       "    .dataframe tbody tr th:only-of-type {\n",
       "        vertical-align: middle;\n",
       "    }\n",
       "\n",
       "    .dataframe tbody tr th {\n",
       "        vertical-align: top;\n",
       "    }\n",
       "\n",
       "    .dataframe thead th {\n",
       "        text-align: right;\n",
       "    }\n",
       "</style>\n",
       "<table border=\"1\" class=\"dataframe\">\n",
       "  <thead>\n",
       "    <tr style=\"text-align: right;\">\n",
       "      <th></th>\n",
       "      <th>ID</th>\n",
       "      <th>Age</th>\n",
       "      <th>Gender</th>\n",
       "      <th>Income</th>\n",
       "      <th>Balance</th>\n",
       "      <th>Vintage</th>\n",
       "      <th>Transaction_Status</th>\n",
       "      <th>Product_Holdings</th>\n",
       "      <th>Credit_Card</th>\n",
       "      <th>Credit_Category</th>\n",
       "    </tr>\n",
       "  </thead>\n",
       "  <tbody>\n",
       "    <tr>\n",
       "      <th>0</th>\n",
       "      <td>55480787</td>\n",
       "      <td>50</td>\n",
       "      <td>Female</td>\n",
       "      <td>More than 15L</td>\n",
       "      <td>1008636.39</td>\n",
       "      <td>2</td>\n",
       "      <td>1</td>\n",
       "      <td>2</td>\n",
       "      <td>1</td>\n",
       "      <td>Average</td>\n",
       "    </tr>\n",
       "    <tr>\n",
       "      <th>1</th>\n",
       "      <td>9aededf2</td>\n",
       "      <td>36</td>\n",
       "      <td>Male</td>\n",
       "      <td>5L - 10L</td>\n",
       "      <td>341460.72</td>\n",
       "      <td>2</td>\n",
       "      <td>0</td>\n",
       "      <td>2</td>\n",
       "      <td>1</td>\n",
       "      <td>Average</td>\n",
       "    </tr>\n",
       "    <tr>\n",
       "      <th>2</th>\n",
       "      <td>a5034a09</td>\n",
       "      <td>25</td>\n",
       "      <td>Female</td>\n",
       "      <td>10L - 15L</td>\n",
       "      <td>439460.10</td>\n",
       "      <td>0</td>\n",
       "      <td>0</td>\n",
       "      <td>2</td>\n",
       "      <td>1</td>\n",
       "      <td>Good</td>\n",
       "    </tr>\n",
       "    <tr>\n",
       "      <th>3</th>\n",
       "      <td>b3256702</td>\n",
       "      <td>41</td>\n",
       "      <td>Male</td>\n",
       "      <td>Less than 5L</td>\n",
       "      <td>28581.93</td>\n",
       "      <td>0</td>\n",
       "      <td>1</td>\n",
       "      <td>2</td>\n",
       "      <td>1</td>\n",
       "      <td>Poor</td>\n",
       "    </tr>\n",
       "    <tr>\n",
       "      <th>4</th>\n",
       "      <td>dc28adb5</td>\n",
       "      <td>48</td>\n",
       "      <td>Male</td>\n",
       "      <td>More than 15L</td>\n",
       "      <td>1104540.03</td>\n",
       "      <td>2</td>\n",
       "      <td>1</td>\n",
       "      <td>3+</td>\n",
       "      <td>0</td>\n",
       "      <td>Good</td>\n",
       "    </tr>\n",
       "  </tbody>\n",
       "</table>\n",
       "</div>"
      ],
      "text/plain": [
       "         ID  Age  Gender         Income     Balance  Vintage  \\\n",
       "0  55480787   50  Female  More than 15L  1008636.39        2   \n",
       "1  9aededf2   36    Male       5L - 10L   341460.72        2   \n",
       "2  a5034a09   25  Female      10L - 15L   439460.10        0   \n",
       "3  b3256702   41    Male   Less than 5L    28581.93        0   \n",
       "4  dc28adb5   48    Male  More than 15L  1104540.03        2   \n",
       "\n",
       "   Transaction_Status Product_Holdings  Credit_Card Credit_Category  \n",
       "0                   1                2            1         Average  \n",
       "1                   0                2            1         Average  \n",
       "2                   0                2            1            Good  \n",
       "3                   1                2            1            Poor  \n",
       "4                   1               3+            0            Good  "
      ]
     },
     "execution_count": 6,
     "metadata": {},
     "output_type": "execute_result"
    }
   ],
   "source": [
    "#displaying first 5 rows in the test data\n",
    "test.head()"
   ]
  },
  {
   "cell_type": "code",
   "execution_count": 7,
   "id": "19ab0a71",
   "metadata": {},
   "outputs": [
    {
     "data": {
      "text/plain": [
       "(2851, 10)"
      ]
     },
     "execution_count": 7,
     "metadata": {},
     "output_type": "execute_result"
    }
   ],
   "source": [
    "#shape of the test set\n",
    "test.shape"
   ]
  },
  {
   "cell_type": "markdown",
   "id": "e8bd9693",
   "metadata": {},
   "source": [
    "There are 2851 rows and 10 columns in the test data."
   ]
  },
  {
   "cell_type": "code",
   "execution_count": 8,
   "id": "19edc054",
   "metadata": {},
   "outputs": [
    {
     "name": "stdout",
     "output_type": "stream",
     "text": [
      "<class 'pandas.core.frame.DataFrame'>\n",
      "RangeIndex: 6650 entries, 0 to 6649\n",
      "Data columns (total 11 columns):\n",
      " #   Column              Non-Null Count  Dtype  \n",
      "---  ------              --------------  -----  \n",
      " 0   ID                  6650 non-null   object \n",
      " 1   Age                 6650 non-null   int64  \n",
      " 2   Gender              6650 non-null   object \n",
      " 3   Income              6650 non-null   object \n",
      " 4   Balance             6650 non-null   float64\n",
      " 5   Vintage             6650 non-null   int64  \n",
      " 6   Transaction_Status  6650 non-null   int64  \n",
      " 7   Product_Holdings    6650 non-null   object \n",
      " 8   Credit_Card         6650 non-null   int64  \n",
      " 9   Credit_Category     6650 non-null   object \n",
      " 10  Is_Churn            6650 non-null   int64  \n",
      "dtypes: float64(1), int64(5), object(5)\n",
      "memory usage: 571.6+ KB\n"
     ]
    }
   ],
   "source": [
    "#getting concise summary of the training data\n",
    "train_data.info()"
   ]
  },
  {
   "cell_type": "code",
   "execution_count": 9,
   "id": "8d91d83a",
   "metadata": {},
   "outputs": [
    {
     "name": "stdout",
     "output_type": "stream",
     "text": [
      "<class 'pandas.core.frame.DataFrame'>\n",
      "RangeIndex: 2851 entries, 0 to 2850\n",
      "Data columns (total 10 columns):\n",
      " #   Column              Non-Null Count  Dtype  \n",
      "---  ------              --------------  -----  \n",
      " 0   ID                  2851 non-null   object \n",
      " 1   Age                 2851 non-null   int64  \n",
      " 2   Gender              2851 non-null   object \n",
      " 3   Income              2851 non-null   object \n",
      " 4   Balance             2851 non-null   float64\n",
      " 5   Vintage             2851 non-null   int64  \n",
      " 6   Transaction_Status  2851 non-null   int64  \n",
      " 7   Product_Holdings    2851 non-null   object \n",
      " 8   Credit_Card         2851 non-null   int64  \n",
      " 9   Credit_Category     2851 non-null   object \n",
      "dtypes: float64(1), int64(4), object(5)\n",
      "memory usage: 222.9+ KB\n"
     ]
    }
   ],
   "source": [
    "#getting concise summary of the test data\n",
    "test.info()"
   ]
  },
  {
   "cell_type": "markdown",
   "id": "4b8355ac",
   "metadata": {},
   "source": [
    "Here the feature 'Transaction_Status' and 'Credit_Card' are categorical, but their datatype is given as int64. So, we have to change their datatype to object."
   ]
  },
  {
   "cell_type": "code",
   "execution_count": 10,
   "id": "8243be2d",
   "metadata": {},
   "outputs": [],
   "source": [
    "#changing the datatypes\n",
    "features = ['Transaction_Status','Credit_Card']\n",
    "for f in features:\n",
    "    train_data[f] = train_data[f].astype('object')\n",
    "    test[f] = test[f].astype('object')\n",
    "#train_data['Is_Churn'] = train_data['Is_Churn'].astype('object')"
   ]
  },
  {
   "cell_type": "code",
   "execution_count": 11,
   "id": "fcc004d6",
   "metadata": {},
   "outputs": [
    {
     "data": {
      "text/plain": [
       "ID                     object\n",
       "Age                     int64\n",
       "Gender                 object\n",
       "Income                 object\n",
       "Balance               float64\n",
       "Vintage                 int64\n",
       "Transaction_Status     object\n",
       "Product_Holdings       object\n",
       "Credit_Card            object\n",
       "Credit_Category        object\n",
       "Is_Churn                int64\n",
       "dtype: object"
      ]
     },
     "execution_count": 11,
     "metadata": {},
     "output_type": "execute_result"
    }
   ],
   "source": [
    "#checking the datatypes\n",
    "train_data.dtypes"
   ]
  },
  {
   "cell_type": "code",
   "execution_count": 12,
   "id": "fd7e70ab",
   "metadata": {},
   "outputs": [
    {
     "data": {
      "text/html": [
       "<div>\n",
       "<style scoped>\n",
       "    .dataframe tbody tr th:only-of-type {\n",
       "        vertical-align: middle;\n",
       "    }\n",
       "\n",
       "    .dataframe tbody tr th {\n",
       "        vertical-align: top;\n",
       "    }\n",
       "\n",
       "    .dataframe thead th {\n",
       "        text-align: right;\n",
       "    }\n",
       "</style>\n",
       "<table border=\"1\" class=\"dataframe\">\n",
       "  <thead>\n",
       "    <tr style=\"text-align: right;\">\n",
       "      <th></th>\n",
       "      <th>Age</th>\n",
       "      <th>Balance</th>\n",
       "      <th>Vintage</th>\n",
       "      <th>Is_Churn</th>\n",
       "    </tr>\n",
       "  </thead>\n",
       "  <tbody>\n",
       "    <tr>\n",
       "      <th>count</th>\n",
       "      <td>6650.000000</td>\n",
       "      <td>6.650000e+03</td>\n",
       "      <td>6650.000000</td>\n",
       "      <td>6650.000000</td>\n",
       "    </tr>\n",
       "    <tr>\n",
       "      <th>mean</th>\n",
       "      <td>41.130226</td>\n",
       "      <td>8.045954e+05</td>\n",
       "      <td>2.250226</td>\n",
       "      <td>0.231128</td>\n",
       "    </tr>\n",
       "    <tr>\n",
       "      <th>std</th>\n",
       "      <td>9.685747</td>\n",
       "      <td>5.157549e+05</td>\n",
       "      <td>1.458795</td>\n",
       "      <td>0.421586</td>\n",
       "    </tr>\n",
       "    <tr>\n",
       "      <th>min</th>\n",
       "      <td>21.000000</td>\n",
       "      <td>6.300000e+01</td>\n",
       "      <td>0.000000</td>\n",
       "      <td>0.000000</td>\n",
       "    </tr>\n",
       "    <tr>\n",
       "      <th>25%</th>\n",
       "      <td>34.000000</td>\n",
       "      <td>3.922642e+05</td>\n",
       "      <td>1.000000</td>\n",
       "      <td>0.000000</td>\n",
       "    </tr>\n",
       "    <tr>\n",
       "      <th>50%</th>\n",
       "      <td>40.000000</td>\n",
       "      <td>7.649386e+05</td>\n",
       "      <td>2.000000</td>\n",
       "      <td>0.000000</td>\n",
       "    </tr>\n",
       "    <tr>\n",
       "      <th>75%</th>\n",
       "      <td>47.000000</td>\n",
       "      <td>1.147124e+06</td>\n",
       "      <td>3.000000</td>\n",
       "      <td>0.000000</td>\n",
       "    </tr>\n",
       "    <tr>\n",
       "      <th>max</th>\n",
       "      <td>72.000000</td>\n",
       "      <td>2.436616e+06</td>\n",
       "      <td>5.000000</td>\n",
       "      <td>1.000000</td>\n",
       "    </tr>\n",
       "  </tbody>\n",
       "</table>\n",
       "</div>"
      ],
      "text/plain": [
       "               Age       Balance      Vintage     Is_Churn\n",
       "count  6650.000000  6.650000e+03  6650.000000  6650.000000\n",
       "mean     41.130226  8.045954e+05     2.250226     0.231128\n",
       "std       9.685747  5.157549e+05     1.458795     0.421586\n",
       "min      21.000000  6.300000e+01     0.000000     0.000000\n",
       "25%      34.000000  3.922642e+05     1.000000     0.000000\n",
       "50%      40.000000  7.649386e+05     2.000000     0.000000\n",
       "75%      47.000000  1.147124e+06     3.000000     0.000000\n",
       "max      72.000000  2.436616e+06     5.000000     1.000000"
      ]
     },
     "execution_count": 12,
     "metadata": {},
     "output_type": "execute_result"
    }
   ],
   "source": [
    "#statistical summary of training data\n",
    "train_data.describe()"
   ]
  },
  {
   "cell_type": "code",
   "execution_count": 13,
   "id": "352a3c77",
   "metadata": {},
   "outputs": [
    {
     "data": {
      "text/html": [
       "<div>\n",
       "<style scoped>\n",
       "    .dataframe tbody tr th:only-of-type {\n",
       "        vertical-align: middle;\n",
       "    }\n",
       "\n",
       "    .dataframe tbody tr th {\n",
       "        vertical-align: top;\n",
       "    }\n",
       "\n",
       "    .dataframe thead th {\n",
       "        text-align: right;\n",
       "    }\n",
       "</style>\n",
       "<table border=\"1\" class=\"dataframe\">\n",
       "  <thead>\n",
       "    <tr style=\"text-align: right;\">\n",
       "      <th></th>\n",
       "      <th>Age</th>\n",
       "      <th>Balance</th>\n",
       "      <th>Vintage</th>\n",
       "    </tr>\n",
       "  </thead>\n",
       "  <tbody>\n",
       "    <tr>\n",
       "      <th>count</th>\n",
       "      <td>2851.000000</td>\n",
       "      <td>2.851000e+03</td>\n",
       "      <td>2851.000000</td>\n",
       "    </tr>\n",
       "    <tr>\n",
       "      <th>mean</th>\n",
       "      <td>41.252192</td>\n",
       "      <td>8.098990e+05</td>\n",
       "      <td>2.220975</td>\n",
       "    </tr>\n",
       "    <tr>\n",
       "      <th>std</th>\n",
       "      <td>9.616756</td>\n",
       "      <td>5.252003e+05</td>\n",
       "      <td>1.489941</td>\n",
       "    </tr>\n",
       "    <tr>\n",
       "      <th>min</th>\n",
       "      <td>21.000000</td>\n",
       "      <td>1.503000e+03</td>\n",
       "      <td>0.000000</td>\n",
       "    </tr>\n",
       "    <tr>\n",
       "      <th>25%</th>\n",
       "      <td>34.000000</td>\n",
       "      <td>4.009684e+05</td>\n",
       "      <td>1.000000</td>\n",
       "    </tr>\n",
       "    <tr>\n",
       "      <th>50%</th>\n",
       "      <td>40.000000</td>\n",
       "      <td>7.659125e+05</td>\n",
       "      <td>2.000000</td>\n",
       "    </tr>\n",
       "    <tr>\n",
       "      <th>75%</th>\n",
       "      <td>47.000000</td>\n",
       "      <td>1.154238e+06</td>\n",
       "      <td>3.000000</td>\n",
       "    </tr>\n",
       "    <tr>\n",
       "      <th>max</th>\n",
       "      <td>72.000000</td>\n",
       "      <td>2.434834e+06</td>\n",
       "      <td>5.000000</td>\n",
       "    </tr>\n",
       "  </tbody>\n",
       "</table>\n",
       "</div>"
      ],
      "text/plain": [
       "               Age       Balance      Vintage\n",
       "count  2851.000000  2.851000e+03  2851.000000\n",
       "mean     41.252192  8.098990e+05     2.220975\n",
       "std       9.616756  5.252003e+05     1.489941\n",
       "min      21.000000  1.503000e+03     0.000000\n",
       "25%      34.000000  4.009684e+05     1.000000\n",
       "50%      40.000000  7.659125e+05     2.000000\n",
       "75%      47.000000  1.154238e+06     3.000000\n",
       "max      72.000000  2.434834e+06     5.000000"
      ]
     },
     "execution_count": 13,
     "metadata": {},
     "output_type": "execute_result"
    }
   ],
   "source": [
    "#statistical summary of the test data\n",
    "test.describe()"
   ]
  },
  {
   "cell_type": "markdown",
   "id": "b308d787",
   "metadata": {},
   "source": [
    "### Preprocessing"
   ]
  },
  {
   "cell_type": "code",
   "execution_count": 14,
   "id": "49c07fd6",
   "metadata": {},
   "outputs": [
    {
     "data": {
      "text/plain": [
       "ID                    0\n",
       "Age                   0\n",
       "Gender                0\n",
       "Income                0\n",
       "Balance               0\n",
       "Vintage               0\n",
       "Transaction_Status    0\n",
       "Product_Holdings      0\n",
       "Credit_Card           0\n",
       "Credit_Category       0\n",
       "Is_Churn              0\n",
       "dtype: int64"
      ]
     },
     "execution_count": 14,
     "metadata": {},
     "output_type": "execute_result"
    }
   ],
   "source": [
    "#checking for missing values in train data\n",
    "train_data.isna().sum()"
   ]
  },
  {
   "cell_type": "code",
   "execution_count": 15,
   "id": "b0519b85",
   "metadata": {},
   "outputs": [
    {
     "data": {
      "text/plain": [
       "ID                    0\n",
       "Age                   0\n",
       "Gender                0\n",
       "Income                0\n",
       "Balance               0\n",
       "Vintage               0\n",
       "Transaction_Status    0\n",
       "Product_Holdings      0\n",
       "Credit_Card           0\n",
       "Credit_Category       0\n",
       "dtype: int64"
      ]
     },
     "execution_count": 15,
     "metadata": {},
     "output_type": "execute_result"
    }
   ],
   "source": [
    "#checking for missing values in test data\n",
    "test.isna().sum()"
   ]
  },
  {
   "cell_type": "markdown",
   "id": "c067cf98",
   "metadata": {},
   "source": [
    "There are no missing values in both train and test data."
   ]
  },
  {
   "cell_type": "code",
   "execution_count": 16,
   "id": "d9aaa896",
   "metadata": {},
   "outputs": [
    {
     "data": {
      "image/png": "[encoded data removed]",
      "text/plain": [
       "<Figure size 1080x576 with 3 Axes>"
      ]
     },
     "metadata": {
      "needs_background": "light"
     },
     "output_type": "display_data"
    }
   ],
   "source": [
    "#checking for outliers in the train data\n",
    "num_columns = train_data.select_dtypes(exclude=['object']).columns.difference(['Is_Churn'])\n",
    "plt.figure(figsize=(15,8))\n",
    "for i,feature in enumerate(num_columns):\n",
    "    plt.subplot(1,3,i+1)\n",
    "    plt.boxplot(train_data[feature])\n",
    "    plt.title(feature)\n"
   ]
  },
  {
   "cell_type": "markdown",
   "id": "825890af",
   "metadata": {},
   "source": [
    "There are some outliers in 'Age' and 'Balance' columns. Outliers in 'Age' column is between 65-80 age, that are valid age values, and we can't consider them as an outlier for this dataset."
   ]
  },
  {
   "cell_type": "code",
   "execution_count": 17,
   "id": "2c6258ef",
   "metadata": {},
   "outputs": [
    {
     "data": {
      "text/plain": [
       "2436615.81"
      ]
     },
     "execution_count": 17,
     "metadata": {},
     "output_type": "execute_result"
    }
   ],
   "source": [
    "train_data['Balance'].max()"
   ]
  },
  {
   "cell_type": "markdown",
   "id": "deddc599",
   "metadata": {},
   "source": [
    "The maximum values in 'Balance' column can't be considered as an outlier."
   ]
  },
  {
   "cell_type": "code",
   "execution_count": 18,
   "id": "593ad268",
   "metadata": {},
   "outputs": [],
   "source": [
    "#splitting the training set into feature matrix and target vector\n",
    "X = train_data.drop('Is_Churn',axis=1)\n",
    "y = train_data['Is_Churn']"
   ]
  },
  {
   "cell_type": "code",
   "execution_count": 19,
   "id": "579ca1b4",
   "metadata": {},
   "outputs": [
    {
     "data": {
      "text/plain": [
       "(6650, 10)"
      ]
     },
     "execution_count": 19,
     "metadata": {},
     "output_type": "execute_result"
    }
   ],
   "source": [
    "#shape of the feature matrix\n",
    "X.shape"
   ]
  },
  {
   "cell_type": "code",
   "execution_count": 20,
   "id": "7bbd07a3",
   "metadata": {},
   "outputs": [
    {
     "data": {
      "text/plain": [
       "(6650,)"
      ]
     },
     "execution_count": 20,
     "metadata": {},
     "output_type": "execute_result"
    }
   ],
   "source": [
    "#shape of the target vector\n",
    "y.shape"
   ]
  },
  {
   "cell_type": "code",
   "execution_count": 21,
   "id": "c4de1469",
   "metadata": {},
   "outputs": [
    {
     "data": {
      "text/plain": [
       "Index(['ID', 'Age', 'Gender', 'Income', 'Balance', 'Vintage',\n",
       "       'Transaction_Status', 'Product_Holdings', 'Credit_Card',\n",
       "       'Credit_Category'],\n",
       "      dtype='object')"
      ]
     },
     "execution_count": 21,
     "metadata": {},
     "output_type": "execute_result"
    }
   ],
   "source": [
    "X.columns"
   ]
  },
  {
   "cell_type": "code",
   "execution_count": 22,
   "id": "0b38eb98",
   "metadata": {},
   "outputs": [],
   "source": [
    "#droping the ID column from feature matrix and test data as it isn't required for our ml model\n",
    "X.drop('ID',axis=1,inplace=True)\n",
    "test_data = test.drop('ID',axis=1)"
   ]
  },
  {
   "cell_type": "code",
   "execution_count": 23,
   "id": "6131e1e2",
   "metadata": {},
   "outputs": [],
   "source": [
    "#one-hot encoding\n",
    "encoded_train_data = pd.get_dummies(X,drop_first=True)\n",
    "encoded_test_data = pd.get_dummies(test_data,drop_first=True)"
   ]
  },
  {
   "cell_type": "code",
   "execution_count": 24,
   "id": "1ce5120d",
   "metadata": {},
   "outputs": [
    {
     "data": {
      "text/plain": [
       "Index(['Age', 'Balance', 'Vintage', 'Gender_Male', 'Income_5L - 10L',\n",
       "       'Income_Less than 5L', 'Income_More than 15L', 'Transaction_Status_1',\n",
       "       'Product_Holdings_2', 'Product_Holdings_3+', 'Credit_Card_1',\n",
       "       'Credit_Category_Good', 'Credit_Category_Poor'],\n",
       "      dtype='object')"
      ]
     },
     "execution_count": 24,
     "metadata": {},
     "output_type": "execute_result"
    }
   ],
   "source": [
    "encoded_train_data.columns"
   ]
  },
  {
   "cell_type": "code",
   "execution_count": 25,
   "id": "a3531fcb",
   "metadata": {},
   "outputs": [
    {
     "data": {
      "text/plain": [
       "Index(['Age', 'Balance', 'Vintage', 'Gender_Male', 'Income_5L - 10L',\n",
       "       'Income_Less than 5L', 'Income_More than 15L', 'Transaction_Status_1',\n",
       "       'Product_Holdings_2', 'Product_Holdings_3+', 'Credit_Card_1',\n",
       "       'Credit_Category_Good', 'Credit_Category_Poor'],\n",
       "      dtype='object')"
      ]
     },
     "execution_count": 25,
     "metadata": {},
     "output_type": "execute_result"
    }
   ],
   "source": [
    "encoded_test_data.columns"
   ]
  },
  {
   "cell_type": "code",
   "execution_count": 26,
   "id": "172e437e",
   "metadata": {},
   "outputs": [
    {
     "data": {
      "text/html": [
       "<div>\n",
       "<style scoped>\n",
       "    .dataframe tbody tr th:only-of-type {\n",
       "        vertical-align: middle;\n",
       "    }\n",
       "\n",
       "    .dataframe tbody tr th {\n",
       "        vertical-align: top;\n",
       "    }\n",
       "\n",
       "    .dataframe thead th {\n",
       "        text-align: right;\n",
       "    }\n",
       "</style>\n",
       "<table border=\"1\" class=\"dataframe\">\n",
       "  <thead>\n",
       "    <tr style=\"text-align: right;\">\n",
       "      <th></th>\n",
       "      <th>Age</th>\n",
       "      <th>Balance</th>\n",
       "      <th>Vintage</th>\n",
       "    </tr>\n",
       "  </thead>\n",
       "  <tbody>\n",
       "    <tr>\n",
       "      <th>count</th>\n",
       "      <td>6650.000000</td>\n",
       "      <td>6.650000e+03</td>\n",
       "      <td>6650.000000</td>\n",
       "    </tr>\n",
       "    <tr>\n",
       "      <th>mean</th>\n",
       "      <td>41.130226</td>\n",
       "      <td>8.045954e+05</td>\n",
       "      <td>2.250226</td>\n",
       "    </tr>\n",
       "    <tr>\n",
       "      <th>std</th>\n",
       "      <td>9.685747</td>\n",
       "      <td>5.157549e+05</td>\n",
       "      <td>1.458795</td>\n",
       "    </tr>\n",
       "    <tr>\n",
       "      <th>min</th>\n",
       "      <td>21.000000</td>\n",
       "      <td>6.300000e+01</td>\n",
       "      <td>0.000000</td>\n",
       "    </tr>\n",
       "    <tr>\n",
       "      <th>25%</th>\n",
       "      <td>34.000000</td>\n",
       "      <td>3.922642e+05</td>\n",
       "      <td>1.000000</td>\n",
       "    </tr>\n",
       "    <tr>\n",
       "      <th>50%</th>\n",
       "      <td>40.000000</td>\n",
       "      <td>7.649386e+05</td>\n",
       "      <td>2.000000</td>\n",
       "    </tr>\n",
       "    <tr>\n",
       "      <th>75%</th>\n",
       "      <td>47.000000</td>\n",
       "      <td>1.147124e+06</td>\n",
       "      <td>3.000000</td>\n",
       "    </tr>\n",
       "    <tr>\n",
       "      <th>max</th>\n",
       "      <td>72.000000</td>\n",
       "      <td>2.436616e+06</td>\n",
       "      <td>5.000000</td>\n",
       "    </tr>\n",
       "  </tbody>\n",
       "</table>\n",
       "</div>"
      ],
      "text/plain": [
       "               Age       Balance      Vintage\n",
       "count  6650.000000  6.650000e+03  6650.000000\n",
       "mean     41.130226  8.045954e+05     2.250226\n",
       "std       9.685747  5.157549e+05     1.458795\n",
       "min      21.000000  6.300000e+01     0.000000\n",
       "25%      34.000000  3.922642e+05     1.000000\n",
       "50%      40.000000  7.649386e+05     2.000000\n",
       "75%      47.000000  1.147124e+06     3.000000\n",
       "max      72.000000  2.436616e+06     5.000000"
      ]
     },
     "execution_count": 26,
     "metadata": {},
     "output_type": "execute_result"
    }
   ],
   "source": [
    "numerical_train_data = encoded_train_data.select_dtypes(include=['int64','float64'])\n",
    "numerical_train_data.describe()"
   ]
  },
  {
   "cell_type": "markdown",
   "id": "7bca09b2",
   "metadata": {},
   "source": [
    "All numerical columns are in different scales. So, we have to do feature scaling."
   ]
  },
  {
   "cell_type": "code",
   "execution_count": 27,
   "id": "68405923",
   "metadata": {},
   "outputs": [],
   "source": [
    "#standard scaling\n",
    "standard_scale = StandardScaler()\n",
    "num_col = numerical_train_data.columns\n",
    "scale = standard_scale.fit(numerical_train_data)\n",
    "#scaling train data\n",
    "encoded_train_data[num_col] = scale.transform(numerical_train_data)\n",
    "\n",
    "#scaling test data\n",
    "numerical_test_data = encoded_test_data.select_dtypes(include=['int64','float64'])\n",
    "encoded_test_data[num_col] = scale.transform(numerical_test_data)"
   ]
  },
  {
   "cell_type": "code",
   "execution_count": 28,
   "id": "db6dcad0",
   "metadata": {},
   "outputs": [
    {
     "data": {
      "text/html": [
       "<div>\n",
       "<style scoped>\n",
       "    .dataframe tbody tr th:only-of-type {\n",
       "        vertical-align: middle;\n",
       "    }\n",
       "\n",
       "    .dataframe tbody tr th {\n",
       "        vertical-align: top;\n",
       "    }\n",
       "\n",
       "    .dataframe thead th {\n",
       "        text-align: right;\n",
       "    }\n",
       "</style>\n",
       "<table border=\"1\" class=\"dataframe\">\n",
       "  <thead>\n",
       "    <tr style=\"text-align: right;\">\n",
       "      <th></th>\n",
       "      <th>Age</th>\n",
       "      <th>Balance</th>\n",
       "      <th>Vintage</th>\n",
       "      <th>Gender_Male</th>\n",
       "      <th>Income_5L - 10L</th>\n",
       "      <th>Income_Less than 5L</th>\n",
       "      <th>Income_More than 15L</th>\n",
       "      <th>Transaction_Status_1</th>\n",
       "      <th>Product_Holdings_2</th>\n",
       "      <th>Product_Holdings_3+</th>\n",
       "      <th>Credit_Card_1</th>\n",
       "      <th>Credit_Category_Good</th>\n",
       "      <th>Credit_Category_Poor</th>\n",
       "    </tr>\n",
       "  </thead>\n",
       "  <tbody>\n",
       "    <tr>\n",
       "      <th>count</th>\n",
       "      <td>6.650000e+03</td>\n",
       "      <td>6.650000e+03</td>\n",
       "      <td>6.650000e+03</td>\n",
       "      <td>6650.000000</td>\n",
       "      <td>6650.000000</td>\n",
       "      <td>6650.000000</td>\n",
       "      <td>6650.000000</td>\n",
       "      <td>6650.000000</td>\n",
       "      <td>6650.000000</td>\n",
       "      <td>6650.000000</td>\n",
       "      <td>6650.000000</td>\n",
       "      <td>6650.000000</td>\n",
       "      <td>6650.000000</td>\n",
       "    </tr>\n",
       "    <tr>\n",
       "      <th>mean</th>\n",
       "      <td>-1.014644e-16</td>\n",
       "      <td>-1.782315e-16</td>\n",
       "      <td>-2.866546e-17</td>\n",
       "      <td>0.543158</td>\n",
       "      <td>0.277744</td>\n",
       "      <td>0.236541</td>\n",
       "      <td>0.202256</td>\n",
       "      <td>0.515789</td>\n",
       "      <td>0.478496</td>\n",
       "      <td>0.040301</td>\n",
       "      <td>0.664361</td>\n",
       "      <td>0.230226</td>\n",
       "      <td>0.462556</td>\n",
       "    </tr>\n",
       "    <tr>\n",
       "      <th>std</th>\n",
       "      <td>1.000075e+00</td>\n",
       "      <td>1.000075e+00</td>\n",
       "      <td>1.000075e+00</td>\n",
       "      <td>0.498171</td>\n",
       "      <td>0.447920</td>\n",
       "      <td>0.424990</td>\n",
       "      <td>0.401712</td>\n",
       "      <td>0.499788</td>\n",
       "      <td>0.499575</td>\n",
       "      <td>0.196678</td>\n",
       "      <td>0.472249</td>\n",
       "      <td>0.421009</td>\n",
       "      <td>0.498633</td>\n",
       "    </tr>\n",
       "    <tr>\n",
       "      <th>min</th>\n",
       "      <td>-2.078491e+00</td>\n",
       "      <td>-1.560030e+00</td>\n",
       "      <td>-1.542639e+00</td>\n",
       "      <td>0.000000</td>\n",
       "      <td>0.000000</td>\n",
       "      <td>0.000000</td>\n",
       "      <td>0.000000</td>\n",
       "      <td>0.000000</td>\n",
       "      <td>0.000000</td>\n",
       "      <td>0.000000</td>\n",
       "      <td>0.000000</td>\n",
       "      <td>0.000000</td>\n",
       "      <td>0.000000</td>\n",
       "    </tr>\n",
       "    <tr>\n",
       "      <th>25%</th>\n",
       "      <td>-7.362119e-01</td>\n",
       "      <td>-7.995313e-01</td>\n",
       "      <td>-8.570906e-01</td>\n",
       "      <td>0.000000</td>\n",
       "      <td>0.000000</td>\n",
       "      <td>0.000000</td>\n",
       "      <td>0.000000</td>\n",
       "      <td>0.000000</td>\n",
       "      <td>0.000000</td>\n",
       "      <td>0.000000</td>\n",
       "      <td>0.000000</td>\n",
       "      <td>0.000000</td>\n",
       "      <td>0.000000</td>\n",
       "    </tr>\n",
       "    <tr>\n",
       "      <th>50%</th>\n",
       "      <td>-1.166983e-01</td>\n",
       "      <td>-7.689653e-02</td>\n",
       "      <td>-1.715418e-01</td>\n",
       "      <td>1.000000</td>\n",
       "      <td>0.000000</td>\n",
       "      <td>0.000000</td>\n",
       "      <td>0.000000</td>\n",
       "      <td>1.000000</td>\n",
       "      <td>0.000000</td>\n",
       "      <td>0.000000</td>\n",
       "      <td>1.000000</td>\n",
       "      <td>0.000000</td>\n",
       "      <td>0.000000</td>\n",
       "    </tr>\n",
       "    <tr>\n",
       "      <th>75%</th>\n",
       "      <td>6.060674e-01</td>\n",
       "      <td>6.641801e-01</td>\n",
       "      <td>5.140070e-01</td>\n",
       "      <td>1.000000</td>\n",
       "      <td>1.000000</td>\n",
       "      <td>0.000000</td>\n",
       "      <td>0.000000</td>\n",
       "      <td>1.000000</td>\n",
       "      <td>1.000000</td>\n",
       "      <td>0.000000</td>\n",
       "      <td>1.000000</td>\n",
       "      <td>0.000000</td>\n",
       "      <td>1.000000</td>\n",
       "    </tr>\n",
       "    <tr>\n",
       "      <th>max</th>\n",
       "      <td>3.187374e+00</td>\n",
       "      <td>3.164572e+00</td>\n",
       "      <td>1.885105e+00</td>\n",
       "      <td>1.000000</td>\n",
       "      <td>1.000000</td>\n",
       "      <td>1.000000</td>\n",
       "      <td>1.000000</td>\n",
       "      <td>1.000000</td>\n",
       "      <td>1.000000</td>\n",
       "      <td>1.000000</td>\n",
       "      <td>1.000000</td>\n",
       "      <td>1.000000</td>\n",
       "      <td>1.000000</td>\n",
       "    </tr>\n",
       "  </tbody>\n",
       "</table>\n",
       "</div>"
      ],
      "text/plain": [
       "                Age       Balance       Vintage  Gender_Male  Income_5L - 10L  \\\n",
       "count  6.650000e+03  6.650000e+03  6.650000e+03  6650.000000      6650.000000   \n",
       "mean  -1.014644e-16 -1.782315e-16 -2.866546e-17     0.543158         0.277744   \n",
       "std    1.000075e+00  1.000075e+00  1.000075e+00     0.498171         0.447920   \n",
       "min   -2.078491e+00 -1.560030e+00 -1.542639e+00     0.000000         0.000000   \n",
       "25%   -7.362119e-01 -7.995313e-01 -8.570906e-01     0.000000         0.000000   \n",
       "50%   -1.166983e-01 -7.689653e-02 -1.715418e-01     1.000000         0.000000   \n",
       "75%    6.060674e-01  6.641801e-01  5.140070e-01     1.000000         1.000000   \n",
       "max    3.187374e+00  3.164572e+00  1.885105e+00     1.000000         1.000000   \n",
       "\n",
       "       Income_Less than 5L  Income_More than 15L  Transaction_Status_1  \\\n",
       "count          6650.000000           6650.000000           6650.000000   \n",
       "mean              0.236541              0.202256              0.515789   \n",
       "std               0.424990              0.401712              0.499788   \n",
       "min               0.000000              0.000000              0.000000   \n",
       "25%               0.000000              0.000000              0.000000   \n",
       "50%               0.000000              0.000000              1.000000   \n",
       "75%               0.000000              0.000000              1.000000   \n",
       "max               1.000000              1.000000              1.000000   \n",
       "\n",
       "       Product_Holdings_2  Product_Holdings_3+  Credit_Card_1  \\\n",
       "count         6650.000000          6650.000000    6650.000000   \n",
       "mean             0.478496             0.040301       0.664361   \n",
       "std              0.499575             0.196678       0.472249   \n",
       "min              0.000000             0.000000       0.000000   \n",
       "25%              0.000000             0.000000       0.000000   \n",
       "50%              0.000000             0.000000       1.000000   \n",
       "75%              1.000000             0.000000       1.000000   \n",
       "max              1.000000             1.000000       1.000000   \n",
       "\n",
       "       Credit_Category_Good  Credit_Category_Poor  \n",
       "count           6650.000000           6650.000000  \n",
       "mean               0.230226              0.462556  \n",
       "std                0.421009              0.498633  \n",
       "min                0.000000              0.000000  \n",
       "25%                0.000000              0.000000  \n",
       "50%                0.000000              0.000000  \n",
       "75%                0.000000              1.000000  \n",
       "max                1.000000              1.000000  "
      ]
     },
     "execution_count": 28,
     "metadata": {},
     "output_type": "execute_result"
    }
   ],
   "source": [
    "encoded_train_data.describe()"
   ]
  },
  {
   "cell_type": "code",
   "execution_count": 29,
   "id": "6389750f",
   "metadata": {},
   "outputs": [
    {
     "data": {
      "text/html": [
       "<div>\n",
       "<style scoped>\n",
       "    .dataframe tbody tr th:only-of-type {\n",
       "        vertical-align: middle;\n",
       "    }\n",
       "\n",
       "    .dataframe tbody tr th {\n",
       "        vertical-align: top;\n",
       "    }\n",
       "\n",
       "    .dataframe thead th {\n",
       "        text-align: right;\n",
       "    }\n",
       "</style>\n",
       "<table border=\"1\" class=\"dataframe\">\n",
       "  <thead>\n",
       "    <tr style=\"text-align: right;\">\n",
       "      <th></th>\n",
       "      <th>Age</th>\n",
       "      <th>Balance</th>\n",
       "      <th>Vintage</th>\n",
       "      <th>Gender_Male</th>\n",
       "      <th>Income_5L - 10L</th>\n",
       "      <th>Income_Less than 5L</th>\n",
       "      <th>Income_More than 15L</th>\n",
       "      <th>Transaction_Status_1</th>\n",
       "      <th>Product_Holdings_2</th>\n",
       "      <th>Product_Holdings_3+</th>\n",
       "      <th>Credit_Card_1</th>\n",
       "      <th>Credit_Category_Good</th>\n",
       "      <th>Credit_Category_Poor</th>\n",
       "    </tr>\n",
       "  </thead>\n",
       "  <tbody>\n",
       "    <tr>\n",
       "      <th>count</th>\n",
       "      <td>2851.000000</td>\n",
       "      <td>2851.000000</td>\n",
       "      <td>2851.000000</td>\n",
       "      <td>2851.000000</td>\n",
       "      <td>2851.000000</td>\n",
       "      <td>2851.000000</td>\n",
       "      <td>2851.000000</td>\n",
       "      <td>2851.000000</td>\n",
       "      <td>2851.000000</td>\n",
       "      <td>2851.000000</td>\n",
       "      <td>2851.000000</td>\n",
       "      <td>2851.000000</td>\n",
       "      <td>2851.000000</td>\n",
       "    </tr>\n",
       "    <tr>\n",
       "      <th>mean</th>\n",
       "      <td>0.012593</td>\n",
       "      <td>0.010284</td>\n",
       "      <td>-0.020053</td>\n",
       "      <td>0.541915</td>\n",
       "      <td>0.278499</td>\n",
       "      <td>0.227289</td>\n",
       "      <td>0.198176</td>\n",
       "      <td>0.506840</td>\n",
       "      <td>0.476675</td>\n",
       "      <td>0.052613</td>\n",
       "      <td>0.668888</td>\n",
       "      <td>0.250789</td>\n",
       "      <td>0.445458</td>\n",
       "    </tr>\n",
       "    <tr>\n",
       "      <th>std</th>\n",
       "      <td>0.992952</td>\n",
       "      <td>1.018390</td>\n",
       "      <td>1.021427</td>\n",
       "      <td>0.498327</td>\n",
       "      <td>0.448339</td>\n",
       "      <td>0.419154</td>\n",
       "      <td>0.398695</td>\n",
       "      <td>0.500041</td>\n",
       "      <td>0.499543</td>\n",
       "      <td>0.223299</td>\n",
       "      <td>0.470696</td>\n",
       "      <td>0.433543</td>\n",
       "      <td>0.497103</td>\n",
       "    </tr>\n",
       "    <tr>\n",
       "      <th>min</th>\n",
       "      <td>-2.078491</td>\n",
       "      <td>-1.557237</td>\n",
       "      <td>-1.542639</td>\n",
       "      <td>0.000000</td>\n",
       "      <td>0.000000</td>\n",
       "      <td>0.000000</td>\n",
       "      <td>0.000000</td>\n",
       "      <td>0.000000</td>\n",
       "      <td>0.000000</td>\n",
       "      <td>0.000000</td>\n",
       "      <td>0.000000</td>\n",
       "      <td>0.000000</td>\n",
       "      <td>0.000000</td>\n",
       "    </tr>\n",
       "    <tr>\n",
       "      <th>25%</th>\n",
       "      <td>-0.736212</td>\n",
       "      <td>-0.782653</td>\n",
       "      <td>-0.857091</td>\n",
       "      <td>0.000000</td>\n",
       "      <td>0.000000</td>\n",
       "      <td>0.000000</td>\n",
       "      <td>0.000000</td>\n",
       "      <td>0.000000</td>\n",
       "      <td>0.000000</td>\n",
       "      <td>0.000000</td>\n",
       "      <td>0.000000</td>\n",
       "      <td>0.000000</td>\n",
       "      <td>0.000000</td>\n",
       "    </tr>\n",
       "    <tr>\n",
       "      <th>50%</th>\n",
       "      <td>-0.116698</td>\n",
       "      <td>-0.075008</td>\n",
       "      <td>-0.171542</td>\n",
       "      <td>1.000000</td>\n",
       "      <td>0.000000</td>\n",
       "      <td>0.000000</td>\n",
       "      <td>0.000000</td>\n",
       "      <td>1.000000</td>\n",
       "      <td>0.000000</td>\n",
       "      <td>0.000000</td>\n",
       "      <td>1.000000</td>\n",
       "      <td>0.000000</td>\n",
       "      <td>0.000000</td>\n",
       "    </tr>\n",
       "    <tr>\n",
       "      <th>75%</th>\n",
       "      <td>0.606067</td>\n",
       "      <td>0.677975</td>\n",
       "      <td>0.514007</td>\n",
       "      <td>1.000000</td>\n",
       "      <td>1.000000</td>\n",
       "      <td>0.000000</td>\n",
       "      <td>0.000000</td>\n",
       "      <td>1.000000</td>\n",
       "      <td>1.000000</td>\n",
       "      <td>0.000000</td>\n",
       "      <td>1.000000</td>\n",
       "      <td>1.000000</td>\n",
       "      <td>1.000000</td>\n",
       "    </tr>\n",
       "    <tr>\n",
       "      <th>max</th>\n",
       "      <td>3.187374</td>\n",
       "      <td>3.161116</td>\n",
       "      <td>1.885105</td>\n",
       "      <td>1.000000</td>\n",
       "      <td>1.000000</td>\n",
       "      <td>1.000000</td>\n",
       "      <td>1.000000</td>\n",
       "      <td>1.000000</td>\n",
       "      <td>1.000000</td>\n",
       "      <td>1.000000</td>\n",
       "      <td>1.000000</td>\n",
       "      <td>1.000000</td>\n",
       "      <td>1.000000</td>\n",
       "    </tr>\n",
       "  </tbody>\n",
       "</table>\n",
       "</div>"
      ],
      "text/plain": [
       "               Age      Balance      Vintage  Gender_Male  Income_5L - 10L  \\\n",
       "count  2851.000000  2851.000000  2851.000000  2851.000000      2851.000000   \n",
       "mean      0.012593     0.010284    -0.020053     0.541915         0.278499   \n",
       "std       0.992952     1.018390     1.021427     0.498327         0.448339   \n",
       "min      -2.078491    -1.557237    -1.542639     0.000000         0.000000   \n",
       "25%      -0.736212    -0.782653    -0.857091     0.000000         0.000000   \n",
       "50%      -0.116698    -0.075008    -0.171542     1.000000         0.000000   \n",
       "75%       0.606067     0.677975     0.514007     1.000000         1.000000   \n",
       "max       3.187374     3.161116     1.885105     1.000000         1.000000   \n",
       "\n",
       "       Income_Less than 5L  Income_More than 15L  Transaction_Status_1  \\\n",
       "count          2851.000000           2851.000000           2851.000000   \n",
       "mean              0.227289              0.198176              0.506840   \n",
       "std               0.419154              0.398695              0.500041   \n",
       "min               0.000000              0.000000              0.000000   \n",
       "25%               0.000000              0.000000              0.000000   \n",
       "50%               0.000000              0.000000              1.000000   \n",
       "75%               0.000000              0.000000              1.000000   \n",
       "max               1.000000              1.000000              1.000000   \n",
       "\n",
       "       Product_Holdings_2  Product_Holdings_3+  Credit_Card_1  \\\n",
       "count         2851.000000          2851.000000    2851.000000   \n",
       "mean             0.476675             0.052613       0.668888   \n",
       "std              0.499543             0.223299       0.470696   \n",
       "min              0.000000             0.000000       0.000000   \n",
       "25%              0.000000             0.000000       0.000000   \n",
       "50%              0.000000             0.000000       1.000000   \n",
       "75%              1.000000             0.000000       1.000000   \n",
       "max              1.000000             1.000000       1.000000   \n",
       "\n",
       "       Credit_Category_Good  Credit_Category_Poor  \n",
       "count           2851.000000           2851.000000  \n",
       "mean               0.250789              0.445458  \n",
       "std                0.433543              0.497103  \n",
       "min                0.000000              0.000000  \n",
       "25%                0.000000              0.000000  \n",
       "50%                0.000000              0.000000  \n",
       "75%                1.000000              1.000000  \n",
       "max                1.000000              1.000000  "
      ]
     },
     "execution_count": 29,
     "metadata": {},
     "output_type": "execute_result"
    }
   ],
   "source": [
    "encoded_test_data.describe()"
   ]
  },
  {
   "cell_type": "markdown",
   "id": "47971b28",
   "metadata": {},
   "source": [
    "### Modeling"
   ]
  },
  {
   "cell_type": "code",
   "execution_count": null,
   "id": "fdd29cb4",
   "metadata": {},
   "outputs": [],
   "source": []
  },
  {
   "cell_type": "code",
   "execution_count": 30,
   "id": "6c9b8062",
   "metadata": {},
   "outputs": [
    {
     "data": {
      "text/plain": [
       "0    5113\n",
       "1    1537\n",
       "Name: Is_Churn, dtype: int64"
      ]
     },
     "execution_count": 30,
     "metadata": {},
     "output_type": "execute_result"
    }
   ],
   "source": [
    "#counts per class\n",
    "y.value_counts()"
   ]
  },
  {
   "cell_type": "markdown",
   "id": "9c275a78",
   "metadata": {},
   "source": [
    "There is a class imbalance. To overcome that we use SMOTE technique."
   ]
  },
  {
   "cell_type": "code",
   "execution_count": 31,
   "id": "620aba75",
   "metadata": {},
   "outputs": [
    {
     "name": "stdout",
     "output_type": "stream",
     "text": [
      "Original dataset shape: Counter({0: 5113, 1: 1537})\n",
      "Resampled dataset shape: Counter({1: 5113, 0: 5113})\n"
     ]
    }
   ],
   "source": [
    "#resampling the dataset using SMOTE\n",
    "from collections import Counter\n",
    "from imblearn.over_sampling import SMOTE\n",
    "smote = SMOTE(random_state=42)\n",
    "#fit predictor and target variables\n",
    "X_smote,y_smote = smote.fit_resample(encoded_train_data,y)\n",
    "\n",
    "print(\"Original dataset shape:\",Counter(y))\n",
    "print(\"Resampled dataset shape:\",Counter(y_smote))"
   ]
  },
  {
   "cell_type": "code",
   "execution_count": 32,
   "id": "30137410",
   "metadata": {},
   "outputs": [],
   "source": [
    "#splitting the train data into training set and testing set\n",
    "X_train, X_test, y_train, y_test = train_test_split(X_smote, y_smote, random_state=42, test_size=0.2)"
   ]
  },
  {
   "cell_type": "markdown",
   "id": "aaf10566",
   "metadata": {},
   "source": [
    "#### Logistic regression"
   ]
  },
  {
   "cell_type": "code",
   "execution_count": 33,
   "id": "fca0a0a8",
   "metadata": {},
   "outputs": [
    {
     "name": "stdout",
     "output_type": "stream",
     "text": [
      "Accuracy is: 0.6520039100684262\n",
      "Confusion_matrix:\n",
      " [[686 342]\n",
      " [370 648]]\n"
     ]
    }
   ],
   "source": [
    "#logistic regression\n",
    "from sklearn.linear_model import LogisticRegression\n",
    "#creating an instance of the logistic regression model\n",
    "logistic_model = LogisticRegression(max_iter=500)\n",
    "#training the model\n",
    "logistic_model.fit(X_train,y_train)\n",
    "#testing the model\n",
    "y_pred = logistic_model.predict(X_test)\n",
    "\n",
    "#measuring performance\n",
    "print(\"Accuracy is:\",accuracy_score(y_test,y_pred))\n",
    "print(\"Confusion_matrix:\\n\",confusion_matrix(y_test,y_pred))"
   ]
  },
  {
   "cell_type": "markdown",
   "id": "58dc7222",
   "metadata": {},
   "source": [
    "#### KNN"
   ]
  },
  {
   "cell_type": "code",
   "execution_count": 34,
   "id": "c244a6ae",
   "metadata": {},
   "outputs": [
    {
     "name": "stdout",
     "output_type": "stream",
     "text": [
      "Accuracy score =0.791\n",
      "Confusion Matrix:\n",
      " [[706 322]\n",
      " [105 913]]\n"
     ]
    }
   ],
   "source": [
    "#KNN\n",
    "from sklearn.neighbors import KNeighborsClassifier\n",
    "\n",
    "classifier = KNeighborsClassifier(n_neighbors=2,weights='distance')\n",
    "classifier.fit(X_train,y_train)\n",
    "y_pred = classifier.predict(X_test)\n",
    "    \n",
    "#measuring performance\n",
    "print('Accuracy score ={:.3f}'.format(accuracy_score(y_pred,y_test)))\n",
    "print(\"Confusion Matrix:\\n\",confusion_matrix(y_test,y_pred))"
   ]
  },
  {
   "cell_type": "markdown",
   "id": "feb57368",
   "metadata": {},
   "source": [
    "#### Naive Bayes Classifier"
   ]
  },
  {
   "cell_type": "code",
   "execution_count": 35,
   "id": "93e5bd55",
   "metadata": {},
   "outputs": [
    {
     "name": "stdout",
     "output_type": "stream",
     "text": [
      "Accuracy score =0.639\n",
      "Confusion Matrix:\n",
      " [[486 542]\n",
      " [196 822]]\n"
     ]
    }
   ],
   "source": [
    "#implementing Gaussian Naive Bayes classifier\n",
    "nb_classifier = GaussianNB()\n",
    "nb_classifier.fit(X_train,y_train)\n",
    "y_pred = nb_classifier.predict(X_test)\n",
    "\n",
    "#measuring performance\n",
    "print('Accuracy score ={:.3f}'.format(accuracy_score(y_pred,y_test)))\n",
    "print(\"Confusion Matrix:\\n\",confusion_matrix(y_test,y_pred))"
   ]
  },
  {
   "cell_type": "markdown",
   "id": "8917eabf",
   "metadata": {},
   "source": [
    "#### Decision Tree Classifier"
   ]
  },
  {
   "cell_type": "code",
   "execution_count": 36,
   "id": "17576774",
   "metadata": {},
   "outputs": [
    {
     "name": "stdout",
     "output_type": "stream",
     "text": [
      "Accuracy score =0.750\n",
      "Confusion Matrix:\n",
      " [[747 281]\n",
      " [231 787]]\n"
     ]
    }
   ],
   "source": [
    "from sklearn.tree import DecisionTreeClassifier\n",
    "dt_model = DecisionTreeClassifier()\n",
    "#training the model\n",
    "dt_model.fit(X_train,y_train)\n",
    "#testing the model\n",
    "y_pred = dt_model.predict(X_test)\n",
    "\n",
    "#measuring performance\n",
    "print('Accuracy score ={:.3f}'.format(accuracy_score(y_pred,y_test)))\n",
    "print(\"Confusion Matrix:\\n\",confusion_matrix(y_test,y_pred))"
   ]
  },
  {
   "cell_type": "markdown",
   "id": "38a32acc",
   "metadata": {},
   "source": [
    "#### Random Forest Algorithm"
   ]
  },
  {
   "cell_type": "code",
   "execution_count": 37,
   "id": "bffe7d63",
   "metadata": {},
   "outputs": [
    {
     "name": "stdout",
     "output_type": "stream",
     "text": [
      "Accuracy score =0.827\n",
      "Confusion Matrix:\n",
      " [[839 189]\n",
      " [165 853]]\n"
     ]
    }
   ],
   "source": [
    "from sklearn.ensemble import RandomForestClassifier\n",
    "rf_model = RandomForestClassifier()\n",
    "rf_model.fit(X_train, y_train)\n",
    "y_pred = rf_model.predict(X_test)\n",
    "\n",
    "#measuring performance\n",
    "print('Accuracy score ={:.3f}'.format(accuracy_score(y_pred,y_test)))\n",
    "print(\"Confusion Matrix:\\n\",confusion_matrix(y_test,y_pred))"
   ]
  },
  {
   "cell_type": "markdown",
   "id": "9870e08a",
   "metadata": {},
   "source": [
    "#### Gradient Boosting Classifier"
   ]
  },
  {
   "cell_type": "code",
   "execution_count": 38,
   "id": "aba4ee9d",
   "metadata": {},
   "outputs": [
    {
     "name": "stdout",
     "output_type": "stream",
     "text": [
      "Accuracy score =0.764\n",
      "Confusion Matrix:\n",
      " [[804 224]\n",
      " [258 760]]\n"
     ]
    }
   ],
   "source": [
    "from sklearn.ensemble import GradientBoostingClassifier\n",
    "gbc_model = GradientBoostingClassifier(random_state=0)\n",
    "gbc_model.fit(X_train, y_train)\n",
    "y_pred = gbc_model.predict(X_test)\n",
    "\n",
    "#measuring performance\n",
    "print('Accuracy score ={:.3f}'.format(accuracy_score(y_pred,y_test)))\n",
    "print(\"Confusion Matrix:\\n\",confusion_matrix(y_test,y_pred))"
   ]
  },
  {
   "cell_type": "markdown",
   "id": "2c0e013e",
   "metadata": {},
   "source": [
    "#### Bagging classifier"
   ]
  },
  {
   "cell_type": "code",
   "execution_count": 39,
   "id": "bf789856",
   "metadata": {},
   "outputs": [
    {
     "name": "stdout",
     "output_type": "stream",
     "text": [
      "Accuracy score =0.822\n",
      "Confusion Matrix:\n",
      " [[831 197]\n",
      " [168 850]]\n"
     ]
    }
   ],
   "source": [
    "from sklearn.ensemble import BaggingClassifier\n",
    "bc_model = BaggingClassifier(base_estimator=RandomForestClassifier(),random_state=0)\n",
    "bc_model.fit(X_train, y_train)\n",
    "y_pred = bc_model.predict(X_test)\n",
    "\n",
    "#measuring performance\n",
    "print('Accuracy score ={:.3f}'.format(accuracy_score(y_pred,y_test)))\n",
    "print(\"Confusion Matrix:\\n\",confusion_matrix(y_test,y_pred))"
   ]
  },
  {
   "cell_type": "markdown",
   "id": "c6ab7680",
   "metadata": {},
   "source": [
    "We are going to use Random Forest Classifier for predicting the labels for the test data."
   ]
  },
  {
   "cell_type": "code",
   "execution_count": 40,
   "id": "6d3907e0",
   "metadata": {},
   "outputs": [],
   "source": [
    "#random forest classifier\n",
    "rf_model = RandomForestClassifier()\n",
    "rf_model.fit(X_smote,y_smote)\n",
    "y_pred = rf_model.predict(encoded_test_data)"
   ]
  },
  {
   "cell_type": "code",
   "execution_count": 81,
   "id": "4a2dbdd3",
   "metadata": {},
   "outputs": [],
   "source": [
    "#creating a new dataframe with ID and y_pred\n",
    "submission = pd.read_csv('sample.csv')\n",
    "submission['Is_Churn']=y_pred\n",
    "pd.DataFrame(submission, columns=['ID','Is_Churn']).to_csv('sample_submission.csv',index=False)"
   ]
  },
  {
   "cell_type": "code",
   "execution_count": 82,
   "id": "70d38d53",
   "metadata": {},
   "outputs": [],
   "source": [
    "data=pd.read_csv('sample_submission.csv')"
   ]
  },
  {
   "cell_type": "code",
   "execution_count": 83,
   "id": "070e9fa9",
   "metadata": {},
   "outputs": [
    {
     "data": {
      "text/html": [
       "<div>\n",
       "<style scoped>\n",
       "    .dataframe tbody tr th:only-of-type {\n",
       "        vertical-align: middle;\n",
       "    }\n",
       "\n",
       "    .dataframe tbody tr th {\n",
       "        vertical-align: top;\n",
       "    }\n",
       "\n",
       "    .dataframe thead th {\n",
       "        text-align: right;\n",
       "    }\n",
       "</style>\n",
       "<table border=\"1\" class=\"dataframe\">\n",
       "  <thead>\n",
       "    <tr style=\"text-align: right;\">\n",
       "      <th></th>\n",
       "      <th>ID</th>\n",
       "      <th>Is_Churn</th>\n",
       "    </tr>\n",
       "  </thead>\n",
       "  <tbody>\n",
       "    <tr>\n",
       "      <th>0</th>\n",
       "      <td>55480787</td>\n",
       "      <td>0</td>\n",
       "    </tr>\n",
       "    <tr>\n",
       "      <th>1</th>\n",
       "      <td>9aededf2</td>\n",
       "      <td>1</td>\n",
       "    </tr>\n",
       "    <tr>\n",
       "      <th>2</th>\n",
       "      <td>a5034a09</td>\n",
       "      <td>0</td>\n",
       "    </tr>\n",
       "    <tr>\n",
       "      <th>3</th>\n",
       "      <td>b3256702</td>\n",
       "      <td>0</td>\n",
       "    </tr>\n",
       "    <tr>\n",
       "      <th>4</th>\n",
       "      <td>dc28adb5</td>\n",
       "      <td>0</td>\n",
       "    </tr>\n",
       "  </tbody>\n",
       "</table>\n",
       "</div>"
      ],
      "text/plain": [
       "         ID  Is_Churn\n",
       "0  55480787         0\n",
       "1  9aededf2         1\n",
       "2  a5034a09         0\n",
       "3  b3256702         0\n",
       "4  dc28adb5         0"
      ]
     },
     "execution_count": 83,
     "metadata": {},
     "output_type": "execute_result"
    }
   ],
   "source": [
    "data.head()"
   ]
  },
  {
   "cell_type": "code",
   "execution_count": null,
   "id": "f183a709",
   "metadata": {},
   "outputs": [],
   "source": []
  }
 ],
 "metadata": {
  "kernelspec": {
   "display_name": "Python 3",
   "language": "python",
   "name": "python3"
  },
  "language_info": {
   "codemirror_mode": {
    "name": "ipython",
    "version": 3
   },
   "file_extension": ".py",
   "mimetype": "text/x-python",
   "name": "python",
   "nbconvert_exporter": "python",
   "pygments_lexer": "ipython3",
   "version": "3.8.8"
  }
 },
 "nbformat": 4,
 "nbformat_minor": 5
}
