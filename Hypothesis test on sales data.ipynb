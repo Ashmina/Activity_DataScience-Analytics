{
 "cells": [
  {
   "cell_type": "markdown",
   "id": "1f8e9a3a",
   "metadata": {},
   "source": [
    "# Case Study on Testing of Hypothesis"
   ]
  },
  {
   "cell_type": "markdown",
   "id": "95a65164",
   "metadata": {},
   "source": [
    "### Submitted by: *Ashmina T.*"
   ]
  },
  {
   "cell_type": "markdown",
   "id": "379fcfa6",
   "metadata": {},
   "source": [
    "A company started to invest in digital marketing as a new way of their product\n",
    "promotions.For that they collected data and decided to carry out a study on it.  \n",
    "* The company wishes to clarify whether there is any increase in sales after\n",
    "stepping into digital marketing.  \n",
    "* The company needs to check whether there is any dependency between the\n",
    "features “Region” and “Manager”.  \n",
    "Help the company to carry out their study with the help of data provided."
   ]
  },
  {
   "cell_type": "code",
   "execution_count": 1,
   "id": "6bdf1f3d",
   "metadata": {},
   "outputs": [],
   "source": [
    "#importing libraries\n",
    "import numpy as np\n",
    "import scipy.stats as stat\n",
    "import pandas as pd\n",
    "import matplotlib.pyplot as plt"
   ]
  },
  {
   "cell_type": "code",
   "execution_count": 2,
   "id": "05576d01",
   "metadata": {},
   "outputs": [],
   "source": [
    "#loading the dataset\n",
    "sales_data = pd.read_csv('Sales_add.csv')"
   ]
  },
  {
   "cell_type": "code",
   "execution_count": 3,
   "id": "a8c30656",
   "metadata": {},
   "outputs": [
    {
     "data": {
      "text/html": [
       "<div>\n",
       "<style scoped>\n",
       "    .dataframe tbody tr th:only-of-type {\n",
       "        vertical-align: middle;\n",
       "    }\n",
       "\n",
       "    .dataframe tbody tr th {\n",
       "        vertical-align: top;\n",
       "    }\n",
       "\n",
       "    .dataframe thead th {\n",
       "        text-align: right;\n",
       "    }\n",
       "</style>\n",
       "<table border=\"1\" class=\"dataframe\">\n",
       "  <thead>\n",
       "    <tr style=\"text-align: right;\">\n",
       "      <th></th>\n",
       "      <th>Month</th>\n",
       "      <th>Region</th>\n",
       "      <th>Manager</th>\n",
       "      <th>Sales_before_digital_add(in $)</th>\n",
       "      <th>Sales_After_digital_add(in $)</th>\n",
       "    </tr>\n",
       "  </thead>\n",
       "  <tbody>\n",
       "    <tr>\n",
       "      <th>0</th>\n",
       "      <td>Month-1</td>\n",
       "      <td>Region - A</td>\n",
       "      <td>Manager - A</td>\n",
       "      <td>132921</td>\n",
       "      <td>270390</td>\n",
       "    </tr>\n",
       "    <tr>\n",
       "      <th>1</th>\n",
       "      <td>Month-2</td>\n",
       "      <td>Region - A</td>\n",
       "      <td>Manager - C</td>\n",
       "      <td>149559</td>\n",
       "      <td>223334</td>\n",
       "    </tr>\n",
       "    <tr>\n",
       "      <th>2</th>\n",
       "      <td>Month-3</td>\n",
       "      <td>Region - B</td>\n",
       "      <td>Manager - A</td>\n",
       "      <td>146278</td>\n",
       "      <td>244243</td>\n",
       "    </tr>\n",
       "    <tr>\n",
       "      <th>3</th>\n",
       "      <td>Month-4</td>\n",
       "      <td>Region - B</td>\n",
       "      <td>Manager - B</td>\n",
       "      <td>152167</td>\n",
       "      <td>231808</td>\n",
       "    </tr>\n",
       "    <tr>\n",
       "      <th>4</th>\n",
       "      <td>Month-5</td>\n",
       "      <td>Region - C</td>\n",
       "      <td>Manager - B</td>\n",
       "      <td>159525</td>\n",
       "      <td>258402</td>\n",
       "    </tr>\n",
       "  </tbody>\n",
       "</table>\n",
       "</div>"
      ],
      "text/plain": [
       "     Month      Region      Manager  Sales_before_digital_add(in $)  \\\n",
       "0  Month-1  Region - A  Manager - A                          132921   \n",
       "1  Month-2  Region - A  Manager - C                          149559   \n",
       "2  Month-3  Region - B  Manager - A                          146278   \n",
       "3  Month-4  Region - B  Manager - B                          152167   \n",
       "4  Month-5  Region - C  Manager - B                          159525   \n",
       "\n",
       "   Sales_After_digital_add(in $)  \n",
       "0                         270390  \n",
       "1                         223334  \n",
       "2                         244243  \n",
       "3                         231808  \n",
       "4                         258402  "
      ]
     },
     "execution_count": 3,
     "metadata": {},
     "output_type": "execute_result"
    }
   ],
   "source": [
    "#displaying first 5 rows\n",
    "sales_data.head()"
   ]
  },
  {
   "cell_type": "code",
   "execution_count": 4,
   "id": "4071ba75",
   "metadata": {},
   "outputs": [],
   "source": [
    "#renaming the columns for easy access\n",
    "sales_data.columns = ['Month','Region','Manager','sales_before','sales_after']"
   ]
  },
  {
   "cell_type": "code",
   "execution_count": 5,
   "id": "07a8e6ec",
   "metadata": {},
   "outputs": [
    {
     "data": {
      "text/html": [
       "<div>\n",
       "<style scoped>\n",
       "    .dataframe tbody tr th:only-of-type {\n",
       "        vertical-align: middle;\n",
       "    }\n",
       "\n",
       "    .dataframe tbody tr th {\n",
       "        vertical-align: top;\n",
       "    }\n",
       "\n",
       "    .dataframe thead th {\n",
       "        text-align: right;\n",
       "    }\n",
       "</style>\n",
       "<table border=\"1\" class=\"dataframe\">\n",
       "  <thead>\n",
       "    <tr style=\"text-align: right;\">\n",
       "      <th></th>\n",
       "      <th>Month</th>\n",
       "      <th>Region</th>\n",
       "      <th>Manager</th>\n",
       "      <th>sales_before</th>\n",
       "      <th>sales_after</th>\n",
       "    </tr>\n",
       "  </thead>\n",
       "  <tbody>\n",
       "    <tr>\n",
       "      <th>0</th>\n",
       "      <td>Month-1</td>\n",
       "      <td>Region - A</td>\n",
       "      <td>Manager - A</td>\n",
       "      <td>132921</td>\n",
       "      <td>270390</td>\n",
       "    </tr>\n",
       "    <tr>\n",
       "      <th>1</th>\n",
       "      <td>Month-2</td>\n",
       "      <td>Region - A</td>\n",
       "      <td>Manager - C</td>\n",
       "      <td>149559</td>\n",
       "      <td>223334</td>\n",
       "    </tr>\n",
       "    <tr>\n",
       "      <th>2</th>\n",
       "      <td>Month-3</td>\n",
       "      <td>Region - B</td>\n",
       "      <td>Manager - A</td>\n",
       "      <td>146278</td>\n",
       "      <td>244243</td>\n",
       "    </tr>\n",
       "    <tr>\n",
       "      <th>3</th>\n",
       "      <td>Month-4</td>\n",
       "      <td>Region - B</td>\n",
       "      <td>Manager - B</td>\n",
       "      <td>152167</td>\n",
       "      <td>231808</td>\n",
       "    </tr>\n",
       "    <tr>\n",
       "      <th>4</th>\n",
       "      <td>Month-5</td>\n",
       "      <td>Region - C</td>\n",
       "      <td>Manager - B</td>\n",
       "      <td>159525</td>\n",
       "      <td>258402</td>\n",
       "    </tr>\n",
       "  </tbody>\n",
       "</table>\n",
       "</div>"
      ],
      "text/plain": [
       "     Month      Region      Manager  sales_before  sales_after\n",
       "0  Month-1  Region - A  Manager - A        132921       270390\n",
       "1  Month-2  Region - A  Manager - C        149559       223334\n",
       "2  Month-3  Region - B  Manager - A        146278       244243\n",
       "3  Month-4  Region - B  Manager - B        152167       231808\n",
       "4  Month-5  Region - C  Manager - B        159525       258402"
      ]
     },
     "execution_count": 5,
     "metadata": {},
     "output_type": "execute_result"
    }
   ],
   "source": [
    "sales_data.head()"
   ]
  },
  {
   "cell_type": "code",
   "execution_count": 6,
   "id": "c3ee9795",
   "metadata": {},
   "outputs": [
    {
     "name": "stdout",
     "output_type": "stream",
     "text": [
      "<class 'pandas.core.frame.DataFrame'>\n",
      "RangeIndex: 22 entries, 0 to 21\n",
      "Data columns (total 5 columns):\n",
      " #   Column        Non-Null Count  Dtype \n",
      "---  ------        --------------  ----- \n",
      " 0   Month         22 non-null     object\n",
      " 1   Region        22 non-null     object\n",
      " 2   Manager       22 non-null     object\n",
      " 3   sales_before  22 non-null     int64 \n",
      " 4   sales_after   22 non-null     int64 \n",
      "dtypes: int64(2), object(3)\n",
      "memory usage: 1008.0+ bytes\n"
     ]
    }
   ],
   "source": [
    "#getting concise summary of the dataset\n",
    "sales_data.info()"
   ]
  },
  {
   "cell_type": "code",
   "execution_count": 7,
   "id": "416314d9",
   "metadata": {},
   "outputs": [
    {
     "data": {
      "text/plain": [
       "Month           0\n",
       "Region          0\n",
       "Manager         0\n",
       "sales_before    0\n",
       "sales_after     0\n",
       "dtype: int64"
      ]
     },
     "execution_count": 7,
     "metadata": {},
     "output_type": "execute_result"
    }
   ],
   "source": [
    "#checking for null values\n",
    "sales_data.isna().sum()"
   ]
  },
  {
   "cell_type": "code",
   "execution_count": 8,
   "id": "cbe48571",
   "metadata": {},
   "outputs": [
    {
     "data": {
      "text/html": [
       "<div>\n",
       "<style scoped>\n",
       "    .dataframe tbody tr th:only-of-type {\n",
       "        vertical-align: middle;\n",
       "    }\n",
       "\n",
       "    .dataframe tbody tr th {\n",
       "        vertical-align: top;\n",
       "    }\n",
       "\n",
       "    .dataframe thead th {\n",
       "        text-align: right;\n",
       "    }\n",
       "</style>\n",
       "<table border=\"1\" class=\"dataframe\">\n",
       "  <thead>\n",
       "    <tr style=\"text-align: right;\">\n",
       "      <th></th>\n",
       "      <th>sales_before</th>\n",
       "      <th>sales_after</th>\n",
       "    </tr>\n",
       "  </thead>\n",
       "  <tbody>\n",
       "    <tr>\n",
       "      <th>count</th>\n",
       "      <td>22.000000</td>\n",
       "      <td>22.000000</td>\n",
       "    </tr>\n",
       "    <tr>\n",
       "      <th>mean</th>\n",
       "      <td>149239.954545</td>\n",
       "      <td>231123.727273</td>\n",
       "    </tr>\n",
       "    <tr>\n",
       "      <th>std</th>\n",
       "      <td>14844.042921</td>\n",
       "      <td>25556.777061</td>\n",
       "    </tr>\n",
       "    <tr>\n",
       "      <th>min</th>\n",
       "      <td>130263.000000</td>\n",
       "      <td>187305.000000</td>\n",
       "    </tr>\n",
       "    <tr>\n",
       "      <th>25%</th>\n",
       "      <td>138087.750000</td>\n",
       "      <td>214960.750000</td>\n",
       "    </tr>\n",
       "    <tr>\n",
       "      <th>50%</th>\n",
       "      <td>147444.000000</td>\n",
       "      <td>229986.500000</td>\n",
       "    </tr>\n",
       "    <tr>\n",
       "      <th>75%</th>\n",
       "      <td>157627.500000</td>\n",
       "      <td>250909.000000</td>\n",
       "    </tr>\n",
       "    <tr>\n",
       "      <th>max</th>\n",
       "      <td>178939.000000</td>\n",
       "      <td>276279.000000</td>\n",
       "    </tr>\n",
       "  </tbody>\n",
       "</table>\n",
       "</div>"
      ],
      "text/plain": [
       "        sales_before    sales_after\n",
       "count      22.000000      22.000000\n",
       "mean   149239.954545  231123.727273\n",
       "std     14844.042921   25556.777061\n",
       "min    130263.000000  187305.000000\n",
       "25%    138087.750000  214960.750000\n",
       "50%    147444.000000  229986.500000\n",
       "75%    157627.500000  250909.000000\n",
       "max    178939.000000  276279.000000"
      ]
     },
     "execution_count": 8,
     "metadata": {},
     "output_type": "execute_result"
    }
   ],
   "source": [
    "#statistical summary of the dataset\n",
    "sales_data.describe()"
   ]
  },
  {
   "cell_type": "code",
   "execution_count": 9,
   "id": "a5060c9b",
   "metadata": {},
   "outputs": [
    {
     "data": {
      "image/png": "[encoded data removed]",
      "text/plain": [
       "<Figure size 432x288 with 1 Axes>"
      ]
     },
     "metadata": {
      "needs_background": "light"
     },
     "output_type": "display_data"
    }
   ],
   "source": [
    "#histogram of sales data(after using digital ads)\n",
    "plt.hist(sales_data['sales_after'])\n",
    "plt.title(\"Distribution of sales after implementing digital ads\")\n",
    "plt.xlabel(\"Sales ($)\")\n",
    "plt.show()"
   ]
  },
  {
   "cell_type": "markdown",
   "id": "cc761d73",
   "metadata": {},
   "source": [
    "The data seems to be normally distributed."
   ]
  },
  {
   "cell_type": "code",
   "execution_count": 10,
   "id": "25d2a4fb",
   "metadata": {},
   "outputs": [
    {
     "data": {
      "image/png": "[encoded data removed]",
      "text/plain": [
       "<Figure size 432x288 with 1 Axes>"
      ]
     },
     "metadata": {
      "needs_background": "light"
     },
     "output_type": "display_data"
    }
   ],
   "source": [
    "#histogram of sales data(before using digital ads)\n",
    "plt.hist(sales_data['sales_before'])\n",
    "plt.title(\"Distribution of sales before implementing digital ads\")\n",
    "plt.xlabel(\"Sales ($)\")\n",
    "plt.show()"
   ]
  },
  {
   "cell_type": "markdown",
   "id": "0838aa20",
   "metadata": {},
   "source": [
    "The data does not seems to be normally distributed. But as we are limited to z-test, t-test & chi-squared test now , we can use one of them to test our hypotheses"
   ]
  },
  {
   "cell_type": "markdown",
   "id": "c982a3d9",
   "metadata": {},
   "source": [
    "## 1. clarify whether there is any increase in sales after stepping into digital marketing."
   ]
  },
  {
   "cell_type": "markdown",
   "id": "4ece5dd3",
   "metadata": {},
   "source": [
    "### 1.a. Develop a hypothesis"
   ]
  },
  {
   "cell_type": "markdown",
   "id": "81189883",
   "metadata": {},
   "source": [
    "**Null Hypothesis, H<sub>0</sub>:** There is no increase in sales after stepping into digital marketing.  \n",
    "**Alternate Hypothesis, H<sub>a</sub>:** There is an increase in sales after stepping into digital marketing."
   ]
  },
  {
   "cell_type": "markdown",
   "id": "020dce86",
   "metadata": {},
   "source": [
    "### 1.b. Set Significance Level"
   ]
  },
  {
   "cell_type": "code",
   "execution_count": 11,
   "id": "160fb633",
   "metadata": {},
   "outputs": [],
   "source": [
    "#setting the significance level(alpha) to 0.05 or 5%\n",
    "alpha = 0.05"
   ]
  },
  {
   "cell_type": "markdown",
   "id": "8df59f93",
   "metadata": {},
   "source": [
    "### 1.c. Identify the Test Statistic"
   ]
  },
  {
   "cell_type": "code",
   "execution_count": 12,
   "id": "05cb9c70",
   "metadata": {},
   "outputs": [
    {
     "data": {
      "text/plain": [
       "22"
      ]
     },
     "execution_count": 12,
     "metadata": {},
     "output_type": "execute_result"
    }
   ],
   "source": [
    "sales_data.shape[0]"
   ]
  },
  {
   "cell_type": "markdown",
   "id": "9ac39887",
   "metadata": {},
   "source": [
    "As the size of the dataset is less than 30, we have to use t-statistic.  \n",
    "Here, we have to compare two related groups of data(sales before digital marketing and sales after digital marketing). For that we use Paired sample t-test."
   ]
  },
  {
   "cell_type": "markdown",
   "id": "348d9ef1",
   "metadata": {},
   "source": [
    "### 1.d. Determine the p-value "
   ]
  },
  {
   "cell_type": "code",
   "execution_count": 13,
   "id": "dbb89f02",
   "metadata": {},
   "outputs": [
    {
     "name": "stdout",
     "output_type": "stream",
     "text": [
      "t-score:12.091\n",
      "p-value: 3.168333502287889e-11\n"
     ]
    }
   ],
   "source": [
    "a = sales_data['sales_before']\n",
    "b = sales_data['sales_after']\n",
    "t_score,p_value = stat.ttest_rel(b,a,alternative='greater')\n",
    "print(\"t-score:%.3f\"%t_score)\n",
    "print(\"p-value:\",p_value)"
   ]
  },
  {
   "cell_type": "markdown",
   "id": "91091965",
   "metadata": {},
   "source": [
    "### 1.e. Comparing p-value and Significance level"
   ]
  },
  {
   "cell_type": "code",
   "execution_count": 14,
   "id": "6223f6ad",
   "metadata": {},
   "outputs": [
    {
     "name": "stdout",
     "output_type": "stream",
     "text": [
      "We reject null hypothesis\n"
     ]
    }
   ],
   "source": [
    "if p_value < alpha:\n",
    "  print(\"We reject null hypothesis\")\n",
    "else:\n",
    "  print(\"We accept null hypothesis\")"
   ]
  },
  {
   "cell_type": "markdown",
   "id": "1c834347",
   "metadata": {},
   "source": [
    "**There is significant evidence that the sales of the company increased after stepping into digital marketing.**"
   ]
  },
  {
   "cell_type": "markdown",
   "id": "690c7263",
   "metadata": {},
   "source": [
    "## 2. Check whether there is any dependency between the features “Region” and “Manager”."
   ]
  },
  {
   "cell_type": "markdown",
   "id": "166f5f6a",
   "metadata": {},
   "source": [
    "### 2.a. Develop a hypothesis "
   ]
  },
  {
   "cell_type": "markdown",
   "id": "45dcc471",
   "metadata": {},
   "source": [
    "**Null Hypothesis, H<sub>0</sub>:** The features 'Region' and 'Manager' have no relationship.  \n",
    "**Alternate Hypothesis, H<sub>a</sub>:** There is a relationship between the features 'Region' and 'Manager'."
   ]
  },
  {
   "cell_type": "markdown",
   "id": "65be17a0",
   "metadata": {},
   "source": [
    "### 2.b. Set a Significance Level"
   ]
  },
  {
   "cell_type": "code",
   "execution_count": 15,
   "id": "e36817b4",
   "metadata": {},
   "outputs": [],
   "source": [
    "#setting significance level(alpha) to 0.05\n",
    "alpha = 0.05"
   ]
  },
  {
   "cell_type": "markdown",
   "id": "89cef367",
   "metadata": {},
   "source": [
    "### 2.c. Identify Test statistic"
   ]
  },
  {
   "cell_type": "markdown",
   "id": "72348de3",
   "metadata": {},
   "source": [
    "Here we have to check if two categorical variables (Region & Manager) are related or not. So, we use chi-square Test of Independence."
   ]
  },
  {
   "cell_type": "markdown",
   "id": "ad5c8065",
   "metadata": {},
   "source": [
    "### 2.d. Determine p-value"
   ]
  },
  {
   "cell_type": "code",
   "execution_count": 16,
   "id": "6b8dc8b2",
   "metadata": {},
   "outputs": [
    {
     "data": {
      "text/html": [
       "<div>\n",
       "<style scoped>\n",
       "    .dataframe tbody tr th:only-of-type {\n",
       "        vertical-align: middle;\n",
       "    }\n",
       "\n",
       "    .dataframe tbody tr th {\n",
       "        vertical-align: top;\n",
       "    }\n",
       "\n",
       "    .dataframe thead th {\n",
       "        text-align: right;\n",
       "    }\n",
       "</style>\n",
       "<table border=\"1\" class=\"dataframe\">\n",
       "  <thead>\n",
       "    <tr style=\"text-align: right;\">\n",
       "      <th>Manager</th>\n",
       "      <th>Manager - A</th>\n",
       "      <th>Manager - B</th>\n",
       "      <th>Manager - C</th>\n",
       "    </tr>\n",
       "    <tr>\n",
       "      <th>Region</th>\n",
       "      <th></th>\n",
       "      <th></th>\n",
       "      <th></th>\n",
       "    </tr>\n",
       "  </thead>\n",
       "  <tbody>\n",
       "    <tr>\n",
       "      <th>Region - A</th>\n",
       "      <td>4</td>\n",
       "      <td>3</td>\n",
       "      <td>3</td>\n",
       "    </tr>\n",
       "    <tr>\n",
       "      <th>Region - B</th>\n",
       "      <td>4</td>\n",
       "      <td>1</td>\n",
       "      <td>2</td>\n",
       "    </tr>\n",
       "    <tr>\n",
       "      <th>Region - C</th>\n",
       "      <td>1</td>\n",
       "      <td>3</td>\n",
       "      <td>1</td>\n",
       "    </tr>\n",
       "  </tbody>\n",
       "</table>\n",
       "</div>"
      ],
      "text/plain": [
       "Manager     Manager - A  Manager - B  Manager - C\n",
       "Region                                           \n",
       "Region - A            4            3            3\n",
       "Region - B            4            1            2\n",
       "Region - C            1            3            1"
      ]
     },
     "execution_count": 16,
     "metadata": {},
     "output_type": "execute_result"
    }
   ],
   "source": [
    "#constructing a contingency table\n",
    "#Each cell in the table represents a mutually exclusive combination of Region-Manager values.\n",
    "contingency_table = pd.crosstab(sales_data.Region,sales_data.Manager)\n",
    "contingency_table"
   ]
  },
  {
   "cell_type": "code",
   "execution_count": 17,
   "id": "2a319512",
   "metadata": {},
   "outputs": [
    {
     "name": "stdout",
     "output_type": "stream",
     "text": [
      "Chi-square: 3.051\n",
      "p-value: 0.549\n",
      "Degree of freedom:4\n"
     ]
    }
   ],
   "source": [
    "#calculating p-value using chi-square test\n",
    "static,p,dof,expected_values = stat.chi2_contingency(contingency_table)\n",
    "print(\"Chi-square: %.3f\\np-value: %.3f\\nDegree of freedom:%d\"%(static,p,dof))"
   ]
  },
  {
   "cell_type": "markdown",
   "id": "69efdcf1",
   "metadata": {},
   "source": [
    "### 2.e. Compare p-value and Significance level"
   ]
  },
  {
   "cell_type": "code",
   "execution_count": 18,
   "id": "bba904de",
   "metadata": {},
   "outputs": [
    {
     "name": "stdout",
     "output_type": "stream",
     "text": [
      "We accept Null Hypothesis\n"
     ]
    }
   ],
   "source": [
    "if p < alpha:\n",
    "    print(\"We reject Null Hypothesis\")\n",
    "else:\n",
    "    print(\"We accept Null Hypothesis\")"
   ]
  },
  {
   "cell_type": "markdown",
   "id": "8a94af0f",
   "metadata": {},
   "source": [
    "**There is no significant relationship between the features 'Region' and 'Manager'.**"
   ]
  }
 ],
 "metadata": {
  "kernelspec": {
   "display_name": "Python 3",
   "language": "python",
   "name": "python3"
  },
  "language_info": {
   "codemirror_mode": {
    "name": "ipython",
    "version": 3
   },
   "file_extension": ".py",
   "mimetype": "text/x-python",
   "name": "python",
   "nbconvert_exporter": "python",
   "pygments_lexer": "ipython3",
   "version": "3.8.8"
  }
 },
 "nbformat": 4,
 "nbformat_minor": 5
}
