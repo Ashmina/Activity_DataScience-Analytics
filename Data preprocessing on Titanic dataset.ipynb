{
 "cells": [
  {
   "cell_type": "markdown",
   "id": "2cef943a",
   "metadata": {},
   "source": [
    "# Data preprocessing on Titanic dataset"
   ]
  },
  {
   "cell_type": "markdown",
   "id": "502af673",
   "metadata": {},
   "source": [
    "## Submitted by *Ashmina T.*"
   ]
  },
  {
   "cell_type": "markdown",
   "id": "d9301b09",
   "metadata": {},
   "source": [
    "**Objective:** Do the following on titanic dataset.\n",
    "1. Load the dataset into python environment\n",
    "2. Make ‘PassengerId’ as the index column\n",
    "3. Check the basic details of the dataset\n",
    "4. Fill in all the missing values present in all the columns in the dataset\n",
    "5. Check and handle outliers in at least 3 columns in the dataset\n",
    "6. Do min max scaling on the feature set (Take ‘Survived’ as target)"
   ]
  },
  {
   "cell_type": "code",
   "execution_count": 1,
   "id": "31567214",
   "metadata": {},
   "outputs": [],
   "source": [
    "#importing libraries\n",
    "import numpy as np\n",
    "import pandas as pd\n",
    "import matplotlib.pyplot as plt\n",
    "import seaborn as sns\n",
    "from sklearn import preprocessing"
   ]
  },
  {
   "cell_type": "markdown",
   "id": "87d946e0",
   "metadata": {},
   "source": [
    "### 1. Load the dataset into python environment"
   ]
  },
  {
   "cell_type": "code",
   "execution_count": 2,
   "id": "eb184c7c",
   "metadata": {},
   "outputs": [],
   "source": [
    "#loading the dataset\n",
    "data = pd.read_csv('titanic_dataset.csv')"
   ]
  },
  {
   "cell_type": "code",
   "execution_count": 3,
   "id": "23c67156",
   "metadata": {},
   "outputs": [
    {
     "data": {
      "text/html": [
       "<div>\n",
       "<style scoped>\n",
       "    .dataframe tbody tr th:only-of-type {\n",
       "        vertical-align: middle;\n",
       "    }\n",
       "\n",
       "    .dataframe tbody tr th {\n",
       "        vertical-align: top;\n",
       "    }\n",
       "\n",
       "    .dataframe thead th {\n",
       "        text-align: right;\n",
       "    }\n",
       "</style>\n",
       "<table border=\"1\" class=\"dataframe\">\n",
       "  <thead>\n",
       "    <tr style=\"text-align: right;\">\n",
       "      <th></th>\n",
       "      <th>PassengerId</th>\n",
       "      <th>Survived</th>\n",
       "      <th>Pclass</th>\n",
       "      <th>Name</th>\n",
       "      <th>Sex</th>\n",
       "      <th>Age</th>\n",
       "      <th>SibSp</th>\n",
       "      <th>Parch</th>\n",
       "      <th>Ticket</th>\n",
       "      <th>Fare</th>\n",
       "      <th>Cabin</th>\n",
       "      <th>Embarked</th>\n",
       "    </tr>\n",
       "  </thead>\n",
       "  <tbody>\n",
       "    <tr>\n",
       "      <th>0</th>\n",
       "      <td>1</td>\n",
       "      <td>0</td>\n",
       "      <td>3</td>\n",
       "      <td>Braund, Mr. Owen Harris</td>\n",
       "      <td>male</td>\n",
       "      <td>22.0</td>\n",
       "      <td>1</td>\n",
       "      <td>0</td>\n",
       "      <td>A/5 21171</td>\n",
       "      <td>7.2500</td>\n",
       "      <td>NaN</td>\n",
       "      <td>S</td>\n",
       "    </tr>\n",
       "    <tr>\n",
       "      <th>1</th>\n",
       "      <td>2</td>\n",
       "      <td>1</td>\n",
       "      <td>1</td>\n",
       "      <td>Cumings, Mrs. John Bradley (Florence Briggs Th...</td>\n",
       "      <td>female</td>\n",
       "      <td>38.0</td>\n",
       "      <td>1</td>\n",
       "      <td>0</td>\n",
       "      <td>PC 17599</td>\n",
       "      <td>71.2833</td>\n",
       "      <td>C85</td>\n",
       "      <td>C</td>\n",
       "    </tr>\n",
       "    <tr>\n",
       "      <th>2</th>\n",
       "      <td>3</td>\n",
       "      <td>1</td>\n",
       "      <td>3</td>\n",
       "      <td>Heikkinen, Miss. Laina</td>\n",
       "      <td>female</td>\n",
       "      <td>26.0</td>\n",
       "      <td>0</td>\n",
       "      <td>0</td>\n",
       "      <td>STON/O2. 3101282</td>\n",
       "      <td>7.9250</td>\n",
       "      <td>NaN</td>\n",
       "      <td>S</td>\n",
       "    </tr>\n",
       "    <tr>\n",
       "      <th>3</th>\n",
       "      <td>4</td>\n",
       "      <td>1</td>\n",
       "      <td>1</td>\n",
       "      <td>Futrelle, Mrs. Jacques Heath (Lily May Peel)</td>\n",
       "      <td>female</td>\n",
       "      <td>35.0</td>\n",
       "      <td>1</td>\n",
       "      <td>0</td>\n",
       "      <td>113803</td>\n",
       "      <td>53.1000</td>\n",
       "      <td>C123</td>\n",
       "      <td>S</td>\n",
       "    </tr>\n",
       "    <tr>\n",
       "      <th>4</th>\n",
       "      <td>5</td>\n",
       "      <td>0</td>\n",
       "      <td>3</td>\n",
       "      <td>Allen, Mr. William Henry</td>\n",
       "      <td>male</td>\n",
       "      <td>35.0</td>\n",
       "      <td>0</td>\n",
       "      <td>0</td>\n",
       "      <td>373450</td>\n",
       "      <td>8.0500</td>\n",
       "      <td>NaN</td>\n",
       "      <td>S</td>\n",
       "    </tr>\n",
       "  </tbody>\n",
       "</table>\n",
       "</div>"
      ],
      "text/plain": [
       "   PassengerId  Survived  Pclass  \\\n",
       "0            1         0       3   \n",
       "1            2         1       1   \n",
       "2            3         1       3   \n",
       "3            4         1       1   \n",
       "4            5         0       3   \n",
       "\n",
       "                                                Name     Sex   Age  SibSp  \\\n",
       "0                            Braund, Mr. Owen Harris    male  22.0      1   \n",
       "1  Cumings, Mrs. John Bradley (Florence Briggs Th...  female  38.0      1   \n",
       "2                             Heikkinen, Miss. Laina  female  26.0      0   \n",
       "3       Futrelle, Mrs. Jacques Heath (Lily May Peel)  female  35.0      1   \n",
       "4                           Allen, Mr. William Henry    male  35.0      0   \n",
       "\n",
       "   Parch            Ticket     Fare Cabin Embarked  \n",
       "0      0         A/5 21171   7.2500   NaN        S  \n",
       "1      0          PC 17599  71.2833   C85        C  \n",
       "2      0  STON/O2. 3101282   7.9250   NaN        S  \n",
       "3      0            113803  53.1000  C123        S  \n",
       "4      0            373450   8.0500   NaN        S  "
      ]
     },
     "execution_count": 3,
     "metadata": {},
     "output_type": "execute_result"
    }
   ],
   "source": [
    "#displaying first 5 rows\n",
    "data.head()"
   ]
  },
  {
   "cell_type": "markdown",
   "id": "a26995af",
   "metadata": {},
   "source": [
    "This dataset contains information about the passengers of the Titanic shipinclude passenger information like name, age, gender, socio-economic class, etc. and will reveal whether they survived or not."
   ]
  },
  {
   "attachments": {},
   "cell_type": "markdown",
   "id": "a3668ded",
   "metadata": {},
   "source": [
    "**Variable Description**\n",
    "1. PassengerId : unique id denoting each passenger\n",
    "2. Survived : passenger survived(1) or died(0)\n",
    "3. Pclass : passenger class, a proxy for socio-economic status (1:Upper class, 2:Middle class, 3:Lower class)\n",
    "4. Name : name\n",
    "5. Sex : gender of passenger\n",
    "6. Age : age of passenger\n",
    "7. SibSp : number of siblings/spouses aboard the titanic\n",
    "8. Parch :number of parents/children aboard the titanic\n",
    "9. Ticket : Ticket number\n",
    "10. Fare : amount of money spent on ticket\n",
    "11. Cabin : Cabin number\n",
    "12. Embarked : port of embarkation (C = Cherbourg, Q = Queenstown, S = Southampton)"
   ]
  },
  {
   "cell_type": "markdown",
   "id": "d6bafafc",
   "metadata": {},
   "source": [
    "### 2. Make ‘PassengerId’ as the index column"
   ]
  },
  {
   "cell_type": "code",
   "execution_count": 4,
   "id": "a96226df",
   "metadata": {},
   "outputs": [
    {
     "data": {
      "text/html": [
       "<div>\n",
       "<style scoped>\n",
       "    .dataframe tbody tr th:only-of-type {\n",
       "        vertical-align: middle;\n",
       "    }\n",
       "\n",
       "    .dataframe tbody tr th {\n",
       "        vertical-align: top;\n",
       "    }\n",
       "\n",
       "    .dataframe thead th {\n",
       "        text-align: right;\n",
       "    }\n",
       "</style>\n",
       "<table border=\"1\" class=\"dataframe\">\n",
       "  <thead>\n",
       "    <tr style=\"text-align: right;\">\n",
       "      <th></th>\n",
       "      <th>Survived</th>\n",
       "      <th>Pclass</th>\n",
       "      <th>Name</th>\n",
       "      <th>Sex</th>\n",
       "      <th>Age</th>\n",
       "      <th>SibSp</th>\n",
       "      <th>Parch</th>\n",
       "      <th>Ticket</th>\n",
       "      <th>Fare</th>\n",
       "      <th>Cabin</th>\n",
       "      <th>Embarked</th>\n",
       "    </tr>\n",
       "    <tr>\n",
       "      <th>PassengerId</th>\n",
       "      <th></th>\n",
       "      <th></th>\n",
       "      <th></th>\n",
       "      <th></th>\n",
       "      <th></th>\n",
       "      <th></th>\n",
       "      <th></th>\n",
       "      <th></th>\n",
       "      <th></th>\n",
       "      <th></th>\n",
       "      <th></th>\n",
       "    </tr>\n",
       "  </thead>\n",
       "  <tbody>\n",
       "    <tr>\n",
       "      <th>1</th>\n",
       "      <td>0</td>\n",
       "      <td>3</td>\n",
       "      <td>Braund, Mr. Owen Harris</td>\n",
       "      <td>male</td>\n",
       "      <td>22.0</td>\n",
       "      <td>1</td>\n",
       "      <td>0</td>\n",
       "      <td>A/5 21171</td>\n",
       "      <td>7.2500</td>\n",
       "      <td>NaN</td>\n",
       "      <td>S</td>\n",
       "    </tr>\n",
       "    <tr>\n",
       "      <th>2</th>\n",
       "      <td>1</td>\n",
       "      <td>1</td>\n",
       "      <td>Cumings, Mrs. John Bradley (Florence Briggs Th...</td>\n",
       "      <td>female</td>\n",
       "      <td>38.0</td>\n",
       "      <td>1</td>\n",
       "      <td>0</td>\n",
       "      <td>PC 17599</td>\n",
       "      <td>71.2833</td>\n",
       "      <td>C85</td>\n",
       "      <td>C</td>\n",
       "    </tr>\n",
       "    <tr>\n",
       "      <th>3</th>\n",
       "      <td>1</td>\n",
       "      <td>3</td>\n",
       "      <td>Heikkinen, Miss. Laina</td>\n",
       "      <td>female</td>\n",
       "      <td>26.0</td>\n",
       "      <td>0</td>\n",
       "      <td>0</td>\n",
       "      <td>STON/O2. 3101282</td>\n",
       "      <td>7.9250</td>\n",
       "      <td>NaN</td>\n",
       "      <td>S</td>\n",
       "    </tr>\n",
       "    <tr>\n",
       "      <th>4</th>\n",
       "      <td>1</td>\n",
       "      <td>1</td>\n",
       "      <td>Futrelle, Mrs. Jacques Heath (Lily May Peel)</td>\n",
       "      <td>female</td>\n",
       "      <td>35.0</td>\n",
       "      <td>1</td>\n",
       "      <td>0</td>\n",
       "      <td>113803</td>\n",
       "      <td>53.1000</td>\n",
       "      <td>C123</td>\n",
       "      <td>S</td>\n",
       "    </tr>\n",
       "    <tr>\n",
       "      <th>5</th>\n",
       "      <td>0</td>\n",
       "      <td>3</td>\n",
       "      <td>Allen, Mr. William Henry</td>\n",
       "      <td>male</td>\n",
       "      <td>35.0</td>\n",
       "      <td>0</td>\n",
       "      <td>0</td>\n",
       "      <td>373450</td>\n",
       "      <td>8.0500</td>\n",
       "      <td>NaN</td>\n",
       "      <td>S</td>\n",
       "    </tr>\n",
       "  </tbody>\n",
       "</table>\n",
       "</div>"
      ],
      "text/plain": [
       "             Survived  Pclass  \\\n",
       "PassengerId                     \n",
       "1                   0       3   \n",
       "2                   1       1   \n",
       "3                   1       3   \n",
       "4                   1       1   \n",
       "5                   0       3   \n",
       "\n",
       "                                                          Name     Sex   Age  \\\n",
       "PassengerId                                                                    \n",
       "1                                      Braund, Mr. Owen Harris    male  22.0   \n",
       "2            Cumings, Mrs. John Bradley (Florence Briggs Th...  female  38.0   \n",
       "3                                       Heikkinen, Miss. Laina  female  26.0   \n",
       "4                 Futrelle, Mrs. Jacques Heath (Lily May Peel)  female  35.0   \n",
       "5                                     Allen, Mr. William Henry    male  35.0   \n",
       "\n",
       "             SibSp  Parch            Ticket     Fare Cabin Embarked  \n",
       "PassengerId                                                          \n",
       "1                1      0         A/5 21171   7.2500   NaN        S  \n",
       "2                1      0          PC 17599  71.2833   C85        C  \n",
       "3                0      0  STON/O2. 3101282   7.9250   NaN        S  \n",
       "4                1      0            113803  53.1000  C123        S  \n",
       "5                0      0            373450   8.0500   NaN        S  "
      ]
     },
     "execution_count": 4,
     "metadata": {},
     "output_type": "execute_result"
    }
   ],
   "source": [
    "#setting PassengerId column as index\n",
    "data.set_index('PassengerId',inplace=True)\n",
    "data.head()"
   ]
  },
  {
   "cell_type": "markdown",
   "id": "22667d1c",
   "metadata": {},
   "source": [
    "### 3. Check the basic details of the dataset"
   ]
  },
  {
   "cell_type": "code",
   "execution_count": 5,
   "id": "8aa3d87d",
   "metadata": {},
   "outputs": [
    {
     "data": {
      "text/plain": [
       "(891, 11)"
      ]
     },
     "execution_count": 5,
     "metadata": {},
     "output_type": "execute_result"
    }
   ],
   "source": [
    "#getting the shape of the dataset\n",
    "data.shape"
   ]
  },
  {
   "cell_type": "markdown",
   "id": "b94f6b6b",
   "metadata": {},
   "source": [
    "There are 891 rows and 11 columns in the dataset"
   ]
  },
  {
   "cell_type": "markdown",
   "id": "a3ea3205",
   "metadata": {},
   "source": [
    "This dataset contains the details of a subset of the passengers(891) who boarded the Titanic ship."
   ]
  },
  {
   "cell_type": "code",
   "execution_count": 6,
   "id": "cb7a26ef",
   "metadata": {},
   "outputs": [
    {
     "name": "stdout",
     "output_type": "stream",
     "text": [
      "<class 'pandas.core.frame.DataFrame'>\n",
      "Int64Index: 891 entries, 1 to 891\n",
      "Data columns (total 11 columns):\n",
      " #   Column    Non-Null Count  Dtype  \n",
      "---  ------    --------------  -----  \n",
      " 0   Survived  891 non-null    int64  \n",
      " 1   Pclass    891 non-null    int64  \n",
      " 2   Name      891 non-null    object \n",
      " 3   Sex       891 non-null    object \n",
      " 4   Age       714 non-null    float64\n",
      " 5   SibSp     891 non-null    int64  \n",
      " 6   Parch     891 non-null    int64  \n",
      " 7   Ticket    891 non-null    object \n",
      " 8   Fare      891 non-null    float64\n",
      " 9   Cabin     204 non-null    object \n",
      " 10  Embarked  889 non-null    object \n",
      "dtypes: float64(2), int64(4), object(5)\n",
      "memory usage: 83.5+ KB\n"
     ]
    }
   ],
   "source": [
    "#getting a concise summary of the dataset\n",
    "data.info()"
   ]
  },
  {
   "cell_type": "markdown",
   "id": "4684c0d8",
   "metadata": {},
   "source": [
    "There are 4 columns of type integer, 2 columns of type float, and 5 columns of type object. Some columns are containing non-null entries less than 891, and that indicates the absence of some values in the dataset(missing values)."
   ]
  },
  {
   "cell_type": "code",
   "execution_count": 7,
   "id": "b24056e7",
   "metadata": {},
   "outputs": [
    {
     "data": {
      "text/plain": [
       "Survived      0\n",
       "Pclass        0\n",
       "Name          0\n",
       "Sex           0\n",
       "Age         177\n",
       "SibSp         0\n",
       "Parch         0\n",
       "Ticket        0\n",
       "Fare          0\n",
       "Cabin       687\n",
       "Embarked      2\n",
       "dtype: int64"
      ]
     },
     "execution_count": 7,
     "metadata": {},
     "output_type": "execute_result"
    }
   ],
   "source": [
    "#checking for null values\n",
    "data.isna().sum()"
   ]
  },
  {
   "cell_type": "markdown",
   "id": "44dfac33",
   "metadata": {},
   "source": [
    "There are a total of 866 values missing in the dataset. 177 in the Age column, 687 in the Cabin column, and 2 in the Embarked column"
   ]
  },
  {
   "cell_type": "markdown",
   "id": "457dc3fb",
   "metadata": {},
   "source": [
    "### 4. Fill in all the missing values present in all the columns in the dataset"
   ]
  },
  {
   "cell_type": "markdown",
   "id": "ea400dc9",
   "metadata": {},
   "source": [
    "**Filling missing values in Age column**"
   ]
  },
  {
   "cell_type": "code",
   "execution_count": 8,
   "id": "9e95565d",
   "metadata": {},
   "outputs": [
    {
     "name": "stdout",
     "output_type": "stream",
     "text": [
      "Percentage of missing values in Age column : 19.87\n"
     ]
    }
   ],
   "source": [
    "#calculating the percentage of missing values in Age column\n",
    "missing_count = data['Age'].isna().sum()\n",
    "missing_percent = (missing_count / len(data))*100\n",
    "print(\"Percentage of missing values in Age column :\",round(missing_percent,2))"
   ]
  },
  {
   "cell_type": "markdown",
   "id": "32474ec3",
   "metadata": {},
   "source": [
    "Since only 19% of the values in Age column are missing, we can impute the values rather than droping the column.  \n",
    "\n",
    ">We can impute missing ages by calculating mean age of a group of 'similar passengers'. For e.g., we could choose to calculate mean of Pclass1 passengers and assign it to all Pclass1 missing ages.\n",
    "But it is quite likely that females on Pclass3 have a diff mean age than females on Pclass 1. So an even better approach is to group people based on Sex, PClass."
   ]
  },
  {
   "cell_type": "code",
   "execution_count": 9,
   "id": "ac98ebbf",
   "metadata": {},
   "outputs": [],
   "source": [
    "#grouping the dataset based on Sex and Pclass\n",
    "sex_Pclass = data.groupby(['Sex', 'Pclass'])\n",
    "\n",
    "#defining a function that imputes missing Age value in a group by the median age of that group\n",
    "def impute_median(x):\n",
    "    return x.fillna(x.median())\n",
    "#applying the above function on each group\n",
    "data.Age = sex_Pclass['Age'].apply(impute_median)"
   ]
  },
  {
   "cell_type": "markdown",
   "id": "4f894242",
   "metadata": {},
   "source": [
    "**Filling missing values in Cabin column**"
   ]
  },
  {
   "cell_type": "code",
   "execution_count": 10,
   "id": "a6d0e15f",
   "metadata": {},
   "outputs": [
    {
     "name": "stdout",
     "output_type": "stream",
     "text": [
      "Percentage of missing values in Cabin column : 77.1\n"
     ]
    }
   ],
   "source": [
    "#calculating the percentage of missing values in Cabin column\n",
    "missing_count = data['Cabin'].isna().sum()\n",
    "missing_percent = (missing_count / len(data))*100\n",
    "print(\"Percentage of missing values in Cabin column :\",round(missing_percent,2))"
   ]
  },
  {
   "cell_type": "markdown",
   "id": "ec3e1c9f",
   "metadata": {},
   "source": [
    "More than 50% of values in Cabin column are missing. So, we can drop that column from our dataset."
   ]
  },
  {
   "cell_type": "code",
   "execution_count": 11,
   "id": "f3be74ad",
   "metadata": {},
   "outputs": [],
   "source": [
    "#droping Cabin column\n",
    "data.drop('Cabin',axis=1,inplace=True)"
   ]
  },
  {
   "cell_type": "markdown",
   "id": "b9089b2e",
   "metadata": {},
   "source": [
    "**Filling missing values in Embarked column**"
   ]
  },
  {
   "cell_type": "code",
   "execution_count": 12,
   "id": "06eebfdb",
   "metadata": {},
   "outputs": [
    {
     "name": "stdout",
     "output_type": "stream",
     "text": [
      "Number of missing values in Embarked column: 2\n"
     ]
    }
   ],
   "source": [
    "#calculating the count of null values present in the Embarked column\n",
    "missing_count = data['Embarked'].isna().sum()\n",
    "print(\"Number of missing values in Embarked column:\",missing_count)"
   ]
  },
  {
   "cell_type": "markdown",
   "id": "a462fc20",
   "metadata": {},
   "source": [
    "Only 2 values are missing in Embarked column. So, we can impute those values using mode value of the Embarked column. Mode value is chosen since the Embarked column is a categorical one."
   ]
  },
  {
   "cell_type": "code",
   "execution_count": 13,
   "id": "3d3a153b",
   "metadata": {},
   "outputs": [
    {
     "name": "stdout",
     "output_type": "stream",
     "text": [
      "The most frequent category in Embarked column is 'S'(indicating Southampton)\n"
     ]
    }
   ],
   "source": [
    "#calculating the mode\n",
    "most_freq = data.Embarked.mode()\n",
    "print(\"The most frequent category in Embarked column is '{}'(indicating Southampton)\".format(most_freq[0]))"
   ]
  },
  {
   "cell_type": "code",
   "execution_count": 14,
   "id": "cdbfd429",
   "metadata": {},
   "outputs": [],
   "source": [
    "#imputing missing values using 'S'\n",
    "data['Embarked'].fillna('S',inplace=True)"
   ]
  },
  {
   "cell_type": "code",
   "execution_count": 15,
   "id": "08cc481f",
   "metadata": {},
   "outputs": [
    {
     "data": {
      "text/plain": [
       "Survived    0\n",
       "Pclass      0\n",
       "Name        0\n",
       "Sex         0\n",
       "Age         0\n",
       "SibSp       0\n",
       "Parch       0\n",
       "Ticket      0\n",
       "Fare        0\n",
       "Embarked    0\n",
       "dtype: int64"
      ]
     },
     "execution_count": 15,
     "metadata": {},
     "output_type": "execute_result"
    }
   ],
   "source": [
    "#checking if all the missing values are handled properly\n",
    "data.isna().sum()"
   ]
  },
  {
   "cell_type": "markdown",
   "id": "9b4120bf",
   "metadata": {},
   "source": [
    "Now our dataset is free from missing values."
   ]
  },
  {
   "cell_type": "markdown",
   "id": "e98f80c5",
   "metadata": {},
   "source": [
    "### 5. Check and handle outliers in at least 3 columns in the dataset"
   ]
  },
  {
   "cell_type": "code",
   "execution_count": 16,
   "id": "f740bddc",
   "metadata": {},
   "outputs": [
    {
     "data": {
      "text/plain": [
       "Index(['Survived', 'Pclass', 'Name', 'Sex', 'Age', 'SibSp', 'Parch', 'Ticket',\n",
       "       'Fare', 'Embarked'],\n",
       "      dtype='object')"
      ]
     },
     "execution_count": 16,
     "metadata": {},
     "output_type": "execute_result"
    }
   ],
   "source": [
    "data.columns"
   ]
  },
  {
   "cell_type": "code",
   "execution_count": 17,
   "id": "0d194465",
   "metadata": {},
   "outputs": [
    {
     "data": {
      "image/png": "[encoded data removed]",
      "text/plain": [
       "<Figure size 1080x720 with 6 Axes>"
      ]
     },
     "metadata": {
      "needs_background": "light"
     },
     "output_type": "display_data"
    }
   ],
   "source": [
    "#boxplot for detecting outliers\n",
    "plt.figure(figsize = (15,10))\n",
    "\n",
    "#boxplot for Survived column\n",
    "plt.subplot(2,3,1)\n",
    "plt.boxplot(data['Survived'])\n",
    "plt.title('Box plot of Survived')\n",
    "\n",
    "#boxplot for Pclass column\n",
    "plt.subplot(2,3,2)\n",
    "plt.boxplot(data['Pclass'])\n",
    "plt.title('Box plot of Pclass')\n",
    "\n",
    "#boxplot for Age column\n",
    "plt.subplot(2,3,3)\n",
    "plt.boxplot(data['Age'])\n",
    "plt.title('Box plot of Age')\n",
    "\n",
    "#boxplot for  column\n",
    "plt.subplot(2,3,4)\n",
    "plt.boxplot(data['SibSp'])\n",
    "plt.title('Box plot of SibSp')\n",
    "\n",
    "#boxplot for Parch column\n",
    "plt.subplot(2,3,5)\n",
    "plt.boxplot(data['Parch'])\n",
    "plt.title('Box plot of Parch')\n",
    "\n",
    "#boxplot for Fare column\n",
    "plt.subplot(2,3,6)\n",
    "plt.boxplot(data['Fare'])\n",
    "plt.title('Fare')\n",
    "\n",
    "plt.tight_layout()\n",
    "plt.show()"
   ]
  },
  {
   "cell_type": "markdown",
   "id": "273922b5",
   "metadata": {},
   "source": [
    "There are outliers in the columns 'Age','Fare','SibSp', and 'Parch'."
   ]
  },
  {
   "cell_type": "markdown",
   "id": "3984e7e6",
   "metadata": {},
   "source": [
    "**Handling outliers in Age column**"
   ]
  },
  {
   "cell_type": "code",
   "execution_count": 18,
   "id": "c45f7c13",
   "metadata": {},
   "outputs": [
    {
     "data": {
      "text/plain": [
       "count    891.000000\n",
       "mean      29.112424\n",
       "std       13.304424\n",
       "min        0.420000\n",
       "25%       21.500000\n",
       "50%       26.000000\n",
       "75%       36.000000\n",
       "max       80.000000\n",
       "Name: Age, dtype: float64"
      ]
     },
     "execution_count": 18,
     "metadata": {},
     "output_type": "execute_result"
    }
   ],
   "source": [
    "data.Age.describe()"
   ]
  },
  {
   "cell_type": "code",
   "execution_count": 19,
   "id": "a87510e4",
   "metadata": {},
   "outputs": [
    {
     "name": "stderr",
     "output_type": "stream",
     "text": [
      "C:\\Users\\ASHIQUE\\anaconda3\\lib\\site-packages\\seaborn\\distributions.py:2557: FutureWarning: `distplot` is a deprecated function and will be removed in a future version. Please adapt your code to use either `displot` (a figure-level function with similar flexibility) or `histplot` (an axes-level function for histograms).\n",
      "  warnings.warn(msg, FutureWarning)\n"
     ]
    },
    {
     "data": {
      "text/plain": [
       "<AxesSubplot:xlabel='Age', ylabel='Density'>"
      ]
     },
     "execution_count": 19,
     "metadata": {},
     "output_type": "execute_result"
    },
    {
     "data": {
      "image/png": "[encoded data removed]",
      "text/plain": [
       "<Figure size 432x288 with 1 Axes>"
      ]
     },
     "metadata": {
      "needs_background": "light"
     },
     "output_type": "display_data"
    }
   ],
   "source": [
    "sns.distplot(data['Age'])"
   ]
  },
  {
   "cell_type": "markdown",
   "id": "2029e0ad",
   "metadata": {},
   "source": [
    "Minimum age is 0 and maximum age is 80, that is quiet normal. So we don't have to consider those datapoints as an outlier."
   ]
  },
  {
   "cell_type": "markdown",
   "id": "de5bef6b",
   "metadata": {},
   "source": [
    "**Handling outliers in Fare column**"
   ]
  },
  {
   "cell_type": "code",
   "execution_count": 20,
   "id": "1dd4fe1e",
   "metadata": {},
   "outputs": [
    {
     "name": "stdout",
     "output_type": "stream",
     "text": [
      "Outlier: [71.2833, 263.0, 146.5208, 82.1708, 76.7292, 80.0, 83.475, 73.5, 263.0, 77.2875, 247.5208, 73.5, 77.2875, 79.2, 66.6, 69.55, 69.55, 146.5208, 69.55, 113.275, 76.2917, 90.0, 83.475, 90.0, 79.2, 86.5, 512.3292, 79.65, 153.4625, 135.6333, 77.9583, 78.85, 91.0792, 151.55, 247.5208, 151.55, 110.8833, 108.9, 83.1583, 262.375, 164.8667, 134.5, 69.55, 135.6333, 153.4625, 133.65, 66.6, 134.5, 263.0, 75.25, 69.3, 135.6333, 82.1708, 211.5, 227.525, 73.5, 120.0, 113.275, 90.0, 120.0, 263.0, 81.8583, 89.1042, 91.0792, 90.0, 78.2667, 151.55, 86.5, 108.9, 93.5, 221.7792, 106.425, 71.0, 106.425, 110.8833, 227.525, 79.65, 110.8833, 79.65, 79.2, 78.2667, 153.4625, 77.9583, 69.3, 76.7292, 73.5, 113.275, 133.65, 73.5, 512.3292, 76.7292, 211.3375, 110.8833, 227.525, 151.55, 227.525, 211.3375, 512.3292, 78.85, 262.375, 71.0, 86.5, 120.0, 77.9583, 211.3375, 79.2, 69.55, 120.0, 93.5, 80.0, 83.1583, 69.55, 89.1042, 164.8667, 69.55, 83.1583]\n",
      "Index of outlier: Int64Index([  2,  28,  32,  35,  53,  62,  63,  73,  89, 103,\n",
      "            ...\n",
      "            793, 803, 821, 830, 836, 847, 850, 857, 864, 880],\n",
      "           dtype='int64', name='PassengerId', length=116)\n"
     ]
    }
   ],
   "source": [
    "#handling outliers in Fare column using Percentiles\n",
    "#extracting Fare column\n",
    "fare_data = data['Fare']\n",
    "\n",
    "#finding quartiles\n",
    "q1 = np.percentile(fare_data,25)\n",
    "q3 = np.percentile(fare_data,75)\n",
    "\n",
    "#calculating inter quartile range\n",
    "IQR = q3-q1\n",
    "\n",
    "#calculating lower and upper limits\n",
    "lower = q1-1.5*IQR\n",
    "upper = q3+1.5*IQR\n",
    "\n",
    "#removing values outside the limits(outliers)\n",
    "#identifying the outlier\n",
    "outlier = []\n",
    "for x in fare_data:\n",
    "    if ((x>upper) or (x<lower)):\n",
    "        outlier.append(x)\n",
    "print(\"Outlier:\",outlier)\n",
    "outlier_indx = data.loc[(data['Fare']>upper) | (data['Fare']<lower)].index\n",
    "print(\"Index of outlier:\",outlier_indx)"
   ]
  },
  {
   "cell_type": "markdown",
   "id": "1f40eea5",
   "metadata": {},
   "source": [
    "There are many outliers in the Fare column. So deleting that rows is not a convenient option.  \n",
    "We can impute that using Quantile capping and flooring.  \n",
    "The data points that are lesser than lower limit(q1-1.5\\*IQR) are replaced with the lower limit value and the data points that are greater than upper limit(q3+1.5\\*IQR) are replaced with the upper limit value."
   ]
  },
  {
   "cell_type": "code",
   "execution_count": 21,
   "id": "eac03f6b",
   "metadata": {},
   "outputs": [
    {
     "data": {
      "text/html": [
       "<div>\n",
       "<style scoped>\n",
       "    .dataframe tbody tr th:only-of-type {\n",
       "        vertical-align: middle;\n",
       "    }\n",
       "\n",
       "    .dataframe tbody tr th {\n",
       "        vertical-align: top;\n",
       "    }\n",
       "\n",
       "    .dataframe thead th {\n",
       "        text-align: right;\n",
       "    }\n",
       "</style>\n",
       "<table border=\"1\" class=\"dataframe\">\n",
       "  <thead>\n",
       "    <tr style=\"text-align: right;\">\n",
       "      <th></th>\n",
       "      <th>Survived</th>\n",
       "      <th>Pclass</th>\n",
       "      <th>Name</th>\n",
       "      <th>Sex</th>\n",
       "      <th>Age</th>\n",
       "      <th>SibSp</th>\n",
       "      <th>Parch</th>\n",
       "      <th>Ticket</th>\n",
       "      <th>Fare</th>\n",
       "      <th>Embarked</th>\n",
       "    </tr>\n",
       "    <tr>\n",
       "      <th>PassengerId</th>\n",
       "      <th></th>\n",
       "      <th></th>\n",
       "      <th></th>\n",
       "      <th></th>\n",
       "      <th></th>\n",
       "      <th></th>\n",
       "      <th></th>\n",
       "      <th></th>\n",
       "      <th></th>\n",
       "      <th></th>\n",
       "    </tr>\n",
       "  </thead>\n",
       "  <tbody>\n",
       "    <tr>\n",
       "      <th>1</th>\n",
       "      <td>0</td>\n",
       "      <td>3</td>\n",
       "      <td>Braund, Mr. Owen Harris</td>\n",
       "      <td>male</td>\n",
       "      <td>22.0</td>\n",
       "      <td>1</td>\n",
       "      <td>0</td>\n",
       "      <td>A/5 21171</td>\n",
       "      <td>7.2500</td>\n",
       "      <td>S</td>\n",
       "    </tr>\n",
       "    <tr>\n",
       "      <th>2</th>\n",
       "      <td>1</td>\n",
       "      <td>1</td>\n",
       "      <td>Cumings, Mrs. John Bradley (Florence Briggs Th...</td>\n",
       "      <td>female</td>\n",
       "      <td>38.0</td>\n",
       "      <td>1</td>\n",
       "      <td>0</td>\n",
       "      <td>PC 17599</td>\n",
       "      <td>65.6344</td>\n",
       "      <td>C</td>\n",
       "    </tr>\n",
       "    <tr>\n",
       "      <th>3</th>\n",
       "      <td>1</td>\n",
       "      <td>3</td>\n",
       "      <td>Heikkinen, Miss. Laina</td>\n",
       "      <td>female</td>\n",
       "      <td>26.0</td>\n",
       "      <td>0</td>\n",
       "      <td>0</td>\n",
       "      <td>STON/O2. 3101282</td>\n",
       "      <td>7.9250</td>\n",
       "      <td>S</td>\n",
       "    </tr>\n",
       "    <tr>\n",
       "      <th>4</th>\n",
       "      <td>1</td>\n",
       "      <td>1</td>\n",
       "      <td>Futrelle, Mrs. Jacques Heath (Lily May Peel)</td>\n",
       "      <td>female</td>\n",
       "      <td>35.0</td>\n",
       "      <td>1</td>\n",
       "      <td>0</td>\n",
       "      <td>113803</td>\n",
       "      <td>53.1000</td>\n",
       "      <td>S</td>\n",
       "    </tr>\n",
       "    <tr>\n",
       "      <th>5</th>\n",
       "      <td>0</td>\n",
       "      <td>3</td>\n",
       "      <td>Allen, Mr. William Henry</td>\n",
       "      <td>male</td>\n",
       "      <td>35.0</td>\n",
       "      <td>0</td>\n",
       "      <td>0</td>\n",
       "      <td>373450</td>\n",
       "      <td>8.0500</td>\n",
       "      <td>S</td>\n",
       "    </tr>\n",
       "  </tbody>\n",
       "</table>\n",
       "</div>"
      ],
      "text/plain": [
       "             Survived  Pclass  \\\n",
       "PassengerId                     \n",
       "1                   0       3   \n",
       "2                   1       1   \n",
       "3                   1       3   \n",
       "4                   1       1   \n",
       "5                   0       3   \n",
       "\n",
       "                                                          Name     Sex   Age  \\\n",
       "PassengerId                                                                    \n",
       "1                                      Braund, Mr. Owen Harris    male  22.0   \n",
       "2            Cumings, Mrs. John Bradley (Florence Briggs Th...  female  38.0   \n",
       "3                                       Heikkinen, Miss. Laina  female  26.0   \n",
       "4                 Futrelle, Mrs. Jacques Heath (Lily May Peel)  female  35.0   \n",
       "5                                     Allen, Mr. William Henry    male  35.0   \n",
       "\n",
       "             SibSp  Parch            Ticket     Fare Embarked  \n",
       "PassengerId                                                    \n",
       "1                1      0         A/5 21171   7.2500        S  \n",
       "2                1      0          PC 17599  65.6344        C  \n",
       "3                0      0  STON/O2. 3101282   7.9250        S  \n",
       "4                1      0            113803  53.1000        S  \n",
       "5                0      0            373450   8.0500        S  "
      ]
     },
     "execution_count": 21,
     "metadata": {},
     "output_type": "execute_result"
    }
   ],
   "source": [
    "#capping/flooring the outlier at the upper and lower limits\n",
    "data['Fare'] = np.where(data['Fare']>upper,upper,\n",
    "                                     np.where(data['Fare']<lower,lower,data['Fare']))\n",
    "data.head()"
   ]
  },
  {
   "cell_type": "code",
   "execution_count": 22,
   "id": "eefb2099",
   "metadata": {},
   "outputs": [
    {
     "data": {
      "image/png": "[encoded data removed]",
      "text/plain": [
       "<Figure size 432x288 with 1 Axes>"
      ]
     },
     "metadata": {
      "needs_background": "light"
     },
     "output_type": "display_data"
    }
   ],
   "source": [
    "#checking if the outlier is handled successfully or not\n",
    "plt.boxplot(data['Fare'])\n",
    "plt.title('Box plot of Fare')\n",
    "plt.show()"
   ]
  },
  {
   "cell_type": "markdown",
   "id": "8b94939a",
   "metadata": {},
   "source": [
    "**Handling outliers in SibSp column**"
   ]
  },
  {
   "cell_type": "code",
   "execution_count": 23,
   "id": "55180bb7",
   "metadata": {},
   "outputs": [
    {
     "data": {
      "text/plain": [
       "count    891.000000\n",
       "mean       0.523008\n",
       "std        1.102743\n",
       "min        0.000000\n",
       "25%        0.000000\n",
       "50%        0.000000\n",
       "75%        1.000000\n",
       "max        8.000000\n",
       "Name: SibSp, dtype: float64"
      ]
     },
     "execution_count": 23,
     "metadata": {},
     "output_type": "execute_result"
    }
   ],
   "source": [
    "data['SibSp'].describe()"
   ]
  },
  {
   "cell_type": "code",
   "execution_count": 24,
   "id": "60e65c57",
   "metadata": {},
   "outputs": [
    {
     "data": {
      "text/plain": [
       "array([1, 0, 3, 4, 2, 5, 8], dtype=int64)"
      ]
     },
     "execution_count": 24,
     "metadata": {},
     "output_type": "execute_result"
    }
   ],
   "source": [
    "data['SibSp'].unique()"
   ]
  },
  {
   "cell_type": "markdown",
   "id": "5f6742aa",
   "metadata": {},
   "source": [
    "SibSp is containing 7 unique values. we dont have to consider that as an outlier"
   ]
  },
  {
   "cell_type": "markdown",
   "id": "3bfd7410",
   "metadata": {},
   "source": [
    "### 6. Do min max scaling on the feature set (Take ‘Survived’ as target)"
   ]
  },
  {
   "cell_type": "code",
   "execution_count": 25,
   "id": "b5ba84a6",
   "metadata": {},
   "outputs": [
    {
     "data": {
      "text/plain": [
       "Index(['Survived', 'Pclass', 'Name', 'Sex', 'Age', 'SibSp', 'Parch', 'Ticket',\n",
       "       'Fare', 'Embarked'],\n",
       "      dtype='object')"
      ]
     },
     "execution_count": 25,
     "metadata": {},
     "output_type": "execute_result"
    }
   ],
   "source": [
    "#getting column names\n",
    "data.columns"
   ]
  },
  {
   "cell_type": "markdown",
   "id": "2b05db7a",
   "metadata": {},
   "source": [
    "Here, the column 'Survived' should be taken as the target feature as it indicates whether the passenger survived the Titanic shipwreck or not.  \n",
    "We can drop the columns 'Name', 'Ticket' as they does not have any visible impact on the target column.  \n",
    "All other columns together can be taken as the feature matrix."
   ]
  },
  {
   "cell_type": "code",
   "execution_count": 26,
   "id": "391f7a7b",
   "metadata": {},
   "outputs": [],
   "source": [
    "#target vector\n",
    "y = data['Survived']\n",
    "\n",
    "#feature matrix\n",
    "X = data.drop(['Survived','Name','Ticket'],axis=1)"
   ]
  },
  {
   "cell_type": "markdown",
   "id": "7d92c90f",
   "metadata": {},
   "source": [
    "In the feature matrix, the columns 'Sex' and 'Embarked' are categorical. So, we have to convert it into numeric form(machine-readable form) before feeding it to the ML model. For that we use one-hot encoding."
   ]
  },
  {
   "cell_type": "code",
   "execution_count": 27,
   "id": "cd44876d",
   "metadata": {},
   "outputs": [
    {
     "data": {
      "text/html": [
       "<div>\n",
       "<style scoped>\n",
       "    .dataframe tbody tr th:only-of-type {\n",
       "        vertical-align: middle;\n",
       "    }\n",
       "\n",
       "    .dataframe tbody tr th {\n",
       "        vertical-align: top;\n",
       "    }\n",
       "\n",
       "    .dataframe thead th {\n",
       "        text-align: right;\n",
       "    }\n",
       "</style>\n",
       "<table border=\"1\" class=\"dataframe\">\n",
       "  <thead>\n",
       "    <tr style=\"text-align: right;\">\n",
       "      <th></th>\n",
       "      <th>Pclass</th>\n",
       "      <th>Age</th>\n",
       "      <th>SibSp</th>\n",
       "      <th>Parch</th>\n",
       "      <th>Fare</th>\n",
       "      <th>Sex_female</th>\n",
       "      <th>Sex_male</th>\n",
       "      <th>Embarked_C</th>\n",
       "      <th>Embarked_Q</th>\n",
       "      <th>Embarked_S</th>\n",
       "    </tr>\n",
       "    <tr>\n",
       "      <th>PassengerId</th>\n",
       "      <th></th>\n",
       "      <th></th>\n",
       "      <th></th>\n",
       "      <th></th>\n",
       "      <th></th>\n",
       "      <th></th>\n",
       "      <th></th>\n",
       "      <th></th>\n",
       "      <th></th>\n",
       "      <th></th>\n",
       "    </tr>\n",
       "  </thead>\n",
       "  <tbody>\n",
       "    <tr>\n",
       "      <th>1</th>\n",
       "      <td>3</td>\n",
       "      <td>22.0</td>\n",
       "      <td>1</td>\n",
       "      <td>0</td>\n",
       "      <td>7.2500</td>\n",
       "      <td>0</td>\n",
       "      <td>1</td>\n",
       "      <td>0</td>\n",
       "      <td>0</td>\n",
       "      <td>1</td>\n",
       "    </tr>\n",
       "    <tr>\n",
       "      <th>2</th>\n",
       "      <td>1</td>\n",
       "      <td>38.0</td>\n",
       "      <td>1</td>\n",
       "      <td>0</td>\n",
       "      <td>65.6344</td>\n",
       "      <td>1</td>\n",
       "      <td>0</td>\n",
       "      <td>1</td>\n",
       "      <td>0</td>\n",
       "      <td>0</td>\n",
       "    </tr>\n",
       "    <tr>\n",
       "      <th>3</th>\n",
       "      <td>3</td>\n",
       "      <td>26.0</td>\n",
       "      <td>0</td>\n",
       "      <td>0</td>\n",
       "      <td>7.9250</td>\n",
       "      <td>1</td>\n",
       "      <td>0</td>\n",
       "      <td>0</td>\n",
       "      <td>0</td>\n",
       "      <td>1</td>\n",
       "    </tr>\n",
       "    <tr>\n",
       "      <th>4</th>\n",
       "      <td>1</td>\n",
       "      <td>35.0</td>\n",
       "      <td>1</td>\n",
       "      <td>0</td>\n",
       "      <td>53.1000</td>\n",
       "      <td>1</td>\n",
       "      <td>0</td>\n",
       "      <td>0</td>\n",
       "      <td>0</td>\n",
       "      <td>1</td>\n",
       "    </tr>\n",
       "    <tr>\n",
       "      <th>5</th>\n",
       "      <td>3</td>\n",
       "      <td>35.0</td>\n",
       "      <td>0</td>\n",
       "      <td>0</td>\n",
       "      <td>8.0500</td>\n",
       "      <td>0</td>\n",
       "      <td>1</td>\n",
       "      <td>0</td>\n",
       "      <td>0</td>\n",
       "      <td>1</td>\n",
       "    </tr>\n",
       "    <tr>\n",
       "      <th>...</th>\n",
       "      <td>...</td>\n",
       "      <td>...</td>\n",
       "      <td>...</td>\n",
       "      <td>...</td>\n",
       "      <td>...</td>\n",
       "      <td>...</td>\n",
       "      <td>...</td>\n",
       "      <td>...</td>\n",
       "      <td>...</td>\n",
       "      <td>...</td>\n",
       "    </tr>\n",
       "    <tr>\n",
       "      <th>887</th>\n",
       "      <td>2</td>\n",
       "      <td>27.0</td>\n",
       "      <td>0</td>\n",
       "      <td>0</td>\n",
       "      <td>13.0000</td>\n",
       "      <td>0</td>\n",
       "      <td>1</td>\n",
       "      <td>0</td>\n",
       "      <td>0</td>\n",
       "      <td>1</td>\n",
       "    </tr>\n",
       "    <tr>\n",
       "      <th>888</th>\n",
       "      <td>1</td>\n",
       "      <td>19.0</td>\n",
       "      <td>0</td>\n",
       "      <td>0</td>\n",
       "      <td>30.0000</td>\n",
       "      <td>1</td>\n",
       "      <td>0</td>\n",
       "      <td>0</td>\n",
       "      <td>0</td>\n",
       "      <td>1</td>\n",
       "    </tr>\n",
       "    <tr>\n",
       "      <th>889</th>\n",
       "      <td>3</td>\n",
       "      <td>21.5</td>\n",
       "      <td>1</td>\n",
       "      <td>2</td>\n",
       "      <td>23.4500</td>\n",
       "      <td>1</td>\n",
       "      <td>0</td>\n",
       "      <td>0</td>\n",
       "      <td>0</td>\n",
       "      <td>1</td>\n",
       "    </tr>\n",
       "    <tr>\n",
       "      <th>890</th>\n",
       "      <td>1</td>\n",
       "      <td>26.0</td>\n",
       "      <td>0</td>\n",
       "      <td>0</td>\n",
       "      <td>30.0000</td>\n",
       "      <td>0</td>\n",
       "      <td>1</td>\n",
       "      <td>1</td>\n",
       "      <td>0</td>\n",
       "      <td>0</td>\n",
       "    </tr>\n",
       "    <tr>\n",
       "      <th>891</th>\n",
       "      <td>3</td>\n",
       "      <td>32.0</td>\n",
       "      <td>0</td>\n",
       "      <td>0</td>\n",
       "      <td>7.7500</td>\n",
       "      <td>0</td>\n",
       "      <td>1</td>\n",
       "      <td>0</td>\n",
       "      <td>1</td>\n",
       "      <td>0</td>\n",
       "    </tr>\n",
       "  </tbody>\n",
       "</table>\n",
       "<p>891 rows × 10 columns</p>\n",
       "</div>"
      ],
      "text/plain": [
       "             Pclass   Age  SibSp  Parch     Fare  Sex_female  Sex_male  \\\n",
       "PassengerId                                                              \n",
       "1                 3  22.0      1      0   7.2500           0         1   \n",
       "2                 1  38.0      1      0  65.6344           1         0   \n",
       "3                 3  26.0      0      0   7.9250           1         0   \n",
       "4                 1  35.0      1      0  53.1000           1         0   \n",
       "5                 3  35.0      0      0   8.0500           0         1   \n",
       "...             ...   ...    ...    ...      ...         ...       ...   \n",
       "887               2  27.0      0      0  13.0000           0         1   \n",
       "888               1  19.0      0      0  30.0000           1         0   \n",
       "889               3  21.5      1      2  23.4500           1         0   \n",
       "890               1  26.0      0      0  30.0000           0         1   \n",
       "891               3  32.0      0      0   7.7500           0         1   \n",
       "\n",
       "             Embarked_C  Embarked_Q  Embarked_S  \n",
       "PassengerId                                      \n",
       "1                     0           0           1  \n",
       "2                     1           0           0  \n",
       "3                     0           0           1  \n",
       "4                     0           0           1  \n",
       "5                     0           0           1  \n",
       "...                 ...         ...         ...  \n",
       "887                   0           0           1  \n",
       "888                   0           0           1  \n",
       "889                   0           0           1  \n",
       "890                   1           0           0  \n",
       "891                   0           1           0  \n",
       "\n",
       "[891 rows x 10 columns]"
      ]
     },
     "execution_count": 27,
     "metadata": {},
     "output_type": "execute_result"
    }
   ],
   "source": [
    "#one-hot encoding\n",
    "X = pd.get_dummies(X, columns=['Sex','Embarked'])\n",
    "X"
   ]
  },
  {
   "cell_type": "code",
   "execution_count": 28,
   "id": "5511ef6a",
   "metadata": {},
   "outputs": [
    {
     "data": {
      "text/html": [
       "<div>\n",
       "<style scoped>\n",
       "    .dataframe tbody tr th:only-of-type {\n",
       "        vertical-align: middle;\n",
       "    }\n",
       "\n",
       "    .dataframe tbody tr th {\n",
       "        vertical-align: top;\n",
       "    }\n",
       "\n",
       "    .dataframe thead th {\n",
       "        text-align: right;\n",
       "    }\n",
       "</style>\n",
       "<table border=\"1\" class=\"dataframe\">\n",
       "  <thead>\n",
       "    <tr style=\"text-align: right;\">\n",
       "      <th></th>\n",
       "      <th>Pclass</th>\n",
       "      <th>Age</th>\n",
       "      <th>SibSp</th>\n",
       "      <th>Parch</th>\n",
       "      <th>Fare</th>\n",
       "      <th>Sex_female</th>\n",
       "      <th>Sex_male</th>\n",
       "      <th>Embarked_C</th>\n",
       "      <th>Embarked_Q</th>\n",
       "      <th>Embarked_S</th>\n",
       "    </tr>\n",
       "  </thead>\n",
       "  <tbody>\n",
       "    <tr>\n",
       "      <th>count</th>\n",
       "      <td>891.000000</td>\n",
       "      <td>891.000000</td>\n",
       "      <td>891.000000</td>\n",
       "      <td>891.000000</td>\n",
       "      <td>891.000000</td>\n",
       "      <td>891.000000</td>\n",
       "      <td>891.000000</td>\n",
       "      <td>891.000000</td>\n",
       "      <td>891.000000</td>\n",
       "      <td>891.000000</td>\n",
       "    </tr>\n",
       "    <tr>\n",
       "      <th>mean</th>\n",
       "      <td>2.308642</td>\n",
       "      <td>29.112424</td>\n",
       "      <td>0.523008</td>\n",
       "      <td>0.381594</td>\n",
       "      <td>24.046813</td>\n",
       "      <td>0.352413</td>\n",
       "      <td>0.647587</td>\n",
       "      <td>0.188552</td>\n",
       "      <td>0.086420</td>\n",
       "      <td>0.725028</td>\n",
       "    </tr>\n",
       "    <tr>\n",
       "      <th>std</th>\n",
       "      <td>0.836071</td>\n",
       "      <td>13.304424</td>\n",
       "      <td>1.102743</td>\n",
       "      <td>0.806057</td>\n",
       "      <td>20.481625</td>\n",
       "      <td>0.477990</td>\n",
       "      <td>0.477990</td>\n",
       "      <td>0.391372</td>\n",
       "      <td>0.281141</td>\n",
       "      <td>0.446751</td>\n",
       "    </tr>\n",
       "    <tr>\n",
       "      <th>min</th>\n",
       "      <td>1.000000</td>\n",
       "      <td>0.420000</td>\n",
       "      <td>0.000000</td>\n",
       "      <td>0.000000</td>\n",
       "      <td>0.000000</td>\n",
       "      <td>0.000000</td>\n",
       "      <td>0.000000</td>\n",
       "      <td>0.000000</td>\n",
       "      <td>0.000000</td>\n",
       "      <td>0.000000</td>\n",
       "    </tr>\n",
       "    <tr>\n",
       "      <th>25%</th>\n",
       "      <td>2.000000</td>\n",
       "      <td>21.500000</td>\n",
       "      <td>0.000000</td>\n",
       "      <td>0.000000</td>\n",
       "      <td>7.910400</td>\n",
       "      <td>0.000000</td>\n",
       "      <td>0.000000</td>\n",
       "      <td>0.000000</td>\n",
       "      <td>0.000000</td>\n",
       "      <td>0.000000</td>\n",
       "    </tr>\n",
       "    <tr>\n",
       "      <th>50%</th>\n",
       "      <td>3.000000</td>\n",
       "      <td>26.000000</td>\n",
       "      <td>0.000000</td>\n",
       "      <td>0.000000</td>\n",
       "      <td>14.454200</td>\n",
       "      <td>0.000000</td>\n",
       "      <td>1.000000</td>\n",
       "      <td>0.000000</td>\n",
       "      <td>0.000000</td>\n",
       "      <td>1.000000</td>\n",
       "    </tr>\n",
       "    <tr>\n",
       "      <th>75%</th>\n",
       "      <td>3.000000</td>\n",
       "      <td>36.000000</td>\n",
       "      <td>1.000000</td>\n",
       "      <td>0.000000</td>\n",
       "      <td>31.000000</td>\n",
       "      <td>1.000000</td>\n",
       "      <td>1.000000</td>\n",
       "      <td>0.000000</td>\n",
       "      <td>0.000000</td>\n",
       "      <td>1.000000</td>\n",
       "    </tr>\n",
       "    <tr>\n",
       "      <th>max</th>\n",
       "      <td>3.000000</td>\n",
       "      <td>80.000000</td>\n",
       "      <td>8.000000</td>\n",
       "      <td>6.000000</td>\n",
       "      <td>65.634400</td>\n",
       "      <td>1.000000</td>\n",
       "      <td>1.000000</td>\n",
       "      <td>1.000000</td>\n",
       "      <td>1.000000</td>\n",
       "      <td>1.000000</td>\n",
       "    </tr>\n",
       "  </tbody>\n",
       "</table>\n",
       "</div>"
      ],
      "text/plain": [
       "           Pclass         Age       SibSp       Parch        Fare  Sex_female  \\\n",
       "count  891.000000  891.000000  891.000000  891.000000  891.000000  891.000000   \n",
       "mean     2.308642   29.112424    0.523008    0.381594   24.046813    0.352413   \n",
       "std      0.836071   13.304424    1.102743    0.806057   20.481625    0.477990   \n",
       "min      1.000000    0.420000    0.000000    0.000000    0.000000    0.000000   \n",
       "25%      2.000000   21.500000    0.000000    0.000000    7.910400    0.000000   \n",
       "50%      3.000000   26.000000    0.000000    0.000000   14.454200    0.000000   \n",
       "75%      3.000000   36.000000    1.000000    0.000000   31.000000    1.000000   \n",
       "max      3.000000   80.000000    8.000000    6.000000   65.634400    1.000000   \n",
       "\n",
       "         Sex_male  Embarked_C  Embarked_Q  Embarked_S  \n",
       "count  891.000000  891.000000  891.000000  891.000000  \n",
       "mean     0.647587    0.188552    0.086420    0.725028  \n",
       "std      0.477990    0.391372    0.281141    0.446751  \n",
       "min      0.000000    0.000000    0.000000    0.000000  \n",
       "25%      0.000000    0.000000    0.000000    0.000000  \n",
       "50%      1.000000    0.000000    0.000000    1.000000  \n",
       "75%      1.000000    0.000000    0.000000    1.000000  \n",
       "max      1.000000    1.000000    1.000000    1.000000  "
      ]
     },
     "execution_count": 28,
     "metadata": {},
     "output_type": "execute_result"
    }
   ],
   "source": [
    "#getting statistical summary of the feature matrix\n",
    "X.describe()"
   ]
  },
  {
   "cell_type": "markdown",
   "id": "f93c6554",
   "metadata": {},
   "source": [
    "Different columns in the feature matrix are in different scales. We should standardize the independent features in the data in a fixed range. Here we are going to use min max scaling for this purpose."
   ]
  },
  {
   "cell_type": "code",
   "execution_count": 29,
   "id": "1a2231c0",
   "metadata": {},
   "outputs": [
    {
     "data": {
      "text/html": [
       "<div>\n",
       "<style scoped>\n",
       "    .dataframe tbody tr th:only-of-type {\n",
       "        vertical-align: middle;\n",
       "    }\n",
       "\n",
       "    .dataframe tbody tr th {\n",
       "        vertical-align: top;\n",
       "    }\n",
       "\n",
       "    .dataframe thead th {\n",
       "        text-align: right;\n",
       "    }\n",
       "</style>\n",
       "<table border=\"1\" class=\"dataframe\">\n",
       "  <thead>\n",
       "    <tr style=\"text-align: right;\">\n",
       "      <th></th>\n",
       "      <th>0</th>\n",
       "      <th>1</th>\n",
       "      <th>2</th>\n",
       "      <th>3</th>\n",
       "      <th>4</th>\n",
       "      <th>5</th>\n",
       "      <th>6</th>\n",
       "      <th>7</th>\n",
       "      <th>8</th>\n",
       "      <th>9</th>\n",
       "    </tr>\n",
       "  </thead>\n",
       "  <tbody>\n",
       "    <tr>\n",
       "      <th>count</th>\n",
       "      <td>891.000000</td>\n",
       "      <td>891.000000</td>\n",
       "      <td>891.000000</td>\n",
       "      <td>891.000000</td>\n",
       "      <td>891.000000</td>\n",
       "      <td>891.000000</td>\n",
       "      <td>891.000000</td>\n",
       "      <td>891.000000</td>\n",
       "      <td>891.000000</td>\n",
       "      <td>891.000000</td>\n",
       "    </tr>\n",
       "    <tr>\n",
       "      <th>mean</th>\n",
       "      <td>0.654321</td>\n",
       "      <td>0.360548</td>\n",
       "      <td>0.065376</td>\n",
       "      <td>0.063599</td>\n",
       "      <td>0.366375</td>\n",
       "      <td>0.352413</td>\n",
       "      <td>0.647587</td>\n",
       "      <td>0.188552</td>\n",
       "      <td>0.086420</td>\n",
       "      <td>0.725028</td>\n",
       "    </tr>\n",
       "    <tr>\n",
       "      <th>std</th>\n",
       "      <td>0.418036</td>\n",
       "      <td>0.167183</td>\n",
       "      <td>0.137843</td>\n",
       "      <td>0.134343</td>\n",
       "      <td>0.312056</td>\n",
       "      <td>0.477990</td>\n",
       "      <td>0.477990</td>\n",
       "      <td>0.391372</td>\n",
       "      <td>0.281141</td>\n",
       "      <td>0.446751</td>\n",
       "    </tr>\n",
       "    <tr>\n",
       "      <th>min</th>\n",
       "      <td>0.000000</td>\n",
       "      <td>0.000000</td>\n",
       "      <td>0.000000</td>\n",
       "      <td>0.000000</td>\n",
       "      <td>0.000000</td>\n",
       "      <td>0.000000</td>\n",
       "      <td>0.000000</td>\n",
       "      <td>0.000000</td>\n",
       "      <td>0.000000</td>\n",
       "      <td>0.000000</td>\n",
       "    </tr>\n",
       "    <tr>\n",
       "      <th>25%</th>\n",
       "      <td>0.500000</td>\n",
       "      <td>0.264891</td>\n",
       "      <td>0.000000</td>\n",
       "      <td>0.000000</td>\n",
       "      <td>0.120522</td>\n",
       "      <td>0.000000</td>\n",
       "      <td>0.000000</td>\n",
       "      <td>0.000000</td>\n",
       "      <td>0.000000</td>\n",
       "      <td>0.000000</td>\n",
       "    </tr>\n",
       "    <tr>\n",
       "      <th>50%</th>\n",
       "      <td>1.000000</td>\n",
       "      <td>0.321438</td>\n",
       "      <td>0.000000</td>\n",
       "      <td>0.000000</td>\n",
       "      <td>0.220223</td>\n",
       "      <td>0.000000</td>\n",
       "      <td>1.000000</td>\n",
       "      <td>0.000000</td>\n",
       "      <td>0.000000</td>\n",
       "      <td>1.000000</td>\n",
       "    </tr>\n",
       "    <tr>\n",
       "      <th>75%</th>\n",
       "      <td>1.000000</td>\n",
       "      <td>0.447097</td>\n",
       "      <td>0.125000</td>\n",
       "      <td>0.000000</td>\n",
       "      <td>0.472313</td>\n",
       "      <td>1.000000</td>\n",
       "      <td>1.000000</td>\n",
       "      <td>0.000000</td>\n",
       "      <td>0.000000</td>\n",
       "      <td>1.000000</td>\n",
       "    </tr>\n",
       "    <tr>\n",
       "      <th>max</th>\n",
       "      <td>1.000000</td>\n",
       "      <td>1.000000</td>\n",
       "      <td>1.000000</td>\n",
       "      <td>1.000000</td>\n",
       "      <td>1.000000</td>\n",
       "      <td>1.000000</td>\n",
       "      <td>1.000000</td>\n",
       "      <td>1.000000</td>\n",
       "      <td>1.000000</td>\n",
       "      <td>1.000000</td>\n",
       "    </tr>\n",
       "  </tbody>\n",
       "</table>\n",
       "</div>"
      ],
      "text/plain": [
       "                0           1           2           3           4           5  \\\n",
       "count  891.000000  891.000000  891.000000  891.000000  891.000000  891.000000   \n",
       "mean     0.654321    0.360548    0.065376    0.063599    0.366375    0.352413   \n",
       "std      0.418036    0.167183    0.137843    0.134343    0.312056    0.477990   \n",
       "min      0.000000    0.000000    0.000000    0.000000    0.000000    0.000000   \n",
       "25%      0.500000    0.264891    0.000000    0.000000    0.120522    0.000000   \n",
       "50%      1.000000    0.321438    0.000000    0.000000    0.220223    0.000000   \n",
       "75%      1.000000    0.447097    0.125000    0.000000    0.472313    1.000000   \n",
       "max      1.000000    1.000000    1.000000    1.000000    1.000000    1.000000   \n",
       "\n",
       "                6           7           8           9  \n",
       "count  891.000000  891.000000  891.000000  891.000000  \n",
       "mean     0.647587    0.188552    0.086420    0.725028  \n",
       "std      0.477990    0.391372    0.281141    0.446751  \n",
       "min      0.000000    0.000000    0.000000    0.000000  \n",
       "25%      0.000000    0.000000    0.000000    0.000000  \n",
       "50%      1.000000    0.000000    0.000000    1.000000  \n",
       "75%      1.000000    0.000000    0.000000    1.000000  \n",
       "max      1.000000    1.000000    1.000000    1.000000  "
      ]
     },
     "execution_count": 29,
     "metadata": {},
     "output_type": "execute_result"
    }
   ],
   "source": [
    "#creating an instance of min max scaler\n",
    "min_max = preprocessing.MinMaxScaler(feature_range=(0,1))\n",
    "\n",
    "#applying min max scaler on X\n",
    "X = min_max.fit_transform(X)\n",
    "\n",
    "#converting it into dataframe\n",
    "X = pd.DataFrame(X)\n",
    "\n",
    "#checking statistical summary\n",
    "X.describe()"
   ]
  },
  {
   "cell_type": "code",
   "execution_count": 30,
   "id": "8c27e765",
   "metadata": {},
   "outputs": [
    {
     "name": "stdout",
     "output_type": "stream",
     "text": [
      "MSE is: 0.1326000230543121\n",
      "R squared value is: 0.4531998277112981\n"
     ]
    }
   ],
   "source": [
    "#linear regression model\n",
    "#splitting data into training and testing set\n",
    "from sklearn.model_selection import train_test_split\n",
    "X_train, X_test, y_train, y_test = train_test_split(X,y,random_state=42,test_size=0.2)\n",
    "\n",
    "#importing model\n",
    "from sklearn import linear_model\n",
    "lr = linear_model.LinearRegression()\n",
    "\n",
    "#training the model\n",
    "model = lr.fit(X_train,y_train)\n",
    "\n",
    "#testing the model\n",
    "predictions = model.predict(X_test)\n",
    "\n",
    "#calculating MSE\n",
    "from sklearn.metrics import mean_squared_error\n",
    "print(\"MSE is:\",mean_squared_error(y_test,predictions))\n",
    "\n",
    "#calculating R-square value\n",
    "from sklearn.metrics import r2_score\n",
    "print('R squared value is:',r2_score(y_test,predictions))"
   ]
  }
 ],
 "metadata": {
  "kernelspec": {
   "display_name": "Python 3",
   "language": "python",
   "name": "python3"
  },
  "language_info": {
   "codemirror_mode": {
    "name": "ipython",
    "version": 3
   },
   "file_extension": ".py",
   "mimetype": "text/x-python",
   "name": "python",
   "nbconvert_exporter": "python",
   "pygments_lexer": "ipython3",
   "version": "3.8.8"
  }
 },
 "nbformat": 4,
 "nbformat_minor": 5
}
